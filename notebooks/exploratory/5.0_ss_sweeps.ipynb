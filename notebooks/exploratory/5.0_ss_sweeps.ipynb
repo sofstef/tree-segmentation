{
 "cells": [
  {
   "cell_type": "code",
   "execution_count": 2,
   "id": "93c0ecc6-e68f-4072-9117-66e3d52957e8",
   "metadata": {},
   "outputs": [
    {
     "name": "stderr",
     "output_type": "stream",
     "text": [
      "/Users/sofija/miniforge3/envs/torch_m1/lib/python3.8/site-packages/tqdm/auto.py:22: TqdmWarning: IProgress not found. Please update jupyter and ipywidgets. See https://ipywidgets.readthedocs.io/en/stable/user_install.html\n",
      "  from .autonotebook import tqdm as notebook_tqdm\n"
     ]
    }
   ],
   "source": [
    "import os\n",
    "import numpy as np\n",
    "import torch\n",
    "from torch import Tensor\n",
    "import torch.nn as nn\n",
    "import torch.nn.functional as F\n",
    "\n",
    "import torchvision\n",
    "from torchvision import transforms\n",
    "from torchmetrics import (\n",
    "    Accuracy,\n",
    "    MetricCollection,\n",
    "    JaccardIndex,\n",
    "    F1Score,\n",
    "    MeanSquaredError,\n",
    ")\n",
    "import segmentation_models_pytorch as smp\n",
    "from pytorch_toolbelt.losses import JaccardLoss, BinaryFocalLoss\n",
    "from torch.utils.data import Dataset, random_split, DataLoader\n",
    "\n",
    "from pytorch_lightning import Trainer\n",
    "from typing import Any, Tuple, Optional, Callable, cast\n",
    "\n",
    "import matplotlib.pyplot as plt\n",
    "import wandb\n",
    "import tqdm as notebook_tqdm\n",
    "import random"
   ]
  },
  {
   "cell_type": "code",
   "execution_count": 3,
   "id": "b1e2326f-39ef-40dd-bf38-738fd6fadc05",
   "metadata": {},
   "outputs": [],
   "source": [
    "import pytorch_lightning as pl\n",
    "from pytorch_lightning.callbacks import Callback\n",
    "from pytorch_lightning.loggers import WandbLogger\n",
    "from pytorch_lightning.callbacks import ModelCheckpoint"
   ]
  },
  {
   "cell_type": "code",
   "execution_count": 4,
   "id": "cc0efaa3-302b-4a18-ad33-d38762dbcb83",
   "metadata": {},
   "outputs": [],
   "source": [
    "import segmentation_models_pytorch as smp"
   ]
  },
  {
   "cell_type": "code",
   "execution_count": 5,
   "id": "8ad1c717-bc26-4f09-ad0f-e2a9481c2fd1",
   "metadata": {},
   "outputs": [
    {
     "name": "stderr",
     "output_type": "stream",
     "text": [
      "Global seed set to 27\n"
     ]
    },
    {
     "data": {
      "text/plain": [
       "27"
      ]
     },
     "execution_count": 5,
     "metadata": {},
     "output_type": "execute_result"
    }
   ],
   "source": [
    "pl.seed_everything(27)"
   ]
  },
  {
   "cell_type": "code",
   "execution_count": 6,
   "id": "0b5863de-04c5-485e-97df-6c28c7c9f8f5",
   "metadata": {},
   "outputs": [
    {
     "name": "stderr",
     "output_type": "stream",
     "text": [
      "\u001b[34m\u001b[1mwandb\u001b[0m: Currently logged in as: \u001b[33msofstef\u001b[0m (\u001b[33mtrees\u001b[0m). Use \u001b[1m`wandb login --relogin`\u001b[0m to force relogin\n"
     ]
    },
    {
     "data": {
      "text/plain": [
       "True"
      ]
     },
     "execution_count": 6,
     "metadata": {},
     "output_type": "execute_result"
    }
   ],
   "source": [
    "wandb.login()"
   ]
  },
  {
   "cell_type": "code",
   "execution_count": 7,
   "id": "d0d15fe7-7395-450c-a210-2fb52b803435",
   "metadata": {},
   "outputs": [],
   "source": [
    "%load_ext autoreload\n",
    "%autoreload 2"
   ]
  },
  {
   "cell_type": "code",
   "execution_count": 8,
   "id": "b0811383-784b-4059-af06-6e1728189185",
   "metadata": {},
   "outputs": [],
   "source": [
    "%load_ext lab_black"
   ]
  },
  {
   "cell_type": "code",
   "execution_count": 9,
   "id": "5788578f-7253-49f4-a2ab-776affb93c19",
   "metadata": {},
   "outputs": [
    {
     "data": {
      "text/plain": [
       "'/Users/sofija/Ai4er/mres/tree-segmentation'"
      ]
     },
     "execution_count": 9,
     "metadata": {},
     "output_type": "execute_result"
    }
   ],
   "source": [
    "os.chdir(\"/Users/sofija/Ai4er/mres/tree-segmentation\")\n",
    "os.getcwd()"
   ]
  },
  {
   "cell_type": "code",
   "execution_count": 10,
   "id": "5da8b36d-b17f-48bc-84bd-a42d93daa01a",
   "metadata": {},
   "outputs": [],
   "source": [
    "from src.datasets import TreeSegments\n",
    "from src.evaluation import BinaryIoU\n",
    "from src.datamodules import TreeDataModule\n",
    "from src.models import UNet, SegModel\n",
    "from src.evaluation import LogPredictionSamplesCallback"
   ]
  },
  {
   "cell_type": "code",
   "execution_count": 11,
   "id": "348dfa1b-d5c9-4e15-a7e4-92a1562416c8",
   "metadata": {},
   "outputs": [],
   "source": [
    "dm = TreeDataModule(\n",
    "    data_dir=\"data/raw/samples/\",\n",
    "    target_dir=\"data/segments/\",\n",
    "    test_data_dir=\"data/test_samples\",\n",
    "    test_target_dir=\"data/test_segments/\",\n",
    "    batch_size=8,\n",
    "    num_workers=0,\n",
    "    drop_last_batch=True,\n",
    ")"
   ]
  },
  {
   "cell_type": "code",
   "execution_count": 12,
   "id": "10513194-aca6-4891-a231-db31fa579b1c",
   "metadata": {},
   "outputs": [],
   "source": [
    "best_path = \"lightning_logs/colab_ckpt/epoch=78-step=632-v1.ckpt\""
   ]
  },
  {
   "cell_type": "code",
   "execution_count": 13,
   "id": "917e8c91-1d7e-4597-ad4d-d1235626cc1c",
   "metadata": {},
   "outputs": [],
   "source": [
    "model = SegModel.load_from_checkpoint(checkpoint_path=best_path)"
   ]
  },
  {
   "cell_type": "code",
   "execution_count": 14,
   "id": "50123125-c3a8-4edd-be7b-9a4ee215a3e9",
   "metadata": {},
   "outputs": [
    {
     "name": "stderr",
     "output_type": "stream",
     "text": [
      "/Users/sofija/miniforge3/envs/torch_m1/lib/python3.8/site-packages/pytorch_lightning/loops/utilities.py:91: PossibleUserWarning: `max_epochs` was not set. Setting it to 1000 epochs. To train without an epoch limit, set `max_epochs=-1`.\n",
      "  rank_zero_warn(\n",
      "GPU available: False, used: False\n",
      "TPU available: False, using: 0 TPU cores\n",
      "IPU available: False, using: 0 IPUs\n",
      "HPU available: False, using: 0 HPUs\n"
     ]
    }
   ],
   "source": [
    "trainer = Trainer()"
   ]
  },
  {
   "cell_type": "code",
   "execution_count": 21,
   "id": "98204308-1f8a-41b6-aab5-8e1e48b82647",
   "metadata": {},
   "outputs": [
    {
     "data": {
      "text/html": [
       "Synced <strong style=\"color:#cdcd00\">happy-sweep-3</strong>: <a href=\"https://wandb.ai/trees/Trees/runs/7mh9or62\" target=\"_blank\">https://wandb.ai/trees/Trees/runs/7mh9or62</a><br/>Synced 5 W&B file(s), 0 media file(s), 0 artifact file(s) and 0 other file(s)"
      ],
      "text/plain": [
       "<IPython.core.display.HTML object>"
      ]
     },
     "metadata": {},
     "output_type": "display_data"
    },
    {
     "data": {
      "text/html": [
       "Find logs at: <code>./wandb/run-20220620_172130-7mh9or62/logs</code>"
      ],
      "text/plain": [
       "<IPython.core.display.HTML object>"
      ]
     },
     "metadata": {},
     "output_type": "display_data"
    }
   ],
   "source": [
    "# dropout, seeing whether frozen/unfrozen weights make a difference if this is possible here\n",
    "sweep_config = {\n",
    "    \"entity\": \"trees\",\n",
    "    \"project\": \"Trees\",\n",
    "    \"method\": \"random\",\n",
    "    \"metric\": {\"name\": \"val_loss\", \"goal\": \"minimize\"},\n",
    "    \"parameters\": {\n",
    "        \"encoder_name\": {\"values\": [\"resnet18\", \"resnet34\", \"resnet50\"]},\n",
    "        # dropout is not directly specified in the smp models but through aux parameters\n",
    "        # \"dropout\": {\"values\": [0.3, 0.4, 0.5]},\n",
    "        \"batch_size\": {\n",
    "            \"distribution\": \"q_log_uniform_values\",\n",
    "            \"q\": 8,\n",
    "            \"min\": 8,\n",
    "            \"max\": 64,\n",
    "        },\n",
    "        \"lr\": {\n",
    "            # a flat distribution between 0.0001 and 0.01\n",
    "            \"distribution\": \"uniform\",\n",
    "            \"min\": 1e-4,\n",
    "            \"max\": 1e-1,\n",
    "            # log uniform distribution between exp(min) and exp(max)\n",
    "            # \"distribution\": \"log_uniform\",\n",
    "            # \"min\": -9.21,  # exp(-9.21) = 1e-4\n",
    "            # \"max\": -4.61,  # exp(-4.61) = 1e-2\n",
    "        },\n",
    "        \"epochs\": {\"value\": 5},\n",
    "        \"encoder_weights\": {\"value\": \"imagenet\"},\n",
    "        \"loss\": {\"value\": \"dice\"},\n",
    "        \"num_classes\": {\"value\": 1},\n",
    "        \"in_channels\": {\"value\": 1},\n",
    "        \"jaccard_average\": {\"value\": \"macro\"},\n",
    "    },\n",
    "    \"early_terminate\": {\n",
    "        \"type\": \"hyperband\",\n",
    "        \"min_iter\": 3,\n",
    "    },\n",
    "}"
   ]
  },
  {
   "cell_type": "code",
   "execution_count": 22,
   "id": "37c42208-6ede-4c6e-b682-500e2189c17d",
   "metadata": {},
   "outputs": [
    {
     "name": "stdout",
     "output_type": "stream",
     "text": [
      "Create sweep with ID: kja7hfs1\n",
      "Sweep URL: https://wandb.ai/trees/Trees/sweeps/kja7hfs1\n"
     ]
    }
   ],
   "source": [
    "sweep_id = wandb.sweep(sweep_config, project=\"Trees\")"
   ]
  },
  {
   "cell_type": "markdown",
   "id": "557559d2-e0ac-4c55-9a61-223871dc19a9",
   "metadata": {},
   "source": [
    "Questions about setting sweeps up:\n",
    "\n",
    "1. Which search strategy should I use? \n",
    "2. Should batch size be passed explicitly to datamodule (example doesn't seem to do that)?\n",
    "3. Should I vary the number of epochs?"
   ]
  },
  {
   "cell_type": "code",
   "execution_count": 23,
   "id": "fe9e26c4-785a-456e-8f3a-5df5f4e46822",
   "metadata": {},
   "outputs": [],
   "source": [
    "def sweep_iteration():\n",
    "    # set up W&B logger\n",
    "    wandb.init()  # required to have access to `wandb.config`\n",
    "    wandb_logger = WandbLogger()\n",
    "\n",
    "    # setup data\n",
    "    dm = TreeDataModule(\n",
    "        data_dir=\"data/train/samples/\",\n",
    "        target_dir=\"data/train/segments/\",\n",
    "        test_data_dir=\"data/test/samples\",\n",
    "        test_target_dir=\"data/test/segments/\",\n",
    "        batch_size=wandb.config.batch_size,\n",
    "        drop_last_batch=True,\n",
    "    )\n",
    "\n",
    "    # setup model - note how we refer to sweep parameters with wandb.config\n",
    "    model = SegModel(\n",
    "        in_channels=wandb.config.in_channels,\n",
    "        encoder_name=wandb.config.encoder_name,\n",
    "        encoder_weights=wandb.config.encoder_weights,\n",
    "        num_classes=wandb.config.num_classes,\n",
    "        loss=wandb.config.loss,\n",
    "        ignore_zeros=None,\n",
    "        lr=wandb.config.lr,\n",
    "        jaccard_average=wandb.config.jaccard_average,\n",
    "    )\n",
    "\n",
    "    # setup Trainer\n",
    "    trainer = Trainer(\n",
    "        logger=wandb_logger,\n",
    "        # callbacks=callbacks,\n",
    "        max_epochs=wandb.config.epochs,\n",
    "    )\n",
    "\n",
    "    # train\n",
    "    trainer.fit(model, dm)"
   ]
  },
  {
   "cell_type": "code",
   "execution_count": 24,
   "id": "6621c90d-e959-4eda-a8d0-ad1ea0f0fdb8",
   "metadata": {},
   "outputs": [
    {
     "name": "stderr",
     "output_type": "stream",
     "text": [
      "\u001b[34m\u001b[1mwandb\u001b[0m: Agent Starting Run: o6xd5bay with config:\n",
      "\u001b[34m\u001b[1mwandb\u001b[0m: \tbatch_size: 16\n",
      "\u001b[34m\u001b[1mwandb\u001b[0m: \tencoder_name: resnet18\n",
      "\u001b[34m\u001b[1mwandb\u001b[0m: \tencoder_weights: imagenet\n",
      "\u001b[34m\u001b[1mwandb\u001b[0m: \tepochs: 100\n",
      "\u001b[34m\u001b[1mwandb\u001b[0m: \tin_channels: 1\n",
      "\u001b[34m\u001b[1mwandb\u001b[0m: \tjaccard_average: macro\n",
      "\u001b[34m\u001b[1mwandb\u001b[0m: \tloss: dice\n",
      "\u001b[34m\u001b[1mwandb\u001b[0m: \tlr: 0.00981975863692553\n",
      "\u001b[34m\u001b[1mwandb\u001b[0m: \tnum_classes: 1\n"
     ]
    },
    {
     "data": {
      "text/html": [
       "wandb version 0.12.18 is available!  To upgrade, please run:\n",
       " $ pip install wandb --upgrade"
      ],
      "text/plain": [
       "<IPython.core.display.HTML object>"
      ]
     },
     "metadata": {},
     "output_type": "display_data"
    },
    {
     "data": {
      "text/html": [
       "Tracking run with wandb version 0.12.17"
      ],
      "text/plain": [
       "<IPython.core.display.HTML object>"
      ]
     },
     "metadata": {},
     "output_type": "display_data"
    },
    {
     "data": {
      "text/html": [
       "Run data is saved locally in <code>/Users/sofija/Ai4er/mres/tree-segmentation/wandb/run-20220620_172159-o6xd5bay</code>"
      ],
      "text/plain": [
       "<IPython.core.display.HTML object>"
      ]
     },
     "metadata": {},
     "output_type": "display_data"
    },
    {
     "data": {
      "text/html": [
       "Syncing run <strong><a href=\"https://wandb.ai/trees/Trees/runs/o6xd5bay\" target=\"_blank\">spring-sweep-1</a></strong> to <a href=\"https://wandb.ai/trees/Trees\" target=\"_blank\">Weights & Biases</a> (<a href=\"https://wandb.me/run\" target=\"_blank\">docs</a>)<br/>Sweep page:  <a href=\"https://wandb.ai/trees/Trees/sweeps/kja7hfs1\" target=\"_blank\">https://wandb.ai/trees/Trees/sweeps/kja7hfs1</a>"
      ],
      "text/plain": [
       "<IPython.core.display.HTML object>"
      ]
     },
     "metadata": {},
     "output_type": "display_data"
    },
    {
     "name": "stderr",
     "output_type": "stream",
     "text": [
      "/Users/sofija/miniforge3/envs/torch_m1/lib/python3.8/site-packages/pytorch_lightning/loggers/wandb.py:347: UserWarning: There is a wandb run already in progress and newly created instances of `WandbLogger` will reuse this run. If this is not desired, call `wandb.finish()` before instantiating `WandbLogger`.\n",
      "  rank_zero_warn(\n",
      "GPU available: False, used: False\n",
      "TPU available: False, using: 0 TPU cores\n",
      "IPU available: False, using: 0 IPUs\n",
      "HPU available: False, using: 0 HPUs\n",
      "\n",
      "   | Name       | Type             | Params\n",
      "-------------------------------------------------\n",
      "0  | net        | Unet             | 14.3 M\n",
      "1  | loss       | DiceLoss         | 0     \n",
      "2  | train_acc  | Accuracy         | 0     \n",
      "3  | val_acc    | Accuracy         | 0     \n",
      "4  | test_acc   | Accuracy         | 0     \n",
      "5  | train_jacc | JaccardIndex     | 0     \n",
      "6  | val_jacc   | JaccardIndex     | 0     \n",
      "7  | test_jacc  | JaccardIndex     | 0     \n",
      "8  | train_f1   | F1Score          | 0     \n",
      "9  | val_f1     | F1Score          | 0     \n",
      "10 | test_f1    | F1Score          | 0     \n",
      "11 | rmse       | MeanSquaredError | 0     \n",
      "-------------------------------------------------\n",
      "14.3 M    Trainable params\n",
      "0         Non-trainable params\n",
      "14.3 M    Total params\n",
      "57.288    Total estimated model params size (MB)\n",
      "\u001b[34m\u001b[1mwandb\u001b[0m: \u001b[33mWARNING\u001b[0m Config item 'in_channels' was locked by 'sweep' (ignored update).\n",
      "\u001b[34m\u001b[1mwandb\u001b[0m: \u001b[33mWARNING\u001b[0m Config item 'encoder_name' was locked by 'sweep' (ignored update).\n",
      "\u001b[34m\u001b[1mwandb\u001b[0m: \u001b[33mWARNING\u001b[0m Config item 'encoder_weights' was locked by 'sweep' (ignored update).\n",
      "\u001b[34m\u001b[1mwandb\u001b[0m: \u001b[33mWARNING\u001b[0m Config item 'num_classes' was locked by 'sweep' (ignored update).\n",
      "\u001b[34m\u001b[1mwandb\u001b[0m: \u001b[33mWARNING\u001b[0m Config item 'loss' was locked by 'sweep' (ignored update).\n",
      "\u001b[34m\u001b[1mwandb\u001b[0m: \u001b[33mWARNING\u001b[0m Config item 'lr' was locked by 'sweep' (ignored update).\n",
      "\u001b[34m\u001b[1mwandb\u001b[0m: \u001b[33mWARNING\u001b[0m Config item 'jaccard_average' was locked by 'sweep' (ignored update).\n"
     ]
    },
    {
     "name": "stdout",
     "output_type": "stream",
     "text": [
      "                                                                                                   "
     ]
    },
    {
     "name": "stderr",
     "output_type": "stream",
     "text": [
      "/Users/sofija/miniforge3/envs/torch_m1/lib/python3.8/site-packages/pytorch_lightning/trainer/connectors/data_connector.py:240: PossibleUserWarning: The dataloader, val_dataloader 0, does not have many workers which may be a bottleneck. Consider increasing the value of the `num_workers` argument` (try 8 which is the number of cpus on this machine) in the `DataLoader` init to improve performance.\n",
      "  rank_zero_warn(\n"
     ]
    },
    {
     "name": "stdout",
     "output_type": "stream",
     "text": [
      "                                                                                                   "
     ]
    },
    {
     "name": "stderr",
     "output_type": "stream",
     "text": [
      "/Users/sofija/miniforge3/envs/torch_m1/lib/python3.8/site-packages/pytorch_lightning/trainer/connectors/data_connector.py:240: PossibleUserWarning: The dataloader, train_dataloader, does not have many workers which may be a bottleneck. Consider increasing the value of the `num_workers` argument` (try 8 which is the number of cpus on this machine) in the `DataLoader` init to improve performance.\n",
      "  rank_zero_warn(\n",
      "/Users/sofija/miniforge3/envs/torch_m1/lib/python3.8/site-packages/pytorch_lightning/trainer/trainer.py:1927: PossibleUserWarning: The number of training batches (4) is smaller than the logging interval Trainer(log_every_n_steps=50). Set a lower value for log_every_n_steps if you want to see logs for the training epoch.\n",
      "  rank_zero_warn(\n"
     ]
    },
    {
     "name": "stdout",
     "output_type": "stream",
     "text": [
      "Epoch 0:  80%|████████████████████████▊      | 4/5 [00:07<00:01,  1.98s/it, loss=0.732, v_num=5bay]\n",
      "Validation: 0it [00:00, ?it/s]\u001b[A\n",
      "Validation:   0%|                                                            | 0/1 [00:00<?, ?it/s]\u001b[A\n",
      "Validation DataLoader 0:   0%|                                               | 0/1 [00:00<?, ?it/s]\u001b[A\n",
      "Validation DataLoader 0: 100%|███████████████████████████████████████| 1/1 [00:00<00:00,  1.76it/s]\u001b[A\n",
      "Epoch 0: 100%|███████████████████████████████| 5/5 [00:09<00:00,  1.81s/it, loss=0.732, v_num=5bay]\u001b[A\n",
      "Epoch 1:  80%|████████████████████████▊      | 4/5 [00:07<00:01,  1.79s/it, loss=0.628, v_num=5bay]\u001b[A\n",
      "Validation: 0it [00:00, ?it/s]\u001b[A\n",
      "Validation:   0%|                                                            | 0/1 [00:00<?, ?it/s]\u001b[A\n",
      "Validation DataLoader 0:   0%|                                               | 0/1 [00:00<?, ?it/s]\u001b[A\n",
      "Validation DataLoader 0: 100%|███████████████████████████████████████| 1/1 [00:00<00:00,  1.75it/s]\u001b[A\n",
      "Epoch 1: 100%|███████████████████████████████| 5/5 [00:08<00:00,  1.66s/it, loss=0.628, v_num=5bay]\u001b[A\n",
      "Epoch 2:  80%|████████████████████████▊      | 4/5 [00:07<00:01,  1.79s/it, loss=0.573, v_num=5bay]\u001b[A\n",
      "Validation: 0it [00:00, ?it/s]\u001b[A\n",
      "Validation:   0%|                                                            | 0/1 [00:00<?, ?it/s]\u001b[A\n",
      "Validation DataLoader 0:   0%|                                               | 0/1 [00:00<?, ?it/s]\u001b[A\n",
      "Validation DataLoader 0: 100%|███████████████████████████████████████| 1/1 [00:00<00:00,  1.77it/s]\u001b[A\n",
      "Epoch 2: 100%|███████████████████████████████| 5/5 [00:08<00:00,  1.65s/it, loss=0.573, v_num=5bay]\u001b[A\n",
      "Epoch 3:  80%|████████████████████████▊      | 4/5 [00:07<00:01,  1.78s/it, loss=0.516, v_num=5bay]\u001b[A\n",
      "Validation: 0it [00:00, ?it/s]\u001b[A\n",
      "Validation:   0%|                                                            | 0/1 [00:00<?, ?it/s]\u001b[A\n",
      "Validation DataLoader 0:   0%|                                               | 0/1 [00:00<?, ?it/s]\u001b[A\n",
      "Validation DataLoader 0: 100%|███████████████████████████████████████| 1/1 [00:00<00:00,  1.88it/s]\u001b[A\n",
      "Epoch 3: 100%|███████████████████████████████| 5/5 [00:08<00:00,  1.64s/it, loss=0.516, v_num=5bay]\u001b[A\n",
      "Epoch 4:  80%|████████████████████████▊      | 4/5 [00:07<00:01,  1.75s/it, loss=0.465, v_num=5bay]\u001b[A\n",
      "Validation: 0it [00:00, ?it/s]\u001b[A\n",
      "Validation:   0%|                                                            | 0/1 [00:00<?, ?it/s]\u001b[A\n",
      "Validation DataLoader 0:   0%|                                               | 0/1 [00:00<?, ?it/s]\u001b[A\n",
      "Validation DataLoader 0: 100%|███████████████████████████████████████| 1/1 [00:00<00:00,  1.86it/s]\u001b[A\n",
      "Epoch 4: 100%|███████████████████████████████| 5/5 [00:08<00:00,  1.62s/it, loss=0.465, v_num=5bay]\u001b[A\n",
      "Epoch 5:  80%|████████████████████████▊      | 4/5 [00:08<00:02,  2.16s/it, loss=0.368, v_num=5bay]\u001b[A\n",
      "Validation: 0it [00:00, ?it/s]\u001b[A\n",
      "Validation:   0%|                                                            | 0/1 [00:00<?, ?it/s]\u001b[A\n",
      "Validation DataLoader 0:   0%|                                               | 0/1 [00:00<?, ?it/s]\u001b[A\n",
      "Validation DataLoader 0: 100%|███████████████████████████████████████| 1/1 [00:00<00:00,  1.81it/s]\u001b[A\n",
      "Epoch 5: 100%|███████████████████████████████| 5/5 [00:09<00:00,  1.95s/it, loss=0.368, v_num=5bay]\u001b[A\n",
      "Epoch 6:  80%|████████████████████████▊      | 4/5 [00:07<00:01,  1.93s/it, loss=0.312, v_num=5bay]\u001b[A\n",
      "Validation: 0it [00:00, ?it/s]\u001b[A\n",
      "Validation:   0%|                                                            | 0/1 [00:00<?, ?it/s]\u001b[A\n",
      "Validation DataLoader 0:   0%|                                               | 0/1 [00:00<?, ?it/s]\u001b[A\n",
      "Validation DataLoader 0: 100%|███████████████████████████████████████| 1/1 [00:00<00:00,  1.87it/s]\u001b[A\n",
      "Epoch 6: 100%|███████████████████████████████| 5/5 [00:08<00:00,  1.76s/it, loss=0.312, v_num=5bay]\u001b[A\n",
      "Epoch 7:  80%|████████████████████████▊      | 4/5 [00:07<00:01,  1.88s/it, loss=0.261, v_num=5bay]\u001b[A\n",
      "Validation: 0it [00:00, ?it/s]\u001b[A\n",
      "Validation:   0%|                                                            | 0/1 [00:00<?, ?it/s]\u001b[A\n",
      "Validation DataLoader 0:   0%|                                               | 0/1 [00:00<?, ?it/s]\u001b[A\n",
      "Validation DataLoader 0: 100%|███████████████████████████████████████| 1/1 [00:00<00:00,  1.64it/s]\u001b[A\n",
      "Epoch 7: 100%|███████████████████████████████| 5/5 [00:08<00:00,  1.74s/it, loss=0.261, v_num=5bay]\u001b[A\n",
      "Epoch 8:  80%|████████████████████████▊      | 4/5 [00:08<00:02,  2.11s/it, loss=0.232, v_num=5bay]\u001b[A\n",
      "Validation: 0it [00:00, ?it/s]\u001b[A\n",
      "Validation:   0%|                                                            | 0/1 [00:00<?, ?it/s]\u001b[A\n",
      "Validation DataLoader 0:   0%|                                               | 0/1 [00:00<?, ?it/s]\u001b[A\n",
      "Validation DataLoader 0: 100%|███████████████████████████████████████| 1/1 [00:00<00:00,  1.58it/s]\u001b[A\n",
      "Epoch 8: 100%|███████████████████████████████| 5/5 [00:09<00:00,  1.95s/it, loss=0.232, v_num=5bay]\u001b[A\n",
      "Epoch 9:  80%|████████████████████████▊      | 4/5 [00:07<00:01,  1.93s/it, loss=0.216, v_num=5bay]\u001b[A\n",
      "Validation: 0it [00:00, ?it/s]\u001b[A\n",
      "Validation:   0%|                                                            | 0/1 [00:00<?, ?it/s]\u001b[A\n",
      "Validation DataLoader 0:   0%|                                               | 0/1 [00:00<?, ?it/s]\u001b[A\n",
      "Validation DataLoader 0: 100%|███████████████████████████████████████| 1/1 [00:00<00:00,  1.78it/s]\u001b[A\n",
      "Epoch 9: 100%|███████████████████████████████| 5/5 [00:08<00:00,  1.79s/it, loss=0.216, v_num=5bay]\u001b[A\n",
      "Epoch 10:  80%|████████████████████████      | 4/5 [00:07<00:01,  1.89s/it, loss=0.205, v_num=5bay]\u001b[A\n",
      "Validation: 0it [00:00, ?it/s]\u001b[A\n",
      "Validation:   0%|                                                            | 0/1 [00:00<?, ?it/s]\u001b[A\n",
      "Validation DataLoader 0:   0%|                                               | 0/1 [00:00<?, ?it/s]\u001b[A\n",
      "Validation DataLoader 0: 100%|███████████████████████████████████████| 1/1 [00:00<00:00,  1.74it/s]\u001b[A\n",
      "Epoch 10: 100%|██████████████████████████████| 5/5 [00:08<00:00,  1.74s/it, loss=0.205, v_num=5bay]\u001b[A\n",
      "Epoch 11:  80%|████████████████████████      | 4/5 [00:08<00:02,  2.11s/it, loss=0.192, v_num=5bay]\u001b[A\n",
      "Validation: 0it [00:00, ?it/s]\u001b[A\n",
      "Validation:   0%|                                                            | 0/1 [00:00<?, ?it/s]\u001b[A\n",
      "Validation DataLoader 0:   0%|                                               | 0/1 [00:00<?, ?it/s]\u001b[A\n",
      "Validation DataLoader 0: 100%|███████████████████████████████████████| 1/1 [00:00<00:00,  1.34it/s]\u001b[A\n",
      "Epoch 11: 100%|██████████████████████████████| 5/5 [00:09<00:00,  1.96s/it, loss=0.192, v_num=5bay]\u001b[A\n",
      "Epoch 12:  80%|████████████████████████      | 4/5 [00:08<00:02,  2.18s/it, loss=0.185, v_num=5bay]\u001b[A\n",
      "Validation: 0it [00:00, ?it/s]\u001b[A\n",
      "Validation:   0%|                                                            | 0/1 [00:00<?, ?it/s]\u001b[A\n",
      "Validation DataLoader 0:   0%|                                               | 0/1 [00:00<?, ?it/s]\u001b[A\n",
      "Validation DataLoader 0: 100%|███████████████████████████████████████| 1/1 [00:00<00:00,  1.82it/s]\u001b[A\n",
      "Epoch 12: 100%|██████████████████████████████| 5/5 [00:09<00:00,  1.97s/it, loss=0.185, v_num=5bay]\u001b[A\n",
      "Epoch 13:  80%|████████████████████████      | 4/5 [00:08<00:02,  2.03s/it, loss=0.182, v_num=5bay]\u001b[A\n",
      "Validation: 0it [00:00, ?it/s]\u001b[A\n",
      "Validation:   0%|                                                            | 0/1 [00:00<?, ?it/s]\u001b[A\n",
      "Validation DataLoader 0:   0%|                                               | 0/1 [00:00<?, ?it/s]\u001b[A\n",
      "Validation DataLoader 0: 100%|███████████████████████████████████████| 1/1 [00:00<00:00,  1.76it/s]\u001b[A\n",
      "Epoch 13: 100%|██████████████████████████████| 5/5 [00:09<00:00,  1.85s/it, loss=0.182, v_num=5bay]\u001b[A\n",
      "Epoch 14:  80%|████████████████████████      | 4/5 [00:07<00:01,  1.84s/it, loss=0.179, v_num=5bay]\u001b[A\n",
      "Validation: 0it [00:00, ?it/s]\u001b[A\n",
      "Validation:   0%|                                                            | 0/1 [00:00<?, ?it/s]\u001b[A\n",
      "Validation DataLoader 0:   0%|                                               | 0/1 [00:00<?, ?it/s]\u001b[A\n",
      "Validation DataLoader 0: 100%|███████████████████████████████████████| 1/1 [00:00<00:00,  1.47it/s]\u001b[A\n",
      "Epoch 14: 100%|██████████████████████████████| 5/5 [00:08<00:00,  1.74s/it, loss=0.179, v_num=5bay]\u001b[A\n",
      "Epoch 15:  80%|████████████████████████      | 4/5 [00:08<00:02,  2.14s/it, loss=0.176, v_num=5bay]\u001b[A\n",
      "Validation: 0it [00:00, ?it/s]\u001b[A\n",
      "Validation:   0%|                                                            | 0/1 [00:00<?, ?it/s]\u001b[A\n",
      "Validation DataLoader 0:   0%|                                               | 0/1 [00:00<?, ?it/s]\u001b[A\n",
      "Validation DataLoader 0: 100%|███████████████████████████████████████| 1/1 [00:00<00:00,  1.62it/s]\u001b[A\n",
      "Epoch 15: 100%|██████████████████████████████| 5/5 [00:09<00:00,  1.97s/it, loss=0.176, v_num=5bay]\u001b[A\n",
      "Epoch 16:  80%|████████████████████████      | 4/5 [00:07<00:01,  1.91s/it, loss=0.176, v_num=5bay]\u001b[A\n",
      "Validation: 0it [00:00, ?it/s]\u001b[A\n",
      "Validation:   0%|                                                            | 0/1 [00:00<?, ?it/s]\u001b[A\n",
      "Validation DataLoader 0:   0%|                                               | 0/1 [00:00<?, ?it/s]\u001b[A\n",
      "Validation DataLoader 0: 100%|███████████████████████████████████████| 1/1 [00:00<00:00,  1.50it/s]\u001b[A\n",
      "Epoch 16: 100%|██████████████████████████████| 5/5 [00:08<00:00,  1.79s/it, loss=0.176, v_num=5bay]\u001b[A\n",
      "Epoch 17:  80%|████████████████████████      | 4/5 [00:08<00:02,  2.01s/it, loss=0.172, v_num=5bay]\u001b[A\n",
      "Validation: 0it [00:00, ?it/s]\u001b[A\n",
      "Validation:   0%|                                                            | 0/1 [00:00<?, ?it/s]\u001b[A\n",
      "Validation DataLoader 0:   0%|                                               | 0/1 [00:00<?, ?it/s]\u001b[A\n",
      "Validation DataLoader 0: 100%|███████████████████████████████████████| 1/1 [00:00<00:00,  1.60it/s]\u001b[A\n",
      "Epoch 17: 100%|██████████████████████████████| 5/5 [00:09<00:00,  1.86s/it, loss=0.172, v_num=5bay]\u001b[A\n",
      "Epoch 18:  80%|████████████████████████      | 4/5 [00:07<00:01,  1.85s/it, loss=0.168, v_num=5bay]\u001b[A\n",
      "Validation: 0it [00:00, ?it/s]\u001b[A\n",
      "Validation:   0%|                                                            | 0/1 [00:00<?, ?it/s]\u001b[A\n",
      "Validation DataLoader 0:   0%|                                               | 0/1 [00:00<?, ?it/s]\u001b[A\n",
      "Validation DataLoader 0: 100%|███████████████████████████████████████| 1/1 [00:00<00:00,  1.83it/s]\u001b[A\n",
      "Epoch 18: 100%|██████████████████████████████| 5/5 [00:08<00:00,  1.70s/it, loss=0.168, v_num=5bay]\u001b[A\n",
      "Epoch 19:  80%|████████████████████████      | 4/5 [00:07<00:01,  1.92s/it, loss=0.166, v_num=5bay]\u001b[A\n",
      "Validation: 0it [00:00, ?it/s]\u001b[A\n",
      "Validation:   0%|                                                            | 0/1 [00:00<?, ?it/s]\u001b[A\n",
      "Validation DataLoader 0:   0%|                                               | 0/1 [00:00<?, ?it/s]\u001b[A\n",
      "Validation DataLoader 0: 100%|███████████████████████████████████████| 1/1 [00:00<00:00,  1.88it/s]\u001b[A\n",
      "Epoch 19: 100%|██████████████████████████████| 5/5 [00:08<00:00,  1.75s/it, loss=0.166, v_num=5bay]\u001b[A\n",
      "Epoch 20:  80%|████████████████████████      | 4/5 [00:07<00:01,  1.90s/it, loss=0.161, v_num=5bay]\u001b[A\n",
      "Validation: 0it [00:00, ?it/s]\u001b[A\n",
      "Validation:   0%|                                                            | 0/1 [00:00<?, ?it/s]\u001b[A\n",
      "Validation DataLoader 0:   0%|                                               | 0/1 [00:00<?, ?it/s]\u001b[A\n",
      "Validation DataLoader 0: 100%|███████████████████████████████████████| 1/1 [00:00<00:00,  1.78it/s]\u001b[A\n",
      "Epoch 20: 100%|██████████████████████████████| 5/5 [00:08<00:00,  1.74s/it, loss=0.161, v_num=5bay]\u001b[A\n",
      "Epoch 21:  80%|████████████████████████      | 4/5 [00:08<00:02,  2.07s/it, loss=0.157, v_num=5bay]\u001b[A\n",
      "Validation: 0it [00:00, ?it/s]\u001b[A\n",
      "Validation:   0%|                                                            | 0/1 [00:00<?, ?it/s]\u001b[A\n",
      "Validation DataLoader 0:   0%|                                               | 0/1 [00:00<?, ?it/s]\u001b[A\n",
      "Validation DataLoader 0: 100%|███████████████████████████████████████| 1/1 [00:00<00:00,  1.51it/s]\u001b[A\n",
      "Epoch 21: 100%|██████████████████████████████| 5/5 [00:09<00:00,  1.92s/it, loss=0.157, v_num=5bay]\u001b[A\n",
      "Epoch 22:  80%|████████████████████████      | 4/5 [00:07<00:01,  1.91s/it, loss=0.154, v_num=5bay]\u001b[A\n",
      "Validation: 0it [00:00, ?it/s]\u001b[A\n",
      "Validation:   0%|                                                            | 0/1 [00:00<?, ?it/s]\u001b[A\n",
      "Validation DataLoader 0:   0%|                                               | 0/1 [00:00<?, ?it/s]\u001b[A\n",
      "Validation DataLoader 0: 100%|███████████████████████████████████████| 1/1 [00:00<00:00,  1.84it/s]\u001b[A\n",
      "Epoch 22: 100%|██████████████████████████████| 5/5 [00:08<00:00,  1.74s/it, loss=0.154, v_num=5bay]\u001b[A\n",
      "Epoch 23:  80%|████████████████████████      | 4/5 [00:07<00:01,  1.98s/it, loss=0.149, v_num=5bay]\u001b[A\n",
      "Validation: 0it [00:00, ?it/s]\u001b[A\n",
      "Validation:   0%|                                                            | 0/1 [00:00<?, ?it/s]\u001b[A\n",
      "Validation DataLoader 0:   0%|                                               | 0/1 [00:00<?, ?it/s]\u001b[A\n",
      "Validation DataLoader 0: 100%|███████████████████████████████████████| 1/1 [00:00<00:00,  1.53it/s]\u001b[A\n",
      "Epoch 23: 100%|██████████████████████████████| 5/5 [00:09<00:00,  1.86s/it, loss=0.149, v_num=5bay]\u001b[A\n",
      "Epoch 24:  80%|████████████████████████      | 4/5 [00:08<00:02,  2.21s/it, loss=0.146, v_num=5bay]\u001b[A\n",
      "Validation: 0it [00:00, ?it/s]\u001b[A\n",
      "Validation:   0%|                                                            | 0/1 [00:00<?, ?it/s]\u001b[A\n",
      "Validation DataLoader 0:   0%|                                               | 0/1 [00:00<?, ?it/s]\u001b[A\n",
      "Validation DataLoader 0: 100%|███████████████████████████████████████| 1/1 [00:00<00:00,  1.67it/s]\u001b[A\n",
      "Epoch 24: 100%|██████████████████████████████| 5/5 [00:10<00:00,  2.01s/it, loss=0.146, v_num=5bay]\u001b[A\n",
      "Epoch 25:  80%|████████████████████████      | 4/5 [00:07<00:01,  1.89s/it, loss=0.143, v_num=5bay]\u001b[A\n",
      "Validation: 0it [00:00, ?it/s]\u001b[A\n",
      "Validation:   0%|                                                            | 0/1 [00:00<?, ?it/s]\u001b[A\n",
      "Validation DataLoader 0:   0%|                                               | 0/1 [00:00<?, ?it/s]\u001b[A\n",
      "Validation DataLoader 0: 100%|███████████████████████████████████████| 1/1 [00:00<00:00,  1.85it/s]\u001b[A\n",
      "Epoch 25: 100%|██████████████████████████████| 5/5 [00:08<00:00,  1.73s/it, loss=0.143, v_num=5bay]\u001b[A\n",
      "Epoch 26:  80%|████████████████████████      | 4/5 [00:07<00:01,  1.83s/it, loss=0.141, v_num=5bay]\u001b[A\n",
      "Validation: 0it [00:00, ?it/s]\u001b[A\n",
      "Validation:   0%|                                                            | 0/1 [00:00<?, ?it/s]\u001b[A\n",
      "Validation DataLoader 0:   0%|                                               | 0/1 [00:00<?, ?it/s]\u001b[A\n",
      "Validation DataLoader 0: 100%|███████████████████████████████████████| 1/1 [00:00<00:00,  1.73it/s]\u001b[A\n",
      "Epoch 26: 100%|██████████████████████████████| 5/5 [00:08<00:00,  1.69s/it, loss=0.141, v_num=5bay]\u001b[A\n",
      "Epoch 27:  80%|████████████████████████      | 4/5 [00:08<00:02,  2.13s/it, loss=0.138, v_num=5bay]\u001b[A\n",
      "Validation: 0it [00:00, ?it/s]\u001b[A\n",
      "Validation:   0%|                                                            | 0/1 [00:00<?, ?it/s]\u001b[A\n",
      "Validation DataLoader 0:   0%|                                               | 0/1 [00:00<?, ?it/s]\u001b[A\n",
      "Validation DataLoader 0: 100%|███████████████████████████████████████| 1/1 [00:00<00:00,  1.51it/s]\u001b[A\n",
      "Epoch 27: 100%|██████████████████████████████| 5/5 [00:09<00:00,  1.97s/it, loss=0.138, v_num=5bay]\u001b[A\n",
      "Epoch 28:  80%|████████████████████████      | 4/5 [00:07<00:01,  1.94s/it, loss=0.138, v_num=5bay]\u001b[A\n",
      "Validation: 0it [00:00, ?it/s]\u001b[A\n",
      "Validation:   0%|                                                            | 0/1 [00:00<?, ?it/s]\u001b[A\n",
      "Validation DataLoader 0:   0%|                                               | 0/1 [00:00<?, ?it/s]\u001b[A\n",
      "Validation DataLoader 0: 100%|███████████████████████████████████████| 1/1 [00:00<00:00,  1.84it/s]\u001b[A\n",
      "Epoch 28: 100%|██████████████████████████████| 5/5 [00:08<00:00,  1.78s/it, loss=0.138, v_num=5bay]\u001b[A\n",
      "Epoch 29:  80%|████████████████████████      | 4/5 [00:08<00:02,  2.05s/it, loss=0.137, v_num=5bay]\u001b[A\n",
      "Validation: 0it [00:00, ?it/s]\u001b[A\n",
      "Validation:   0%|                                                            | 0/1 [00:00<?, ?it/s]\u001b[A\n",
      "Validation DataLoader 0:   0%|                                               | 0/1 [00:00<?, ?it/s]\u001b[A\n",
      "Validation DataLoader 0: 100%|███████████████████████████████████████| 1/1 [00:00<00:00,  1.73it/s]\u001b[A\n",
      "Epoch 29: 100%|██████████████████████████████| 5/5 [00:09<00:00,  1.88s/it, loss=0.137, v_num=5bay]\u001b[A\n",
      "Epoch 30:  80%|████████████████████████      | 4/5 [00:07<00:01,  1.93s/it, loss=0.136, v_num=5bay]\u001b[A\n",
      "Validation: 0it [00:00, ?it/s]\u001b[A\n",
      "Validation:   0%|                                                            | 0/1 [00:00<?, ?it/s]\u001b[A\n",
      "Validation DataLoader 0:   0%|                                               | 0/1 [00:00<?, ?it/s]\u001b[A\n",
      "Validation DataLoader 0: 100%|███████████████████████████████████████| 1/1 [00:00<00:00,  1.73it/s]\u001b[A\n",
      "Epoch 30: 100%|██████████████████████████████| 5/5 [00:08<00:00,  1.77s/it, loss=0.136, v_num=5bay]\u001b[A\n",
      "Epoch 31:  80%|████████████████████████      | 4/5 [00:07<00:01,  1.85s/it, loss=0.136, v_num=5bay]\u001b[A\n",
      "Validation: 0it [00:00, ?it/s]\u001b[A\n",
      "Validation:   0%|                                                            | 0/1 [00:00<?, ?it/s]\u001b[A\n",
      "Validation DataLoader 0:   0%|                                               | 0/1 [00:00<?, ?it/s]\u001b[A\n",
      "Validation DataLoader 0: 100%|███████████████████████████████████████| 1/1 [00:00<00:00,  1.85it/s]\u001b[A\n",
      "Epoch 31: 100%|██████████████████████████████| 5/5 [00:08<00:00,  1.69s/it, loss=0.136, v_num=5bay]\u001b[A\n",
      "Epoch 32:  80%|████████████████████████      | 4/5 [00:08<00:02,  2.09s/it, loss=0.135, v_num=5bay]\u001b[A\n",
      "Validation: 0it [00:00, ?it/s]\u001b[A\n",
      "Validation:   0%|                                                            | 0/1 [00:00<?, ?it/s]\u001b[A\n",
      "Validation DataLoader 0:   0%|                                               | 0/1 [00:00<?, ?it/s]\u001b[A\n",
      "Validation DataLoader 0: 100%|███████████████████████████████████████| 1/1 [00:00<00:00,  1.74it/s]\u001b[A\n",
      "Epoch 32: 100%|██████████████████████████████| 5/5 [00:09<00:00,  1.91s/it, loss=0.135, v_num=5bay]\u001b[A\n",
      "Epoch 33:  80%|████████████████████████      | 4/5 [00:07<00:01,  1.90s/it, loss=0.136, v_num=5bay]\u001b[A\n",
      "Validation: 0it [00:00, ?it/s]\u001b[A\n",
      "Validation:   0%|                                                            | 0/1 [00:00<?, ?it/s]\u001b[A\n",
      "Validation DataLoader 0:   0%|                                               | 0/1 [00:00<?, ?it/s]\u001b[A\n",
      "Validation DataLoader 0: 100%|███████████████████████████████████████| 1/1 [00:00<00:00,  1.67it/s]\u001b[A\n",
      "Epoch 33: 100%|██████████████████████████████| 5/5 [00:08<00:00,  1.76s/it, loss=0.136, v_num=5bay]\u001b[A\n",
      "Epoch 34:  80%|████████████████████████      | 4/5 [00:07<00:01,  1.99s/it, loss=0.136, v_num=5bay]\u001b[A\n",
      "Validation: 0it [00:00, ?it/s]\u001b[A\n",
      "Validation:   0%|                                                            | 0/1 [00:00<?, ?it/s]\u001b[A\n",
      "Validation DataLoader 0:   0%|                                               | 0/1 [00:00<?, ?it/s]\u001b[A\n",
      "Validation DataLoader 0: 100%|███████████████████████████████████████| 1/1 [00:00<00:00,  1.83it/s]\u001b[A\n",
      "Epoch 34: 100%|██████████████████████████████| 5/5 [00:09<00:00,  1.81s/it, loss=0.136, v_num=5bay]\u001b[A\n",
      "Epoch 35:  80%|████████████████████████      | 4/5 [00:07<00:01,  1.85s/it, loss=0.136, v_num=5bay]\u001b[A\n",
      "Validation: 0it [00:00, ?it/s]\u001b[A\n",
      "Validation:   0%|                                                            | 0/1 [00:00<?, ?it/s]\u001b[A\n",
      "Validation DataLoader 0:   0%|                                               | 0/1 [00:00<?, ?it/s]\u001b[A\n",
      "Validation DataLoader 0: 100%|███████████████████████████████████████| 1/1 [00:00<00:00,  1.80it/s]\u001b[A\n",
      "Epoch 35: 100%|██████████████████████████████| 5/5 [00:08<00:00,  1.71s/it, loss=0.136, v_num=5bay]\u001b[A\n",
      "Epoch 36:  80%|████████████████████████      | 4/5 [00:07<00:01,  1.86s/it, loss=0.135, v_num=5bay]\u001b[A\n",
      "Validation: 0it [00:00, ?it/s]\u001b[A\n",
      "Validation:   0%|                                                            | 0/1 [00:00<?, ?it/s]\u001b[A\n",
      "Validation DataLoader 0:   0%|                                               | 0/1 [00:00<?, ?it/s]\u001b[A\n",
      "Validation DataLoader 0: 100%|███████████████████████████████████████| 1/1 [00:00<00:00,  1.75it/s]\u001b[A\n",
      "Epoch 36: 100%|██████████████████████████████| 5/5 [00:08<00:00,  1.72s/it, loss=0.135, v_num=5bay]\u001b[A\n",
      "Epoch 37:  80%|████████████████████████      | 4/5 [00:07<00:01,  1.96s/it, loss=0.136, v_num=5bay]\u001b[A\n",
      "Validation: 0it [00:00, ?it/s]\u001b[A\n",
      "Validation:   0%|                                                            | 0/1 [00:00<?, ?it/s]\u001b[A\n",
      "Validation DataLoader 0:   0%|                                               | 0/1 [00:00<?, ?it/s]\u001b[A\n",
      "Validation DataLoader 0: 100%|███████████████████████████████████████| 1/1 [00:00<00:00,  1.25it/s]\u001b[A\n",
      "Epoch 37: 100%|██████████████████████████████| 5/5 [00:09<00:00,  1.86s/it, loss=0.136, v_num=5bay]\u001b[A\n",
      "Epoch 38:  80%|████████████████████████      | 4/5 [00:07<00:01,  1.99s/it, loss=0.134, v_num=5bay]\u001b[A\n",
      "Validation: 0it [00:00, ?it/s]\u001b[A\n",
      "Validation:   0%|                                                            | 0/1 [00:00<?, ?it/s]\u001b[A\n",
      "Validation DataLoader 0:   0%|                                               | 0/1 [00:00<?, ?it/s]\u001b[A\n",
      "Validation DataLoader 0: 100%|███████████████████████████████████████| 1/1 [00:00<00:00,  1.71it/s]\u001b[A\n",
      "Epoch 38: 100%|██████████████████████████████| 5/5 [00:09<00:00,  1.83s/it, loss=0.134, v_num=5bay]\u001b[A\n",
      "Epoch 39:  80%|████████████████████████      | 4/5 [00:07<00:01,  1.91s/it, loss=0.133, v_num=5bay]\u001b[A\n",
      "Validation: 0it [00:00, ?it/s]\u001b[A\n",
      "Validation:   0%|                                                            | 0/1 [00:00<?, ?it/s]\u001b[A\n",
      "Validation DataLoader 0:   0%|                                               | 0/1 [00:00<?, ?it/s]\u001b[A\n",
      "Validation DataLoader 0: 100%|███████████████████████████████████████| 1/1 [00:00<00:00,  1.52it/s]\u001b[A\n",
      "Epoch 39: 100%|██████████████████████████████| 5/5 [00:08<00:00,  1.78s/it, loss=0.133, v_num=5bay]\u001b[A\n",
      "Epoch 40:  80%|████████████████████████      | 4/5 [00:07<00:01,  1.92s/it, loss=0.132, v_num=5bay]\u001b[A\n",
      "Validation: 0it [00:00, ?it/s]\u001b[A\n",
      "Validation:   0%|                                                            | 0/1 [00:00<?, ?it/s]\u001b[A\n",
      "Validation DataLoader 0:   0%|                                               | 0/1 [00:00<?, ?it/s]\u001b[A\n",
      "Validation DataLoader 0: 100%|███████████████████████████████████████| 1/1 [00:00<00:00,  1.56it/s]\u001b[A\n",
      "Epoch 40: 100%|██████████████████████████████| 5/5 [00:09<00:00,  1.80s/it, loss=0.132, v_num=5bay]\u001b[A\n",
      "Epoch 41:  80%|████████████████████████▊      | 4/5 [00:07<00:01,  1.96s/it, loss=0.13, v_num=5bay]\u001b[A\n",
      "Validation: 0it [00:00, ?it/s]\u001b[A\n",
      "Validation:   0%|                                                            | 0/1 [00:00<?, ?it/s]\u001b[A\n",
      "Validation DataLoader 0:   0%|                                               | 0/1 [00:00<?, ?it/s]\u001b[A\n",
      "Validation DataLoader 0: 100%|███████████████████████████████████████| 1/1 [00:00<00:00,  1.79it/s]\u001b[A\n",
      "Epoch 41: 100%|███████████████████████████████| 5/5 [00:09<00:00,  1.80s/it, loss=0.13, v_num=5bay]\u001b[A\n",
      "Epoch 42:  80%|████████████████████████      | 4/5 [00:07<00:01,  1.81s/it, loss=0.127, v_num=5bay]\u001b[A\n",
      "Validation: 0it [00:00, ?it/s]\u001b[A\n",
      "Validation:   0%|                                                            | 0/1 [00:00<?, ?it/s]\u001b[A\n",
      "Validation DataLoader 0:   0%|                                               | 0/1 [00:00<?, ?it/s]\u001b[A\n",
      "Validation DataLoader 0: 100%|███████████████████████████████████████| 1/1 [00:00<00:00,  1.69it/s]\u001b[A\n",
      "Epoch 42: 100%|██████████████████████████████| 5/5 [00:08<00:00,  1.67s/it, loss=0.127, v_num=5bay]\u001b[A\n",
      "Epoch 43:  80%|████████████████████████      | 4/5 [00:08<00:02,  2.12s/it, loss=0.124, v_num=5bay]\u001b[A\n",
      "Validation: 0it [00:00, ?it/s]\u001b[A\n",
      "Validation:   0%|                                                            | 0/1 [00:00<?, ?it/s]\u001b[A\n",
      "Validation DataLoader 0:   0%|                                               | 0/1 [00:00<?, ?it/s]\u001b[A\n",
      "Validation DataLoader 0: 100%|███████████████████████████████████████| 1/1 [00:00<00:00,  1.45it/s]\u001b[A\n",
      "Epoch 43: 100%|██████████████████████████████| 5/5 [00:09<00:00,  1.97s/it, loss=0.124, v_num=5bay]\u001b[A\n",
      "Epoch 44:  80%|████████████████████████      | 4/5 [00:08<00:02,  2.14s/it, loss=0.121, v_num=5bay]\u001b[A\n",
      "Validation: 0it [00:00, ?it/s]\u001b[A\n",
      "Validation:   0%|                                                            | 0/1 [00:00<?, ?it/s]\u001b[A\n",
      "Validation DataLoader 0:   0%|                                               | 0/1 [00:00<?, ?it/s]\u001b[A\n",
      "Validation DataLoader 0: 100%|███████████████████████████████████████| 1/1 [00:00<00:00,  1.60it/s]\u001b[A\n",
      "Epoch 44: 100%|██████████████████████████████| 5/5 [00:09<00:00,  1.98s/it, loss=0.121, v_num=5bay]\u001b[A\n",
      "Epoch 45:  80%|████████████████████████      | 4/5 [00:08<00:02,  2.11s/it, loss=0.119, v_num=5bay]\u001b[A\n",
      "Validation: 0it [00:00, ?it/s]\u001b[A\n",
      "Validation:   0%|                                                            | 0/1 [00:00<?, ?it/s]\u001b[A\n",
      "Validation DataLoader 0:   0%|                                               | 0/1 [00:00<?, ?it/s]\u001b[A\n",
      "Validation DataLoader 0: 100%|███████████████████████████████████████| 1/1 [00:00<00:00,  1.49it/s]\u001b[A\n",
      "Epoch 45: 100%|██████████████████████████████| 5/5 [00:09<00:00,  1.95s/it, loss=0.119, v_num=5bay]\u001b[A\n",
      "Epoch 46:  80%|████████████████████████      | 4/5 [00:08<00:02,  2.24s/it, loss=0.117, v_num=5bay]\u001b[A\n",
      "Validation: 0it [00:00, ?it/s]\u001b[A\n",
      "Validation:   0%|                                                            | 0/1 [00:00<?, ?it/s]\u001b[A\n",
      "Validation DataLoader 0:   0%|                                               | 0/1 [00:00<?, ?it/s]\u001b[A\n",
      "Validation DataLoader 0: 100%|███████████████████████████████████████| 1/1 [00:00<00:00,  1.57it/s]\u001b[A\n",
      "Epoch 46: 100%|██████████████████████████████| 5/5 [00:10<00:00,  2.05s/it, loss=0.117, v_num=5bay]\u001b[A\n",
      "Epoch 47:  80%|████████████████████████      | 4/5 [00:07<00:01,  1.91s/it, loss=0.114, v_num=5bay]\u001b[A\n",
      "Validation: 0it [00:00, ?it/s]\u001b[A\n",
      "Validation:   0%|                                                            | 0/1 [00:00<?, ?it/s]\u001b[A\n",
      "Validation DataLoader 0:   0%|                                               | 0/1 [00:00<?, ?it/s]\u001b[A\n",
      "Validation DataLoader 0: 100%|███████████████████████████████████████| 1/1 [00:00<00:00,  1.84it/s]\u001b[A\n",
      "Epoch 47: 100%|██████████████████████████████| 5/5 [00:08<00:00,  1.75s/it, loss=0.114, v_num=5bay]\u001b[A\n",
      "Epoch 48:  80%|████████████████████████      | 4/5 [00:07<00:01,  1.82s/it, loss=0.113, v_num=5bay]\u001b[A\n",
      "Validation: 0it [00:00, ?it/s]\u001b[A\n",
      "Validation:   0%|                                                            | 0/1 [00:00<?, ?it/s]\u001b[A\n",
      "Validation DataLoader 0:   0%|                                               | 0/1 [00:00<?, ?it/s]\u001b[A\n",
      "Validation DataLoader 0: 100%|███████████████████████████████████████| 1/1 [00:00<00:00,  1.65it/s]\u001b[A\n",
      "Epoch 48: 100%|██████████████████████████████| 5/5 [00:08<00:00,  1.69s/it, loss=0.113, v_num=5bay]\u001b[A\n",
      "Epoch 49:  80%|████████████████████████      | 4/5 [00:08<00:02,  2.06s/it, loss=0.115, v_num=5bay]\u001b[A\n",
      "Validation: 0it [00:00, ?it/s]\u001b[A\n",
      "Validation:   0%|                                                            | 0/1 [00:00<?, ?it/s]\u001b[A\n",
      "Validation DataLoader 0:   0%|                                               | 0/1 [00:00<?, ?it/s]\u001b[A\n",
      "Validation DataLoader 0: 100%|███████████████████████████████████████| 1/1 [00:00<00:00,  1.69it/s]\u001b[A\n",
      "Epoch 49: 100%|██████████████████████████████| 5/5 [00:09<00:00,  1.90s/it, loss=0.115, v_num=5bay]\u001b[A\n",
      "Epoch 50:  80%|████████████████████████      | 4/5 [00:08<00:02,  2.00s/it, loss=0.113, v_num=5bay]\u001b[A\n",
      "Validation: 0it [00:00, ?it/s]\u001b[A\n",
      "Validation:   0%|                                                            | 0/1 [00:00<?, ?it/s]\u001b[A\n",
      "Validation DataLoader 0:   0%|                                               | 0/1 [00:00<?, ?it/s]\u001b[A\n",
      "Validation DataLoader 0: 100%|███████████████████████████████████████| 1/1 [00:00<00:00,  1.73it/s]\u001b[A\n",
      "Epoch 50: 100%|██████████████████████████████| 5/5 [00:09<00:00,  1.84s/it, loss=0.113, v_num=5bay]\u001b[A\n",
      "Epoch 51:  80%|████████████████████████      | 4/5 [00:08<00:02,  2.10s/it, loss=0.114, v_num=5bay]\u001b[A\n",
      "Validation: 0it [00:00, ?it/s]\u001b[A\n",
      "Validation:   0%|                                                            | 0/1 [00:00<?, ?it/s]\u001b[A\n",
      "Validation DataLoader 0:   0%|                                               | 0/1 [00:00<?, ?it/s]\u001b[A\n",
      "Validation DataLoader 0: 100%|███████████████████████████████████████| 1/1 [00:00<00:00,  1.58it/s]\u001b[A\n",
      "Epoch 51: 100%|██████████████████████████████| 5/5 [00:09<00:00,  1.93s/it, loss=0.114, v_num=5bay]\u001b[A\n",
      "Epoch 52:  80%|████████████████████████      | 4/5 [00:07<00:01,  1.92s/it, loss=0.114, v_num=5bay]\u001b[A\n",
      "Validation: 0it [00:00, ?it/s]\u001b[A\n",
      "Validation:   0%|                                                            | 0/1 [00:00<?, ?it/s]\u001b[A\n",
      "Validation DataLoader 0:   0%|                                               | 0/1 [00:00<?, ?it/s]\u001b[A\n",
      "Validation DataLoader 0: 100%|███████████████████████████████████████| 1/1 [00:00<00:00,  1.82it/s]\u001b[A\n",
      "Epoch 52: 100%|██████████████████████████████| 5/5 [00:08<00:00,  1.77s/it, loss=0.114, v_num=5bay]\u001b[A\n",
      "Epoch 53:  80%|████████████████████████      | 4/5 [00:08<00:02,  2.11s/it, loss=0.115, v_num=5bay]\u001b[A\n",
      "Validation: 0it [00:00, ?it/s]\u001b[A\n",
      "Validation:   0%|                                                            | 0/1 [00:00<?, ?it/s]\u001b[A\n",
      "Validation DataLoader 0:   0%|                                               | 0/1 [00:00<?, ?it/s]\u001b[A\n",
      "Validation DataLoader 0: 100%|███████████████████████████████████████| 1/1 [00:00<00:00,  1.76it/s]\u001b[A\n",
      "Epoch 53: 100%|██████████████████████████████| 5/5 [00:09<00:00,  1.93s/it, loss=0.115, v_num=5bay]\u001b[A\n",
      "Epoch 54:  80%|████████████████████████      | 4/5 [00:08<00:02,  2.20s/it, loss=0.112, v_num=5bay]\u001b[A\n",
      "Validation: 0it [00:00, ?it/s]\u001b[A\n",
      "Validation:   0%|                                                            | 0/1 [00:00<?, ?it/s]\u001b[A\n",
      "Validation DataLoader 0:   0%|                                               | 0/1 [00:00<?, ?it/s]\u001b[A\n",
      "Validation DataLoader 0: 100%|███████████████████████████████████████| 1/1 [00:00<00:00,  1.60it/s]\u001b[A\n",
      "Epoch 54: 100%|██████████████████████████████| 5/5 [00:10<00:00,  2.02s/it, loss=0.112, v_num=5bay]\u001b[A\n",
      "Epoch 55:  80%|████████████████████████      | 4/5 [00:07<00:01,  1.99s/it, loss=0.111, v_num=5bay]\u001b[A\n",
      "Validation: 0it [00:00, ?it/s]\u001b[A\n",
      "Validation:   0%|                                                            | 0/1 [00:00<?, ?it/s]\u001b[A\n",
      "Validation DataLoader 0:   0%|                                               | 0/1 [00:00<?, ?it/s]\u001b[A\n",
      "Validation DataLoader 0: 100%|███████████████████████████████████████| 1/1 [00:00<00:00,  1.83it/s]\u001b[A\n",
      "Epoch 55: 100%|██████████████████████████████| 5/5 [00:09<00:00,  1.83s/it, loss=0.111, v_num=5bay]\u001b[A\n",
      "Epoch 56:  80%|████████████████████████      | 4/5 [00:07<00:01,  1.93s/it, loss=0.108, v_num=5bay]\u001b[A\n",
      "Validation: 0it [00:00, ?it/s]\u001b[A\n",
      "Validation:   0%|                                                            | 0/1 [00:00<?, ?it/s]\u001b[A\n",
      "Validation DataLoader 0:   0%|                                               | 0/1 [00:00<?, ?it/s]\u001b[A\n",
      "Validation DataLoader 0: 100%|███████████████████████████████████████| 1/1 [00:00<00:00,  1.79it/s]\u001b[A\n",
      "Epoch 56: 100%|██████████████████████████████| 5/5 [00:08<00:00,  1.78s/it, loss=0.108, v_num=5bay]\u001b[A\n",
      "Epoch 57:  80%|████████████████████████      | 4/5 [00:07<00:01,  1.85s/it, loss=0.106, v_num=5bay]\u001b[A\n",
      "Validation: 0it [00:00, ?it/s]\u001b[A\n",
      "Validation:   0%|                                                            | 0/1 [00:00<?, ?it/s]\u001b[A\n",
      "Validation DataLoader 0:   0%|                                               | 0/1 [00:00<?, ?it/s]\u001b[A\n",
      "Validation DataLoader 0: 100%|███████████████████████████████████████| 1/1 [00:00<00:00,  1.82it/s]\u001b[A\n",
      "Epoch 57: 100%|██████████████████████████████| 5/5 [00:08<00:00,  1.71s/it, loss=0.106, v_num=5bay]\u001b[A\n",
      "Epoch 58:  80%|████████████████████████      | 4/5 [00:07<00:01,  1.87s/it, loss=0.105, v_num=5bay]\u001b[A\n",
      "Validation: 0it [00:00, ?it/s]\u001b[A\n",
      "Validation:   0%|                                                            | 0/1 [00:00<?, ?it/s]\u001b[A\n",
      "Validation DataLoader 0:   0%|                                               | 0/1 [00:00<?, ?it/s]\u001b[A\n",
      "Validation DataLoader 0: 100%|███████████████████████████████████████| 1/1 [00:00<00:00,  1.74it/s]\u001b[A\n",
      "Epoch 58: 100%|██████████████████████████████| 5/5 [00:08<00:00,  1.74s/it, loss=0.105, v_num=5bay]\u001b[A\n",
      "Epoch 59:  80%|████████████████████████      | 4/5 [00:07<00:01,  1.88s/it, loss=0.105, v_num=5bay]\u001b[A\n",
      "Validation: 0it [00:00, ?it/s]\u001b[A\n",
      "Validation:   0%|                                                            | 0/1 [00:00<?, ?it/s]\u001b[A\n",
      "Validation DataLoader 0:   0%|                                               | 0/1 [00:00<?, ?it/s]\u001b[A\n",
      "Validation DataLoader 0: 100%|███████████████████████████████████████| 1/1 [00:00<00:00,  1.86it/s]\u001b[A\n",
      "Epoch 59: 100%|██████████████████████████████| 5/5 [00:08<00:00,  1.74s/it, loss=0.105, v_num=5bay]\u001b[A\n",
      "Epoch 60:  80%|████████████████████████      | 4/5 [00:07<00:01,  1.82s/it, loss=0.104, v_num=5bay]\u001b[A\n",
      "Validation: 0it [00:00, ?it/s]\u001b[A\n",
      "Validation:   0%|                                                            | 0/1 [00:00<?, ?it/s]\u001b[A\n",
      "Validation DataLoader 0:   0%|                                               | 0/1 [00:00<?, ?it/s]\u001b[A\n",
      "Validation DataLoader 0: 100%|███████████████████████████████████████| 1/1 [00:00<00:00,  1.81it/s]\u001b[A\n",
      "Epoch 60: 100%|██████████████████████████████| 5/5 [00:08<00:00,  1.67s/it, loss=0.104, v_num=5bay]\u001b[A\n",
      "Epoch 61:  80%|████████████████████████      | 4/5 [00:07<00:01,  1.83s/it, loss=0.105, v_num=5bay]\u001b[A\n",
      "Validation: 0it [00:00, ?it/s]\u001b[A\n",
      "Validation:   0%|                                                            | 0/1 [00:00<?, ?it/s]\u001b[A\n",
      "Validation DataLoader 0:   0%|                                               | 0/1 [00:00<?, ?it/s]\u001b[A\n",
      "Validation DataLoader 0: 100%|███████████████████████████████████████| 1/1 [00:00<00:00,  1.77it/s]\u001b[A\n",
      "Epoch 61: 100%|██████████████████████████████| 5/5 [00:08<00:00,  1.69s/it, loss=0.105, v_num=5bay]\u001b[A\n",
      "Epoch 62:  80%|████████████████████████      | 4/5 [00:08<00:02,  2.10s/it, loss=0.107, v_num=5bay]\u001b[A\n",
      "Validation: 0it [00:00, ?it/s]\u001b[A\n",
      "Validation:   0%|                                                            | 0/1 [00:00<?, ?it/s]\u001b[A\n",
      "Validation DataLoader 0:   0%|                                               | 0/1 [00:00<?, ?it/s]\u001b[A\n",
      "Validation DataLoader 0: 100%|███████████████████████████████████████| 1/1 [00:00<00:00,  1.37it/s]\u001b[A\n",
      "Epoch 62: 100%|██████████████████████████████| 5/5 [00:09<00:00,  1.96s/it, loss=0.107, v_num=5bay]\u001b[A\n",
      "Epoch 63:  80%|████████████████████████      | 4/5 [00:08<00:02,  2.14s/it, loss=0.104, v_num=5bay]\u001b[A\n",
      "Validation: 0it [00:00, ?it/s]\u001b[A\n",
      "Validation:   0%|                                                            | 0/1 [00:00<?, ?it/s]\u001b[A\n",
      "Validation DataLoader 0:   0%|                                               | 0/1 [00:00<?, ?it/s]\u001b[A\n",
      "Validation DataLoader 0: 100%|███████████████████████████████████████| 1/1 [00:00<00:00,  1.45it/s]\u001b[A\n",
      "Epoch 63: 100%|██████████████████████████████| 5/5 [00:10<00:00,  2.04s/it, loss=0.104, v_num=5bay]\u001b[A\n",
      "Epoch 64:  80%|████████████████████████      | 4/5 [00:10<00:02,  2.63s/it, loss=0.105, v_num=5bay]\u001b[A\n",
      "Validation: 0it [00:00, ?it/s]\u001b[A\n",
      "Validation:   0%|                                                            | 0/1 [00:00<?, ?it/s]\u001b[A\n",
      "Validation DataLoader 0:   0%|                                               | 0/1 [00:00<?, ?it/s]\u001b[A\n",
      "Validation DataLoader 0: 100%|███████████████████████████████████████| 1/1 [00:00<00:00,  1.51it/s]\u001b[A\n",
      "Epoch 64: 100%|██████████████████████████████| 5/5 [00:11<00:00,  2.36s/it, loss=0.105, v_num=5bay]\u001b[A\n",
      "Epoch 65:  80%|████████████████████████      | 4/5 [00:08<00:02,  2.18s/it, loss=0.105, v_num=5bay]\u001b[A\n",
      "Validation: 0it [00:00, ?it/s]\u001b[A\n",
      "Validation:   0%|                                                            | 0/1 [00:00<?, ?it/s]\u001b[A\n",
      "Validation DataLoader 0:   0%|                                               | 0/1 [00:00<?, ?it/s]\u001b[A\n",
      "Validation DataLoader 0: 100%|███████████████████████████████████████| 1/1 [00:00<00:00,  1.54it/s]\u001b[A\n",
      "Epoch 65: 100%|██████████████████████████████| 5/5 [00:10<00:00,  2.02s/it, loss=0.105, v_num=5bay]\u001b[A\n",
      "Epoch 66:  80%|████████████████████████      | 4/5 [00:08<00:02,  2.09s/it, loss=0.103, v_num=5bay]\u001b[A\n",
      "Validation: 0it [00:00, ?it/s]\u001b[A\n",
      "Validation:   0%|                                                            | 0/1 [00:00<?, ?it/s]\u001b[A\n",
      "Validation DataLoader 0:   0%|                                               | 0/1 [00:00<?, ?it/s]\u001b[A\n",
      "Validation DataLoader 0: 100%|███████████████████████████████████████| 1/1 [00:00<00:00,  1.69it/s]\u001b[A\n",
      "Epoch 66: 100%|██████████████████████████████| 5/5 [00:09<00:00,  1.92s/it, loss=0.103, v_num=5bay]\u001b[A\n",
      "Epoch 67:  80%|███████████████████████▏     | 4/5 [00:07<00:01,  1.98s/it, loss=0.0988, v_num=5bay]\u001b[A\n",
      "Validation: 0it [00:00, ?it/s]\u001b[A\n",
      "Validation:   0%|                                                            | 0/1 [00:00<?, ?it/s]\u001b[A\n",
      "Validation DataLoader 0:   0%|                                               | 0/1 [00:00<?, ?it/s]\u001b[A\n",
      "Validation DataLoader 0: 100%|███████████████████████████████████████| 1/1 [00:00<00:00,  1.69it/s]\u001b[A\n",
      "Epoch 67: 100%|█████████████████████████████| 5/5 [00:09<00:00,  1.84s/it, loss=0.0988, v_num=5bay]\u001b[A\n",
      "Epoch 68:  80%|████████████████████████      | 4/5 [00:09<00:02,  2.31s/it, loss=0.099, v_num=5bay]\u001b[A\n",
      "Validation: 0it [00:00, ?it/s]\u001b[A\n",
      "Validation:   0%|                                                            | 0/1 [00:00<?, ?it/s]\u001b[A\n",
      "Validation DataLoader 0:   0%|                                               | 0/1 [00:00<?, ?it/s]\u001b[A\n",
      "Validation DataLoader 0: 100%|███████████████████████████████████████| 1/1 [00:00<00:00,  1.59it/s]\u001b[A\n",
      "Epoch 68: 100%|██████████████████████████████| 5/5 [00:10<00:00,  2.13s/it, loss=0.099, v_num=5bay]\u001b[A\n",
      "Epoch 69:  80%|███████████████████████▏     | 4/5 [00:07<00:01,  2.00s/it, loss=0.0953, v_num=5bay]\u001b[A\n",
      "Validation: 0it [00:00, ?it/s]\u001b[A\n",
      "Validation:   0%|                                                            | 0/1 [00:00<?, ?it/s]\u001b[A\n",
      "Validation DataLoader 0:   0%|                                               | 0/1 [00:00<?, ?it/s]\u001b[A\n",
      "Validation DataLoader 0: 100%|███████████████████████████████████████| 1/1 [00:00<00:00,  1.77it/s]\u001b[A\n",
      "Epoch 69: 100%|█████████████████████████████| 5/5 [00:09<00:00,  1.84s/it, loss=0.0953, v_num=5bay]\u001b[A\n",
      "Epoch 70:  80%|███████████████████████▏     | 4/5 [00:08<00:02,  2.08s/it, loss=0.0944, v_num=5bay]\u001b[A\n",
      "Validation: 0it [00:00, ?it/s]\u001b[A\n",
      "Validation:   0%|                                                            | 0/1 [00:00<?, ?it/s]\u001b[A\n",
      "Validation DataLoader 0:   0%|                                               | 0/1 [00:00<?, ?it/s]\u001b[A\n",
      "Validation DataLoader 0: 100%|███████████████████████████████████████| 1/1 [00:00<00:00,  1.38it/s]\u001b[A\n",
      "Epoch 70: 100%|█████████████████████████████| 5/5 [00:09<00:00,  1.93s/it, loss=0.0944, v_num=5bay]\u001b[A\n",
      "Epoch 71:  80%|████████████████████████      | 4/5 [00:08<00:02,  2.22s/it, loss=0.091, v_num=5bay]\u001b[A\n",
      "Validation: 0it [00:00, ?it/s]\u001b[A\n",
      "Validation:   0%|                                                            | 0/1 [00:00<?, ?it/s]\u001b[A\n",
      "Validation DataLoader 0:   0%|                                               | 0/1 [00:00<?, ?it/s]\u001b[A\n",
      "Validation DataLoader 0: 100%|███████████████████████████████████████| 1/1 [00:00<00:00,  1.70it/s]\u001b[A\n",
      "Epoch 71: 100%|██████████████████████████████| 5/5 [00:10<00:00,  2.04s/it, loss=0.091, v_num=5bay]\u001b[A\n",
      "Epoch 72:  80%|███████████████████████▏     | 4/5 [00:08<00:02,  2.03s/it, loss=0.0913, v_num=5bay]\u001b[A\n",
      "Validation: 0it [00:00, ?it/s]\u001b[A\n",
      "Validation:   0%|                                                            | 0/1 [00:00<?, ?it/s]\u001b[A\n",
      "Validation DataLoader 0:   0%|                                               | 0/1 [00:00<?, ?it/s]\u001b[A\n",
      "Validation DataLoader 0: 100%|███████████████████████████████████████| 1/1 [00:00<00:00,  1.67it/s]\u001b[A\n",
      "Epoch 72: 100%|█████████████████████████████| 5/5 [00:09<00:00,  1.88s/it, loss=0.0913, v_num=5bay]\u001b[A\n",
      "Epoch 73:  80%|███████████████████████▏     | 4/5 [00:10<00:02,  2.66s/it, loss=0.0891, v_num=5bay]\u001b[A\n",
      "Validation: 0it [00:00, ?it/s]\u001b[A\n",
      "Validation:   0%|                                                            | 0/1 [00:00<?, ?it/s]\u001b[A\n",
      "Validation DataLoader 0:   0%|                                               | 0/1 [00:00<?, ?it/s]\u001b[A\n",
      "Validation DataLoader 0: 100%|███████████████████████████████████████| 1/1 [00:00<00:00,  1.03it/s]\u001b[A\n",
      "Epoch 73: 100%|█████████████████████████████| 5/5 [00:12<00:00,  2.49s/it, loss=0.0891, v_num=5bay]\u001b[A\n",
      "Epoch 74:  80%|███████████████████████▏     | 4/5 [00:08<00:02,  2.24s/it, loss=0.0875, v_num=5bay]\u001b[A\n",
      "Validation: 0it [00:00, ?it/s]\u001b[A\n",
      "Validation:   0%|                                                            | 0/1 [00:00<?, ?it/s]\u001b[A\n",
      "Validation DataLoader 0:   0%|                                               | 0/1 [00:00<?, ?it/s]\u001b[A\n",
      "Validation DataLoader 0: 100%|███████████████████████████████████████| 1/1 [00:00<00:00,  1.55it/s]\u001b[A\n",
      "Epoch 74: 100%|█████████████████████████████| 5/5 [00:10<00:00,  2.05s/it, loss=0.0875, v_num=5bay]\u001b[A\n",
      "Epoch 75:  80%|████████████████████████      | 4/5 [00:08<00:02,  2.11s/it, loss=0.086, v_num=5bay]\u001b[A\n",
      "Validation: 0it [00:00, ?it/s]\u001b[A\n",
      "Validation:   0%|                                                            | 0/1 [00:00<?, ?it/s]\u001b[A\n",
      "Validation DataLoader 0:   0%|                                               | 0/1 [00:00<?, ?it/s]\u001b[A\n",
      "Validation DataLoader 0: 100%|███████████████████████████████████████| 1/1 [00:00<00:00,  1.72it/s]\u001b[A\n",
      "Epoch 75: 100%|██████████████████████████████| 5/5 [00:09<00:00,  1.93s/it, loss=0.086, v_num=5bay]\u001b[A\n",
      "Epoch 76:  80%|███████████████████████▏     | 4/5 [00:09<00:02,  2.26s/it, loss=0.0858, v_num=5bay]\u001b[A\n",
      "Validation: 0it [00:00, ?it/s]\u001b[A\n",
      "Validation:   0%|                                                            | 0/1 [00:00<?, ?it/s]\u001b[A\n",
      "Validation DataLoader 0:   0%|                                               | 0/1 [00:00<?, ?it/s]\u001b[A\n",
      "Validation DataLoader 0: 100%|███████████████████████████████████████| 1/1 [00:00<00:00,  1.48it/s]\u001b[A\n",
      "Epoch 76: 100%|█████████████████████████████| 5/5 [00:10<00:00,  2.08s/it, loss=0.0858, v_num=5bay]\u001b[A\n",
      "Epoch 77:  80%|███████████████████████▏     | 4/5 [00:07<00:01,  1.96s/it, loss=0.0848, v_num=5bay]\u001b[A\n",
      "Validation: 0it [00:00, ?it/s]\u001b[A\n",
      "Validation:   0%|                                                            | 0/1 [00:00<?, ?it/s]\u001b[A\n",
      "Validation DataLoader 0:   0%|                                               | 0/1 [00:00<?, ?it/s]\u001b[A\n",
      "Validation DataLoader 0: 100%|███████████████████████████████████████| 1/1 [00:00<00:00,  1.66it/s]\u001b[A\n",
      "Epoch 77: 100%|█████████████████████████████| 5/5 [00:09<00:00,  1.83s/it, loss=0.0848, v_num=5bay]\u001b[A\n",
      "Epoch 78:  80%|███████████████████████▏     | 4/5 [00:07<00:01,  1.98s/it, loss=0.0846, v_num=5bay]\u001b[A\n",
      "Validation: 0it [00:00, ?it/s]\u001b[A\n",
      "Validation:   0%|                                                            | 0/1 [00:00<?, ?it/s]\u001b[A\n",
      "Validation DataLoader 0:   0%|                                               | 0/1 [00:00<?, ?it/s]\u001b[A\n",
      "Validation DataLoader 0: 100%|███████████████████████████████████████| 1/1 [00:00<00:00,  1.70it/s]\u001b[A\n",
      "Epoch 78: 100%|█████████████████████████████| 5/5 [00:09<00:00,  1.82s/it, loss=0.0846, v_num=5bay]\u001b[A\n",
      "Epoch 79:  80%|███████████████████████▏     | 4/5 [00:07<00:01,  2.00s/it, loss=0.0846, v_num=5bay]\u001b[A\n",
      "Validation: 0it [00:00, ?it/s]\u001b[A\n",
      "Validation:   0%|                                                            | 0/1 [00:00<?, ?it/s]\u001b[A\n",
      "Validation DataLoader 0:   0%|                                               | 0/1 [00:00<?, ?it/s]\u001b[A\n",
      "Validation DataLoader 0: 100%|███████████████████████████████████████| 1/1 [00:00<00:00,  1.65it/s]\u001b[A\n",
      "Epoch 79: 100%|█████████████████████████████| 5/5 [00:09<00:00,  1.84s/it, loss=0.0846, v_num=5bay]\u001b[A\n",
      "Epoch 80:  80%|███████████████████████▏     | 4/5 [00:08<00:02,  2.11s/it, loss=0.0836, v_num=5bay]\u001b[A\n",
      "Validation: 0it [00:00, ?it/s]\u001b[A\n",
      "Validation:   0%|                                                            | 0/1 [00:00<?, ?it/s]\u001b[A\n",
      "Validation DataLoader 0:   0%|                                               | 0/1 [00:00<?, ?it/s]\u001b[A\n",
      "Validation DataLoader 0: 100%|███████████████████████████████████████| 1/1 [00:00<00:00,  1.64it/s]\u001b[A\n",
      "Epoch 80: 100%|█████████████████████████████| 5/5 [00:09<00:00,  1.95s/it, loss=0.0836, v_num=5bay]\u001b[A\n",
      "Epoch 81:  80%|███████████████████████▏     | 4/5 [00:07<00:01,  1.92s/it, loss=0.0839, v_num=5bay]\u001b[A\n",
      "Validation: 0it [00:00, ?it/s]\u001b[A\n",
      "Validation:   0%|                                                            | 0/1 [00:00<?, ?it/s]\u001b[A\n",
      "Validation DataLoader 0:   0%|                                               | 0/1 [00:00<?, ?it/s]\u001b[A\n",
      "Validation DataLoader 0: 100%|███████████████████████████████████████| 1/1 [00:00<00:00,  1.74it/s]\u001b[A\n",
      "Epoch 81: 100%|█████████████████████████████| 5/5 [00:08<00:00,  1.79s/it, loss=0.0839, v_num=5bay]\u001b[A\n",
      "Epoch 82:  80%|███████████████████████▏     | 4/5 [00:07<00:01,  1.97s/it, loss=0.0829, v_num=5bay]\u001b[A\n",
      "Validation: 0it [00:00, ?it/s]\u001b[A\n",
      "Validation:   0%|                                                            | 0/1 [00:00<?, ?it/s]\u001b[A\n",
      "Validation DataLoader 0:   0%|                                               | 0/1 [00:00<?, ?it/s]\u001b[A\n",
      "Validation DataLoader 0: 100%|███████████████████████████████████████| 1/1 [00:00<00:00,  1.65it/s]\u001b[A\n",
      "Epoch 82: 100%|█████████████████████████████| 5/5 [00:09<00:00,  1.82s/it, loss=0.0829, v_num=5bay]\u001b[A\n",
      "Epoch 83:  80%|███████████████████████▏     | 4/5 [00:08<00:02,  2.07s/it, loss=0.0816, v_num=5bay]\u001b[A\n",
      "Validation: 0it [00:00, ?it/s]\u001b[A\n",
      "Validation:   0%|                                                            | 0/1 [00:00<?, ?it/s]\u001b[A\n",
      "Validation DataLoader 0:   0%|                                               | 0/1 [00:00<?, ?it/s]\u001b[A\n",
      "Validation DataLoader 0: 100%|███████████████████████████████████████| 1/1 [00:00<00:00,  1.45it/s]\u001b[A\n",
      "Epoch 83: 100%|█████████████████████████████| 5/5 [00:09<00:00,  1.96s/it, loss=0.0816, v_num=5bay]\u001b[A\n",
      "Epoch 84:  80%|███████████████████████▏     | 4/5 [00:09<00:02,  2.25s/it, loss=0.0801, v_num=5bay]\u001b[A\n",
      "Validation: 0it [00:00, ?it/s]\u001b[A\n",
      "Validation:   0%|                                                            | 0/1 [00:00<?, ?it/s]\u001b[A\n",
      "Validation DataLoader 0:   0%|                                               | 0/1 [00:00<?, ?it/s]\u001b[A\n",
      "Validation DataLoader 0: 100%|███████████████████████████████████████| 1/1 [00:00<00:00,  1.38it/s]\u001b[A\n",
      "Epoch 84: 100%|█████████████████████████████| 5/5 [00:10<00:00,  2.10s/it, loss=0.0801, v_num=5bay]\u001b[A\n",
      "Epoch 85:  80%|███████████████████████▏     | 4/5 [00:09<00:02,  2.42s/it, loss=0.0787, v_num=5bay]\u001b[A\n",
      "Validation: 0it [00:00, ?it/s]\u001b[A\n",
      "Validation:   0%|                                                            | 0/1 [00:00<?, ?it/s]\u001b[A\n",
      "Validation DataLoader 0:   0%|                                               | 0/1 [00:00<?, ?it/s]\u001b[A\n",
      "Validation DataLoader 0: 100%|███████████████████████████████████████| 1/1 [00:00<00:00,  1.29it/s]\u001b[A\n",
      "Epoch 85: 100%|█████████████████████████████| 5/5 [00:11<00:00,  2.26s/it, loss=0.0787, v_num=5bay]\u001b[A\n",
      "Epoch 86:  80%|███████████████████████▏     | 4/5 [00:10<00:02,  2.65s/it, loss=0.0778, v_num=5bay]\u001b[A\n",
      "Validation: 0it [00:00, ?it/s]\u001b[A\n",
      "Validation:   0%|                                                            | 0/1 [00:00<?, ?it/s]\u001b[A\n",
      "Validation DataLoader 0:   0%|                                               | 0/1 [00:00<?, ?it/s]\u001b[A\n",
      "Validation DataLoader 0: 100%|███████████████████████████████████████| 1/1 [00:00<00:00,  1.56it/s]\u001b[A\n",
      "Epoch 86: 100%|█████████████████████████████| 5/5 [00:11<00:00,  2.39s/it, loss=0.0778, v_num=5bay]\u001b[A\n",
      "Epoch 87:  80%|███████████████████████▏     | 4/5 [00:08<00:02,  2.01s/it, loss=0.0768, v_num=5bay]\u001b[A\n",
      "Validation: 0it [00:00, ?it/s]\u001b[A\n",
      "Validation:   0%|                                                            | 0/1 [00:00<?, ?it/s]\u001b[A\n",
      "Validation DataLoader 0:   0%|                                               | 0/1 [00:00<?, ?it/s]\u001b[A\n",
      "Validation DataLoader 0: 100%|███████████████████████████████████████| 1/1 [00:00<00:00,  1.74it/s]\u001b[A\n",
      "Epoch 87: 100%|█████████████████████████████| 5/5 [00:09<00:00,  1.86s/it, loss=0.0768, v_num=5bay]\u001b[A\n",
      "Epoch 88:  80%|███████████████████████▏     | 4/5 [00:08<00:02,  2.03s/it, loss=0.0764, v_num=5bay]\u001b[A\n",
      "Validation: 0it [00:00, ?it/s]\u001b[A\n",
      "Validation:   0%|                                                            | 0/1 [00:00<?, ?it/s]\u001b[A\n",
      "Validation DataLoader 0:   0%|                                               | 0/1 [00:00<?, ?it/s]\u001b[A\n",
      "Validation DataLoader 0: 100%|███████████████████████████████████████| 1/1 [00:00<00:00,  1.54it/s]\u001b[A\n",
      "Epoch 88: 100%|█████████████████████████████| 5/5 [00:09<00:00,  1.88s/it, loss=0.0764, v_num=5bay]\u001b[A\n",
      "Epoch 89:  80%|███████████████████████▏     | 4/5 [00:09<00:02,  2.39s/it, loss=0.0754, v_num=5bay]\u001b[A\n",
      "Validation: 0it [00:00, ?it/s]\u001b[A\n",
      "Validation:   0%|                                                            | 0/1 [00:00<?, ?it/s]\u001b[A\n",
      "Validation DataLoader 0:   0%|                                               | 0/1 [00:00<?, ?it/s]\u001b[A\n",
      "Validation DataLoader 0: 100%|███████████████████████████████████████| 1/1 [00:00<00:00,  1.43it/s]\u001b[A\n",
      "Epoch 89: 100%|█████████████████████████████| 5/5 [00:10<00:00,  2.19s/it, loss=0.0754, v_num=5bay]\u001b[A\n",
      "Epoch 90:  80%|███████████████████████▏     | 4/5 [00:09<00:02,  2.41s/it, loss=0.0755, v_num=5bay]\u001b[A\n",
      "Validation: 0it [00:00, ?it/s]\u001b[A\n",
      "Validation:   0%|                                                            | 0/1 [00:00<?, ?it/s]\u001b[A\n",
      "Validation DataLoader 0:   0%|                                               | 0/1 [00:00<?, ?it/s]\u001b[A\n",
      "Validation DataLoader 0: 100%|███████████████████████████████████████| 1/1 [00:00<00:00,  1.69it/s]\u001b[A\n",
      "Epoch 90: 100%|█████████████████████████████| 5/5 [00:10<00:00,  2.17s/it, loss=0.0755, v_num=5bay]\u001b[A\n",
      "Epoch 91:  80%|████████████████████████      | 4/5 [00:08<00:02,  2.01s/it, loss=0.075, v_num=5bay]\u001b[A\n",
      "Validation: 0it [00:00, ?it/s]\u001b[A\n",
      "Validation:   0%|                                                            | 0/1 [00:00<?, ?it/s]\u001b[A\n",
      "Validation DataLoader 0:   0%|                                               | 0/1 [00:00<?, ?it/s]\u001b[A\n",
      "Validation DataLoader 0: 100%|███████████████████████████████████████| 1/1 [00:00<00:00,  1.63it/s]\u001b[A\n",
      "Epoch 91: 100%|██████████████████████████████| 5/5 [00:09<00:00,  1.86s/it, loss=0.075, v_num=5bay]\u001b[A\n",
      "Epoch 92:  80%|███████████████████████▏     | 4/5 [00:08<00:02,  2.00s/it, loss=0.0742, v_num=5bay]\u001b[A\n",
      "Validation: 0it [00:00, ?it/s]\u001b[A\n",
      "Validation:   0%|                                                            | 0/1 [00:00<?, ?it/s]\u001b[A\n",
      "Validation DataLoader 0:   0%|                                               | 0/1 [00:00<?, ?it/s]\u001b[A\n",
      "Validation DataLoader 0: 100%|███████████████████████████████████████| 1/1 [00:00<00:00,  1.73it/s]\u001b[A\n",
      "Epoch 92: 100%|█████████████████████████████| 5/5 [00:09<00:00,  1.84s/it, loss=0.0742, v_num=5bay]\u001b[A\n",
      "Epoch 93:  80%|███████████████████████▏     | 4/5 [00:09<00:02,  2.36s/it, loss=0.0745, v_num=5bay]\u001b[A\n",
      "Validation: 0it [00:00, ?it/s]\u001b[A\n",
      "Validation:   0%|                                                            | 0/1 [00:00<?, ?it/s]\u001b[A\n",
      "Validation DataLoader 0:   0%|                                               | 0/1 [00:00<?, ?it/s]\u001b[A\n",
      "Validation DataLoader 0: 100%|███████████████████████████████████████| 1/1 [00:00<00:00,  1.25it/s]\u001b[A\n",
      "Epoch 93: 100%|█████████████████████████████| 5/5 [00:11<00:00,  2.21s/it, loss=0.0745, v_num=5bay]\u001b[A\n",
      "Epoch 94:  80%|███████████████████████▏     | 4/5 [00:08<00:02,  2.13s/it, loss=0.0751, v_num=5bay]\u001b[A\n",
      "Validation: 0it [00:00, ?it/s]\u001b[A\n",
      "Validation:   0%|                                                            | 0/1 [00:00<?, ?it/s]\u001b[A\n",
      "Validation DataLoader 0:   0%|                                               | 0/1 [00:00<?, ?it/s]\u001b[A\n",
      "Validation DataLoader 0: 100%|███████████████████████████████████████| 1/1 [00:00<00:00,  1.64it/s]\u001b[A\n",
      "Epoch 94: 100%|█████████████████████████████| 5/5 [00:09<00:00,  1.97s/it, loss=0.0751, v_num=5bay]\u001b[A\n",
      "Epoch 95:  80%|███████████████████████▏     | 4/5 [00:08<00:02,  2.01s/it, loss=0.0749, v_num=5bay]\u001b[A\n",
      "Validation: 0it [00:00, ?it/s]\u001b[A\n",
      "Validation:   0%|                                                            | 0/1 [00:00<?, ?it/s]\u001b[A\n",
      "Validation DataLoader 0:   0%|                                               | 0/1 [00:00<?, ?it/s]\u001b[A\n",
      "Validation DataLoader 0: 100%|███████████████████████████████████████| 1/1 [00:00<00:00,  1.74it/s]\u001b[A\n",
      "Epoch 95: 100%|█████████████████████████████| 5/5 [00:09<00:00,  1.86s/it, loss=0.0749, v_num=5bay]\u001b[A\n",
      "Epoch 96:  80%|███████████████████████▏     | 4/5 [00:08<00:02,  2.13s/it, loss=0.0748, v_num=5bay]\u001b[A\n",
      "Validation: 0it [00:00, ?it/s]\u001b[A\n",
      "Validation:   0%|                                                            | 0/1 [00:00<?, ?it/s]\u001b[A\n",
      "Validation DataLoader 0:   0%|                                               | 0/1 [00:00<?, ?it/s]\u001b[A\n",
      "Validation DataLoader 0: 100%|███████████████████████████████████████| 1/1 [00:00<00:00,  1.46it/s]\u001b[A\n",
      "Epoch 96: 100%|█████████████████████████████| 5/5 [00:09<00:00,  1.97s/it, loss=0.0748, v_num=5bay]\u001b[A\n",
      "Epoch 97:  80%|███████████████████████▏     | 4/5 [00:10<00:02,  2.51s/it, loss=0.0755, v_num=5bay]\u001b[A\n",
      "Validation: 0it [00:00, ?it/s]\u001b[A\n",
      "Validation:   0%|                                                            | 0/1 [00:00<?, ?it/s]\u001b[A\n",
      "Validation DataLoader 0:   0%|                                               | 0/1 [00:00<?, ?it/s]\u001b[A\n",
      "Validation DataLoader 0: 100%|███████████████████████████████████████| 1/1 [00:00<00:00,  1.68it/s]\u001b[A\n",
      "Epoch 97: 100%|█████████████████████████████| 5/5 [00:11<00:00,  2.27s/it, loss=0.0755, v_num=5bay]\u001b[A\n",
      "Epoch 98:  80%|███████████████████████▏     | 4/5 [00:10<00:02,  2.61s/it, loss=0.0755, v_num=5bay]\u001b[A\n",
      "Validation: 0it [00:00, ?it/s]\u001b[A\n",
      "Validation:   0%|                                                            | 0/1 [00:00<?, ?it/s]\u001b[A\n",
      "Validation DataLoader 0:   0%|                                               | 0/1 [00:00<?, ?it/s]\u001b[A\n",
      "Validation DataLoader 0: 100%|███████████████████████████████████████| 1/1 [00:00<00:00,  1.18it/s]\u001b[A\n",
      "Epoch 98: 100%|█████████████████████████████| 5/5 [00:12<00:00,  2.42s/it, loss=0.0755, v_num=5bay]\u001b[A\n",
      "Epoch 99:  80%|███████████████████████▏     | 4/5 [00:09<00:02,  2.49s/it, loss=0.0757, v_num=5bay]\u001b[A\n",
      "Validation: 0it [00:00, ?it/s]\u001b[A\n",
      "Validation:   0%|                                                            | 0/1 [00:00<?, ?it/s]\u001b[A\n",
      "Validation DataLoader 0:   0%|                                               | 0/1 [00:00<?, ?it/s]\u001b[A\n",
      "Validation DataLoader 0: 100%|███████████████████████████████████████| 1/1 [00:00<00:00,  1.47it/s]\u001b[A\n",
      "Epoch 99: 100%|█████████████████████████████| 5/5 [00:11<00:00,  2.27s/it, loss=0.0757, v_num=5bay]\u001b[A\n",
      "Epoch 99: 100%|█████████████████████████████| 5/5 [00:11<00:00,  2.30s/it, loss=0.0757, v_num=5bay]\u001b[A\n"
     ]
    },
    {
     "data": {
      "text/html": [
       "Waiting for W&B process to finish... <strong style=\"color:green\">(success).</strong>"
      ],
      "text/plain": [
       "<IPython.core.display.HTML object>"
      ]
     },
     "metadata": {},
     "output_type": "display_data"
    },
    {
     "data": {
      "text/html": [
       "<style>\n",
       "    table.wandb td:nth-child(1) { padding: 0 10px; text-align: left ; width: auto;} td:nth-child(2) {text-align: left ; width: 100%}\n",
       "    .wandb-row { display: flex; flex-direction: row; flex-wrap: wrap; justify-content: flex-start; width: 100% }\n",
       "    .wandb-col { display: flex; flex-direction: column; flex-basis: 100%; flex: 1; padding: 10px; }\n",
       "    </style>\n",
       "<div class=\"wandb-row\"><div class=\"wandb-col\"><h3>Run history:</h3><br/><table class=\"wandb\"><tr><td>epoch</td><td>▁▁▁▁▂▂▂▂▂▃▃▃▃▃▃▄▄▄▄▄▅▅▅▅▅▅▆▆▆▆▆▇▇▇▇▇▇███</td></tr><tr><td>train_accuracy</td><td>▁▅▆▆▇▆▆▇▆▇▇▇▇█▇█▇▇▇▇▇▇▇▇▇▇▇▇████▇███████</td></tr><tr><td>train_f1</td><td>▁▄▆▆▇▇▇▇▇▇▇▇▇▇▇▇▇█▇█████████████████████</td></tr><tr><td>train_jaccard</td><td>▁▄▆▆▆▇▇▇▇▇▇▇▇▇▇▇▇▇▇█▇▇██████████████████</td></tr><tr><td>train_loss</td><td>█▄▂▆▂▂▁▁</td></tr><tr><td>trainer/global_step</td><td>▁▁▁▂▂▂▂▁▂▃▃▃▂▃▄▄▄▂▄▂▅▂▅▅▂▅▂▆▆▆▆▂▇▇▇▇▃███</td></tr><tr><td>val_accuracy</td><td>██▁▁▄▆▆▆▇▇▇▇▇▇▇▇▇▇▇▇▇▇▇▇▇▇▇▇▇▇▇▇▇▇▇▇▇▇▇▇</td></tr><tr><td>val_f1</td><td>▂▂▁▂▅▇▇▇▇███████████████████████████████</td></tr><tr><td>val_jaccard</td><td>▁▁▅▅▆▇▇▇▇███████████████████████████████</td></tr><tr><td>val_loss_epoch</td><td>▇▇█▇▄▂▂▂▂▁▁▁▁▁▁▁▁▁▁▁▁▁▁▁▁▁▁▁▁▁▁▁▁▁▁▁▁▁▁▁</td></tr><tr><td>val_loss_step</td><td>▇▇█▇▄▂▂▂▂▁▁▁▁▁▁▁▁▁▁▁▁▁▁▁▁▁▁▁▁▁▁▁▁▁▁▁▁▁▁▁</td></tr></table><br/></div><div class=\"wandb-col\"><h3>Run summary:</h3><br/><table class=\"wandb\"><tr><td>epoch</td><td>100</td></tr><tr><td>train_accuracy</td><td>0.93072</td></tr><tr><td>train_f1</td><td>0.92351</td></tr><tr><td>train_jaccard</td><td>0.91693</td></tr><tr><td>train_loss</td><td>0.07871</td></tr><tr><td>trainer/global_step</td><td>399</td></tr><tr><td>val_accuracy</td><td>0.86503</td></tr><tr><td>val_f1</td><td>0.87735</td></tr><tr><td>val_jaccard</td><td>0.87473</td></tr><tr><td>val_loss_epoch</td><td>0.1227</td></tr><tr><td>val_loss_step</td><td>0.1227</td></tr></table><br/></div></div>"
      ],
      "text/plain": [
       "<IPython.core.display.HTML object>"
      ]
     },
     "metadata": {},
     "output_type": "display_data"
    },
    {
     "data": {
      "text/html": [
       "Synced <strong style=\"color:#cdcd00\">spring-sweep-1</strong>: <a href=\"https://wandb.ai/trees/Trees/runs/o6xd5bay\" target=\"_blank\">https://wandb.ai/trees/Trees/runs/o6xd5bay</a><br/>Synced 5 W&B file(s), 0 media file(s), 0 artifact file(s) and 0 other file(s)"
      ],
      "text/plain": [
       "<IPython.core.display.HTML object>"
      ]
     },
     "metadata": {},
     "output_type": "display_data"
    },
    {
     "data": {
      "text/html": [
       "Find logs at: <code>./wandb/run-20220620_172159-o6xd5bay/logs</code>"
      ],
      "text/plain": [
       "<IPython.core.display.HTML object>"
      ]
     },
     "metadata": {},
     "output_type": "display_data"
    },
    {
     "name": "stderr",
     "output_type": "stream",
     "text": [
      "\u001b[34m\u001b[1mwandb\u001b[0m: Agent Starting Run: irxmhibj with config:\n",
      "\u001b[34m\u001b[1mwandb\u001b[0m: \tbatch_size: 32\n",
      "\u001b[34m\u001b[1mwandb\u001b[0m: \tencoder_name: resnet34\n",
      "\u001b[34m\u001b[1mwandb\u001b[0m: \tencoder_weights: imagenet\n",
      "\u001b[34m\u001b[1mwandb\u001b[0m: \tepochs: 1\n",
      "\u001b[34m\u001b[1mwandb\u001b[0m: \tin_channels: 1\n",
      "\u001b[34m\u001b[1mwandb\u001b[0m: \tjaccard_average: macro\n",
      "\u001b[34m\u001b[1mwandb\u001b[0m: \tloss: dice\n",
      "\u001b[34m\u001b[1mwandb\u001b[0m: \tlr: 0.002348779611111376\n",
      "\u001b[34m\u001b[1mwandb\u001b[0m: \tnum_classes: 1\n"
     ]
    },
    {
     "data": {
      "text/html": [
       "wandb version 0.12.18 is available!  To upgrade, please run:\n",
       " $ pip install wandb --upgrade"
      ],
      "text/plain": [
       "<IPython.core.display.HTML object>"
      ]
     },
     "metadata": {},
     "output_type": "display_data"
    },
    {
     "data": {
      "text/html": [
       "Tracking run with wandb version 0.12.17"
      ],
      "text/plain": [
       "<IPython.core.display.HTML object>"
      ]
     },
     "metadata": {},
     "output_type": "display_data"
    },
    {
     "data": {
      "text/html": [
       "Run data is saved locally in <code>/Users/sofija/Ai4er/mres/tree-segmentation/wandb/run-20220620_173815-irxmhibj</code>"
      ],
      "text/plain": [
       "<IPython.core.display.HTML object>"
      ]
     },
     "metadata": {},
     "output_type": "display_data"
    },
    {
     "data": {
      "text/html": [
       "Syncing run <strong><a href=\"https://wandb.ai/trees/Trees/runs/irxmhibj\" target=\"_blank\">resilient-sweep-2</a></strong> to <a href=\"https://wandb.ai/trees/Trees\" target=\"_blank\">Weights & Biases</a> (<a href=\"https://wandb.me/run\" target=\"_blank\">docs</a>)<br/>Sweep page:  <a href=\"https://wandb.ai/trees/Trees/sweeps/kja7hfs1\" target=\"_blank\">https://wandb.ai/trees/Trees/sweeps/kja7hfs1</a>"
      ],
      "text/plain": [
       "<IPython.core.display.HTML object>"
      ]
     },
     "metadata": {},
     "output_type": "display_data"
    },
    {
     "name": "stderr",
     "output_type": "stream",
     "text": [
      "/Users/sofija/miniforge3/envs/torch_m1/lib/python3.8/site-packages/pytorch_lightning/loggers/wandb.py:347: UserWarning: There is a wandb run already in progress and newly created instances of `WandbLogger` will reuse this run. If this is not desired, call `wandb.finish()` before instantiating `WandbLogger`.\n",
      "  rank_zero_warn(\n",
      "GPU available: False, used: False\n",
      "TPU available: False, using: 0 TPU cores\n",
      "IPU available: False, using: 0 IPUs\n",
      "HPU available: False, using: 0 HPUs\n",
      "\n",
      "   | Name       | Type             | Params\n",
      "-------------------------------------------------\n",
      "0  | net        | Unet             | 24.4 M\n",
      "1  | loss       | DiceLoss         | 0     \n",
      "2  | train_acc  | Accuracy         | 0     \n",
      "3  | val_acc    | Accuracy         | 0     \n",
      "4  | test_acc   | Accuracy         | 0     \n",
      "5  | train_jacc | JaccardIndex     | 0     \n",
      "6  | val_jacc   | JaccardIndex     | 0     \n",
      "7  | test_jacc  | JaccardIndex     | 0     \n",
      "8  | train_f1   | F1Score          | 0     \n",
      "9  | val_f1     | F1Score          | 0     \n",
      "10 | test_f1    | F1Score          | 0     \n",
      "11 | rmse       | MeanSquaredError | 0     \n",
      "-------------------------------------------------\n",
      "24.4 M    Trainable params\n",
      "0         Non-trainable params\n",
      "24.4 M    Total params\n",
      "97.720    Total estimated model params size (MB)\n",
      "\u001b[34m\u001b[1mwandb\u001b[0m: \u001b[33mWARNING\u001b[0m Config item 'in_channels' was locked by 'sweep' (ignored update).\n",
      "\u001b[34m\u001b[1mwandb\u001b[0m: \u001b[33mWARNING\u001b[0m Config item 'encoder_name' was locked by 'sweep' (ignored update).\n",
      "\u001b[34m\u001b[1mwandb\u001b[0m: \u001b[33mWARNING\u001b[0m Config item 'encoder_weights' was locked by 'sweep' (ignored update).\n",
      "\u001b[34m\u001b[1mwandb\u001b[0m: \u001b[33mWARNING\u001b[0m Config item 'num_classes' was locked by 'sweep' (ignored update).\n",
      "\u001b[34m\u001b[1mwandb\u001b[0m: \u001b[33mWARNING\u001b[0m Config item 'loss' was locked by 'sweep' (ignored update).\n",
      "\u001b[34m\u001b[1mwandb\u001b[0m: \u001b[33mWARNING\u001b[0m Config item 'lr' was locked by 'sweep' (ignored update).\n",
      "\u001b[34m\u001b[1mwandb\u001b[0m: \u001b[33mWARNING\u001b[0m Config item 'jaccard_average' was locked by 'sweep' (ignored update).\n"
     ]
    },
    {
     "name": "stdout",
     "output_type": "stream",
     "text": [
      "Sanity Checking: 0it [00:00, ?it/s]"
     ]
    },
    {
     "name": "stderr",
     "output_type": "stream",
     "text": [
      "/Users/sofija/miniforge3/envs/torch_m1/lib/python3.8/site-packages/pytorch_lightning/utilities/data.py:127: UserWarning: Total length of `DataLoader` across ranks is zero. Please make sure this was your intention.\n",
      "  rank_zero_warn(\n",
      "/Users/sofija/miniforge3/envs/torch_m1/lib/python3.8/site-packages/pytorch_lightning/trainer/connectors/data_connector.py:240: PossibleUserWarning: The dataloader, val_dataloader 0, does not have many workers which may be a bottleneck. Consider increasing the value of the `num_workers` argument` (try 8 which is the number of cpus on this machine) in the `DataLoader` init to improve performance.\n",
      "  rank_zero_warn(\n"
     ]
    },
    {
     "data": {
      "text/html": [
       "Waiting for W&B process to finish... <strong style=\"color:red\">(failed 1).</strong> Press Control-C to abort syncing."
      ],
      "text/plain": [
       "<IPython.core.display.HTML object>"
      ]
     },
     "metadata": {},
     "output_type": "display_data"
    },
    {
     "data": {
      "text/html": [
       "Synced <strong style=\"color:#cdcd00\">resilient-sweep-2</strong>: <a href=\"https://wandb.ai/trees/Trees/runs/irxmhibj\" target=\"_blank\">https://wandb.ai/trees/Trees/runs/irxmhibj</a><br/>Synced 5 W&B file(s), 0 media file(s), 0 artifact file(s) and 0 other file(s)"
      ],
      "text/plain": [
       "<IPython.core.display.HTML object>"
      ]
     },
     "metadata": {},
     "output_type": "display_data"
    },
    {
     "data": {
      "text/html": [
       "Find logs at: <code>./wandb/run-20220620_173815-irxmhibj/logs</code>"
      ],
      "text/plain": [
       "<IPython.core.display.HTML object>"
      ]
     },
     "metadata": {},
     "output_type": "display_data"
    },
    {
     "name": "stderr",
     "output_type": "stream",
     "text": [
      "Run irxmhibj errored: ZeroDivisionError('float division by zero')\n",
      "\u001b[34m\u001b[1mwandb\u001b[0m: \u001b[32m\u001b[41mERROR\u001b[0m Run irxmhibj errored: ZeroDivisionError('float division by zero')\n",
      "\u001b[34m\u001b[1mwandb\u001b[0m: Sweep Agent: Waiting for job.\n",
      "\u001b[34m\u001b[1mwandb\u001b[0m: Job received.\n",
      "\u001b[34m\u001b[1mwandb\u001b[0m: Agent Starting Run: tp7f7gkr with config:\n",
      "\u001b[34m\u001b[1mwandb\u001b[0m: \tbatch_size: 8\n",
      "\u001b[34m\u001b[1mwandb\u001b[0m: \tencoder_name: resnet34\n",
      "\u001b[34m\u001b[1mwandb\u001b[0m: \tencoder_weights: imagenet\n",
      "\u001b[34m\u001b[1mwandb\u001b[0m: \tepochs: 100\n",
      "\u001b[34m\u001b[1mwandb\u001b[0m: \tin_channels: 1\n",
      "\u001b[34m\u001b[1mwandb\u001b[0m: \tjaccard_average: macro\n",
      "\u001b[34m\u001b[1mwandb\u001b[0m: \tloss: dice\n",
      "\u001b[34m\u001b[1mwandb\u001b[0m: \tlr: 0.009950137989085233\n",
      "\u001b[34m\u001b[1mwandb\u001b[0m: \tnum_classes: 1\n"
     ]
    },
    {
     "data": {
      "text/html": [
       "wandb version 0.12.18 is available!  To upgrade, please run:\n",
       " $ pip install wandb --upgrade"
      ],
      "text/plain": [
       "<IPython.core.display.HTML object>"
      ]
     },
     "metadata": {},
     "output_type": "display_data"
    },
    {
     "data": {
      "text/html": [
       "Tracking run with wandb version 0.12.17"
      ],
      "text/plain": [
       "<IPython.core.display.HTML object>"
      ]
     },
     "metadata": {},
     "output_type": "display_data"
    },
    {
     "data": {
      "text/html": [
       "Run data is saved locally in <code>/Users/sofija/Ai4er/mres/tree-segmentation/wandb/run-20220620_173835-tp7f7gkr</code>"
      ],
      "text/plain": [
       "<IPython.core.display.HTML object>"
      ]
     },
     "metadata": {},
     "output_type": "display_data"
    },
    {
     "data": {
      "text/html": [
       "Syncing run <strong><a href=\"https://wandb.ai/trees/Trees/runs/tp7f7gkr\" target=\"_blank\">stellar-sweep-3</a></strong> to <a href=\"https://wandb.ai/trees/Trees\" target=\"_blank\">Weights & Biases</a> (<a href=\"https://wandb.me/run\" target=\"_blank\">docs</a>)<br/>Sweep page:  <a href=\"https://wandb.ai/trees/Trees/sweeps/kja7hfs1\" target=\"_blank\">https://wandb.ai/trees/Trees/sweeps/kja7hfs1</a>"
      ],
      "text/plain": [
       "<IPython.core.display.HTML object>"
      ]
     },
     "metadata": {},
     "output_type": "display_data"
    },
    {
     "name": "stderr",
     "output_type": "stream",
     "text": [
      "/Users/sofija/miniforge3/envs/torch_m1/lib/python3.8/site-packages/pytorch_lightning/loggers/wandb.py:347: UserWarning: There is a wandb run already in progress and newly created instances of `WandbLogger` will reuse this run. If this is not desired, call `wandb.finish()` before instantiating `WandbLogger`.\n",
      "  rank_zero_warn(\n",
      "GPU available: False, used: False\n",
      "TPU available: False, using: 0 TPU cores\n",
      "IPU available: False, using: 0 IPUs\n",
      "HPU available: False, using: 0 HPUs\n",
      "\n",
      "   | Name       | Type             | Params\n",
      "-------------------------------------------------\n",
      "0  | net        | Unet             | 24.4 M\n",
      "1  | loss       | DiceLoss         | 0     \n",
      "2  | train_acc  | Accuracy         | 0     \n",
      "3  | val_acc    | Accuracy         | 0     \n",
      "4  | test_acc   | Accuracy         | 0     \n",
      "5  | train_jacc | JaccardIndex     | 0     \n",
      "6  | val_jacc   | JaccardIndex     | 0     \n",
      "7  | test_jacc  | JaccardIndex     | 0     \n",
      "8  | train_f1   | F1Score          | 0     \n",
      "9  | val_f1     | F1Score          | 0     \n",
      "10 | test_f1    | F1Score          | 0     \n",
      "11 | rmse       | MeanSquaredError | 0     \n",
      "-------------------------------------------------\n",
      "24.4 M    Trainable params\n",
      "0         Non-trainable params\n",
      "24.4 M    Total params\n",
      "97.720    Total estimated model params size (MB)\n",
      "\u001b[34m\u001b[1mwandb\u001b[0m: \u001b[33mWARNING\u001b[0m Config item 'in_channels' was locked by 'sweep' (ignored update).\n",
      "\u001b[34m\u001b[1mwandb\u001b[0m: \u001b[33mWARNING\u001b[0m Config item 'encoder_name' was locked by 'sweep' (ignored update).\n",
      "\u001b[34m\u001b[1mwandb\u001b[0m: \u001b[33mWARNING\u001b[0m Config item 'encoder_weights' was locked by 'sweep' (ignored update).\n",
      "\u001b[34m\u001b[1mwandb\u001b[0m: \u001b[33mWARNING\u001b[0m Config item 'num_classes' was locked by 'sweep' (ignored update).\n",
      "\u001b[34m\u001b[1mwandb\u001b[0m: \u001b[33mWARNING\u001b[0m Config item 'loss' was locked by 'sweep' (ignored update).\n",
      "\u001b[34m\u001b[1mwandb\u001b[0m: \u001b[33mWARNING\u001b[0m Config item 'lr' was locked by 'sweep' (ignored update).\n",
      "\u001b[34m\u001b[1mwandb\u001b[0m: \u001b[33mWARNING\u001b[0m Config item 'jaccard_average' was locked by 'sweep' (ignored update).\n"
     ]
    },
    {
     "name": "stdout",
     "output_type": "stream",
     "text": [
      "Sanity Checking: 0it [00:00, ?it/s]"
     ]
    },
    {
     "name": "stderr",
     "output_type": "stream",
     "text": [
      "/Users/sofija/miniforge3/envs/torch_m1/lib/python3.8/site-packages/pytorch_lightning/trainer/connectors/data_connector.py:240: PossibleUserWarning: The dataloader, val_dataloader 0, does not have many workers which may be a bottleneck. Consider increasing the value of the `num_workers` argument` (try 8 which is the number of cpus on this machine) in the `DataLoader` init to improve performance.\n",
      "  rank_zero_warn(\n"
     ]
    },
    {
     "name": "stdout",
     "output_type": "stream",
     "text": [
      "                                                                                                   "
     ]
    },
    {
     "name": "stderr",
     "output_type": "stream",
     "text": [
      "/Users/sofija/miniforge3/envs/torch_m1/lib/python3.8/site-packages/pytorch_lightning/trainer/connectors/data_connector.py:240: PossibleUserWarning: The dataloader, train_dataloader, does not have many workers which may be a bottleneck. Consider increasing the value of the `num_workers` argument` (try 8 which is the number of cpus on this machine) in the `DataLoader` init to improve performance.\n",
      "  rank_zero_warn(\n",
      "/Users/sofija/miniforge3/envs/torch_m1/lib/python3.8/site-packages/pytorch_lightning/trainer/trainer.py:1927: PossibleUserWarning: The number of training batches (9) is smaller than the logging interval Trainer(log_every_n_steps=50). Set a lower value for log_every_n_steps if you want to see logs for the training epoch.\n",
      "  rank_zero_warn(\n"
     ]
    },
    {
     "name": "stdout",
     "output_type": "stream",
     "text": [
      "Epoch 0:  82%|████████████████████████▌     | 9/11 [00:10<00:02,  1.15s/it, loss=0.574, v_num=7gkr]\n",
      "Validation: 0it [00:00, ?it/s]\u001b[A\n",
      "Validation:   0%|                                                            | 0/2 [00:00<?, ?it/s]\u001b[A\n",
      "Validation DataLoader 0:   0%|                                               | 0/2 [00:00<?, ?it/s]\u001b[A\n",
      "Validation DataLoader 0:  50%|███████████████████▌                   | 1/2 [00:00<00:00,  3.14it/s]\u001b[A\n",
      "Epoch 0:  91%|██████████████████████████▎  | 10/11 [00:10<00:01,  1.09s/it, loss=0.574, v_num=7gkr]\u001b[A\n",
      "Validation DataLoader 0: 100%|███████████████████████████████████████| 2/2 [00:01<00:00,  1.68it/s]\u001b[A\n",
      "Epoch 0: 100%|█████████████████████████████| 11/11 [00:11<00:00,  1.07s/it, loss=0.574, v_num=7gkr]\u001b[A\n",
      "Epoch 1:  82%|████████████████████████▌     | 9/11 [00:11<00:02,  1.32s/it, loss=0.476, v_num=7gkr]\u001b[A\n",
      "Validation: 0it [00:00, ?it/s]\u001b[A\n",
      "Validation:   0%|                                                            | 0/2 [00:00<?, ?it/s]\u001b[A\n",
      "Validation DataLoader 0:   0%|                                               | 0/2 [00:00<?, ?it/s]\u001b[A\n",
      "Validation DataLoader 0:  50%|███████████████████▌                   | 1/2 [00:00<00:00,  3.19it/s]\u001b[A\n",
      "Epoch 1:  91%|██████████████████████████▎  | 10/11 [00:12<00:01,  1.25s/it, loss=0.476, v_num=7gkr]\u001b[A\n",
      "Validation DataLoader 0: 100%|███████████████████████████████████████| 2/2 [00:00<00:00,  2.01it/s]\u001b[A\n",
      "Epoch 1: 100%|█████████████████████████████| 11/11 [00:13<00:00,  1.19s/it, loss=0.476, v_num=7gkr]\u001b[A\n",
      "Epoch 2:  82%|████████████████████████▌     | 9/11 [00:09<00:02,  1.11s/it, loss=0.373, v_num=7gkr]\u001b[A\n",
      "Validation: 0it [00:00, ?it/s]\u001b[A\n",
      "Validation:   0%|                                                            | 0/2 [00:00<?, ?it/s]\u001b[A\n",
      "Validation DataLoader 0:   0%|                                               | 0/2 [00:00<?, ?it/s]\u001b[A\n",
      "Validation DataLoader 0:  50%|███████████████████▌                   | 1/2 [00:00<00:00,  3.01it/s]\u001b[A\n",
      "Epoch 2:  91%|██████████████████████████▎  | 10/11 [00:10<00:01,  1.06s/it, loss=0.373, v_num=7gkr]\u001b[A\n",
      "Validation DataLoader 0: 100%|███████████████████████████████████████| 2/2 [00:00<00:00,  1.91it/s]\u001b[A\n",
      "Epoch 2: 100%|█████████████████████████████| 11/11 [00:11<00:00,  1.03s/it, loss=0.373, v_num=7gkr]\u001b[A\n",
      "Epoch 3:  82%|████████████████████████▌     | 9/11 [00:11<00:02,  1.32s/it, loss=0.315, v_num=7gkr]\u001b[A\n",
      "Validation: 0it [00:00, ?it/s]\u001b[A\n",
      "Validation:   0%|                                                            | 0/2 [00:00<?, ?it/s]\u001b[A\n",
      "Validation DataLoader 0:   0%|                                               | 0/2 [00:00<?, ?it/s]\u001b[A\n",
      "Validation DataLoader 0:  50%|███████████████████▌                   | 1/2 [00:00<00:00,  3.02it/s]\u001b[A\n",
      "Epoch 3:  91%|██████████████████████████▎  | 10/11 [00:12<00:01,  1.25s/it, loss=0.315, v_num=7gkr]\u001b[A\n",
      "Validation DataLoader 0: 100%|███████████████████████████████████████| 2/2 [00:00<00:00,  1.92it/s]\u001b[A\n",
      "Epoch 3: 100%|█████████████████████████████| 11/11 [00:13<00:00,  1.20s/it, loss=0.315, v_num=7gkr]\u001b[A\n",
      "Epoch 4:  82%|████████████████████████▌     | 9/11 [00:10<00:02,  1.19s/it, loss=0.295, v_num=7gkr]\u001b[A\n",
      "Validation: 0it [00:00, ?it/s]\u001b[A\n",
      "Validation:   0%|                                                            | 0/2 [00:00<?, ?it/s]\u001b[A\n",
      "Validation DataLoader 0:   0%|                                               | 0/2 [00:00<?, ?it/s]\u001b[A\n",
      "Validation DataLoader 0:  50%|███████████████████▌                   | 1/2 [00:00<00:00,  2.79it/s]\u001b[A\n",
      "Epoch 4:  91%|██████████████████████████▎  | 10/11 [00:11<00:01,  1.15s/it, loss=0.295, v_num=7gkr]\u001b[A\n",
      "Validation DataLoader 0: 100%|███████████████████████████████████████| 2/2 [00:01<00:00,  1.76it/s]\u001b[A\n",
      "Epoch 4: 100%|█████████████████████████████| 11/11 [00:12<00:00,  1.11s/it, loss=0.295, v_num=7gkr]\u001b[A\n",
      "Epoch 5:  82%|████████████████████████▌     | 9/11 [00:10<00:02,  1.20s/it, loss=0.271, v_num=7gkr]\u001b[A\n",
      "Validation: 0it [00:00, ?it/s]\u001b[A\n",
      "Validation:   0%|                                                            | 0/2 [00:00<?, ?it/s]\u001b[A\n",
      "Validation DataLoader 0:   0%|                                               | 0/2 [00:00<?, ?it/s]\u001b[A\n",
      "Validation DataLoader 0:  50%|███████████████████▌                   | 1/2 [00:00<00:00,  2.66it/s]\u001b[A\n",
      "Epoch 5:  91%|██████████████████████████▎  | 10/11 [00:11<00:01,  1.15s/it, loss=0.271, v_num=7gkr]\u001b[A\n",
      "Validation DataLoader 0: 100%|███████████████████████████████████████| 2/2 [00:01<00:00,  1.91it/s]\u001b[A\n",
      "Epoch 5: 100%|█████████████████████████████| 11/11 [00:12<00:00,  1.10s/it, loss=0.271, v_num=7gkr]\u001b[A\n",
      "Epoch 6:  82%|████████████████████████▌     | 9/11 [00:10<00:02,  1.20s/it, loss=0.239, v_num=7gkr]\u001b[A\n",
      "Validation: 0it [00:00, ?it/s]\u001b[A\n",
      "Validation:   0%|                                                            | 0/2 [00:00<?, ?it/s]\u001b[A\n",
      "Validation DataLoader 0:   0%|                                               | 0/2 [00:00<?, ?it/s]\u001b[A\n",
      "Validation DataLoader 0:  50%|███████████████████▌                   | 1/2 [00:00<00:00,  2.61it/s]\u001b[A\n",
      "Epoch 6:  91%|██████████████████████████▎  | 10/11 [00:11<00:01,  1.15s/it, loss=0.239, v_num=7gkr]\u001b[A\n",
      "Validation DataLoader 0: 100%|███████████████████████████████████████| 2/2 [00:01<00:00,  1.74it/s]\u001b[A\n",
      "Epoch 6: 100%|█████████████████████████████| 11/11 [00:12<00:00,  1.11s/it, loss=0.239, v_num=7gkr]\u001b[A\n",
      "Epoch 7:  82%|████████████████████████▌     | 9/11 [00:10<00:02,  1.19s/it, loss=0.237, v_num=7gkr]\u001b[A\n",
      "Validation: 0it [00:00, ?it/s]\u001b[A\n",
      "Validation:   0%|                                                            | 0/2 [00:00<?, ?it/s]\u001b[A\n",
      "Validation DataLoader 0:   0%|                                               | 0/2 [00:00<?, ?it/s]\u001b[A\n",
      "Validation DataLoader 0:  50%|███████████████████▌                   | 1/2 [00:00<00:00,  2.60it/s]\u001b[A\n",
      "Epoch 7:  91%|██████████████████████████▎  | 10/11 [00:11<00:01,  1.15s/it, loss=0.237, v_num=7gkr]\u001b[A\n",
      "Validation DataLoader 0: 100%|███████████████████████████████████████| 2/2 [00:01<00:00,  1.87it/s]\u001b[A\n",
      "Epoch 7: 100%|█████████████████████████████| 11/11 [00:12<00:00,  1.10s/it, loss=0.237, v_num=7gkr]\u001b[A\n",
      "Epoch 8:  82%|████████████████████████▌     | 9/11 [00:10<00:02,  1.18s/it, loss=0.238, v_num=7gkr]\u001b[A\n",
      "Validation: 0it [00:00, ?it/s]\u001b[A\n",
      "Validation:   0%|                                                            | 0/2 [00:00<?, ?it/s]\u001b[A\n",
      "Validation DataLoader 0:   0%|                                               | 0/2 [00:00<?, ?it/s]\u001b[A\n",
      "Validation DataLoader 0:  50%|███████████████████▌                   | 1/2 [00:00<00:00,  3.00it/s]\u001b[A\n",
      "Epoch 8:  91%|██████████████████████████▎  | 10/11 [00:11<00:01,  1.13s/it, loss=0.238, v_num=7gkr]\u001b[A\n",
      "Validation DataLoader 0: 100%|███████████████████████████████████████| 2/2 [00:01<00:00,  1.85it/s]\u001b[A\n",
      "Epoch 8: 100%|█████████████████████████████| 11/11 [00:11<00:00,  1.09s/it, loss=0.238, v_num=7gkr]\u001b[A\n",
      "Epoch 9:  82%|████████████████████████▌     | 9/11 [00:10<00:02,  1.18s/it, loss=0.221, v_num=7gkr]\u001b[A\n",
      "Validation: 0it [00:00, ?it/s]\u001b[A\n",
      "Validation:   0%|                                                            | 0/2 [00:00<?, ?it/s]\u001b[A\n",
      "Validation DataLoader 0:   0%|                                               | 0/2 [00:00<?, ?it/s]\u001b[A\n",
      "Validation DataLoader 0:  50%|███████████████████▌                   | 1/2 [00:00<00:00,  2.57it/s]\u001b[A\n",
      "Epoch 9:  91%|██████████████████████████▎  | 10/11 [00:11<00:01,  1.14s/it, loss=0.221, v_num=7gkr]\u001b[A\n",
      "Validation DataLoader 0: 100%|███████████████████████████████████████| 2/2 [00:01<00:00,  1.72it/s]\u001b[A\n",
      "Epoch 9: 100%|█████████████████████████████| 11/11 [00:12<00:00,  1.10s/it, loss=0.221, v_num=7gkr]\u001b[A\n",
      "Epoch 10:  82%|███████████████████████▋     | 9/11 [00:11<00:02,  1.27s/it, loss=0.217, v_num=7gkr]\u001b[A\n",
      "Validation: 0it [00:00, ?it/s]\u001b[A\n",
      "Validation:   0%|                                                            | 0/2 [00:00<?, ?it/s]\u001b[A\n",
      "Validation DataLoader 0:   0%|                                               | 0/2 [00:00<?, ?it/s]\u001b[A\n",
      "Validation DataLoader 0:  50%|███████████████████▌                   | 1/2 [00:00<00:00,  3.01it/s]\u001b[A\n",
      "Epoch 10:  91%|█████████████████████████▍  | 10/11 [00:12<00:01,  1.21s/it, loss=0.217, v_num=7gkr]\u001b[A\n",
      "Validation DataLoader 0: 100%|███████████████████████████████████████| 2/2 [00:01<00:00,  1.80it/s]\u001b[A\n",
      "Epoch 10: 100%|████████████████████████████| 11/11 [00:12<00:00,  1.17s/it, loss=0.217, v_num=7gkr]\u001b[A\n",
      "Epoch 11:  82%|███████████████████████▋     | 9/11 [00:10<00:02,  1.20s/it, loss=0.206, v_num=7gkr]\u001b[A\n",
      "Validation: 0it [00:00, ?it/s]\u001b[A\n",
      "Validation:   0%|                                                            | 0/2 [00:00<?, ?it/s]\u001b[A\n",
      "Validation DataLoader 0:   0%|                                               | 0/2 [00:00<?, ?it/s]\u001b[A\n",
      "Validation DataLoader 0:  50%|███████████████████▌                   | 1/2 [00:00<00:00,  2.86it/s]\u001b[A\n",
      "Epoch 11:  91%|█████████████████████████▍  | 10/11 [00:11<00:01,  1.15s/it, loss=0.206, v_num=7gkr]\u001b[A\n",
      "Validation DataLoader 0: 100%|███████████████████████████████████████| 2/2 [00:01<00:00,  1.88it/s]\u001b[A\n",
      "Epoch 11: 100%|████████████████████████████| 11/11 [00:12<00:00,  1.10s/it, loss=0.206, v_num=7gkr]\u001b[A\n",
      "Epoch 12:  82%|███████████████████████▋     | 9/11 [00:10<00:02,  1.19s/it, loss=0.208, v_num=7gkr]\u001b[A\n",
      "Validation: 0it [00:00, ?it/s]\u001b[A\n",
      "Validation:   0%|                                                            | 0/2 [00:00<?, ?it/s]\u001b[A\n",
      "Validation DataLoader 0:   0%|                                               | 0/2 [00:00<?, ?it/s]\u001b[A\n",
      "Validation DataLoader 0:  50%|███████████████████▌                   | 1/2 [00:00<00:00,  3.08it/s]\u001b[A\n",
      "Epoch 12:  91%|█████████████████████████▍  | 10/11 [00:11<00:01,  1.14s/it, loss=0.208, v_num=7gkr]\u001b[A\n",
      "Validation DataLoader 0: 100%|███████████████████████████████████████| 2/2 [00:01<00:00,  1.64it/s]\u001b[A\n",
      "Epoch 12: 100%|████████████████████████████| 11/11 [00:12<00:00,  1.11s/it, loss=0.208, v_num=7gkr]\u001b[A\n",
      "Epoch 13:  82%|█████████████████████████▎     | 9/11 [00:13<00:02,  1.47s/it, loss=0.2, v_num=7gkr]\u001b[A\n",
      "Validation: 0it [00:00, ?it/s]\u001b[A\n",
      "Validation:   0%|                                                            | 0/2 [00:00<?, ?it/s]\u001b[A\n",
      "Validation DataLoader 0:   0%|                                               | 0/2 [00:00<?, ?it/s]\u001b[A\n",
      "Validation DataLoader 0:  50%|███████████████████▌                   | 1/2 [00:00<00:00,  2.58it/s]\u001b[A\n",
      "Epoch 13:  91%|███████████████████████████▎  | 10/11 [00:13<00:01,  1.39s/it, loss=0.2, v_num=7gkr]\u001b[A\n",
      "Validation DataLoader 0: 100%|███████████████████████████████████████| 2/2 [00:01<00:00,  1.72it/s]\u001b[A\n",
      "Epoch 13: 100%|██████████████████████████████| 11/11 [00:14<00:00,  1.33s/it, loss=0.2, v_num=7gkr]\u001b[A\n",
      "Epoch 14:  82%|███████████████████████▋     | 9/11 [00:12<00:02,  1.37s/it, loss=0.185, v_num=7gkr]\u001b[A\n",
      "Validation: 0it [00:00, ?it/s]\u001b[A\n",
      "Validation:   0%|                                                            | 0/2 [00:00<?, ?it/s]\u001b[A\n",
      "Validation DataLoader 0:   0%|                                               | 0/2 [00:00<?, ?it/s]\u001b[A\n",
      "Validation DataLoader 0:  50%|███████████████████▌                   | 1/2 [00:00<00:00,  2.73it/s]\u001b[A\n",
      "Epoch 14:  91%|█████████████████████████▍  | 10/11 [00:13<00:01,  1.32s/it, loss=0.185, v_num=7gkr]\u001b[A\n",
      "Validation DataLoader 0: 100%|███████████████████████████████████████| 2/2 [00:01<00:00,  1.55it/s]\u001b[A\n",
      "Epoch 14: 100%|████████████████████████████| 11/11 [00:14<00:00,  1.27s/it, loss=0.185, v_num=7gkr]\u001b[A\n",
      "Epoch 15:  82%|███████████████████████▋     | 9/11 [00:13<00:03,  1.51s/it, loss=0.186, v_num=7gkr]\u001b[A\n",
      "Validation: 0it [00:00, ?it/s]\u001b[A\n",
      "Validation:   0%|                                                            | 0/2 [00:00<?, ?it/s]\u001b[A\n",
      "Validation DataLoader 0:   0%|                                               | 0/2 [00:00<?, ?it/s]\u001b[A\n",
      "Validation DataLoader 0:  50%|███████████████████▌                   | 1/2 [00:00<00:00,  2.88it/s]\u001b[A\n",
      "Epoch 15:  91%|█████████████████████████▍  | 10/11 [00:14<00:01,  1.43s/it, loss=0.186, v_num=7gkr]\u001b[A\n",
      "Validation DataLoader 0: 100%|███████████████████████████████████████| 2/2 [00:01<00:00,  1.81it/s]\u001b[A\n",
      "Epoch 15: 100%|████████████████████████████| 11/11 [00:15<00:00,  1.37s/it, loss=0.186, v_num=7gkr]\u001b[A\n",
      "Epoch 16:  82%|███████████████████████▋     | 9/11 [00:11<00:02,  1.28s/it, loss=0.187, v_num=7gkr]\u001b[A\n",
      "Validation: 0it [00:00, ?it/s]\u001b[A\n",
      "Validation:   0%|                                                            | 0/2 [00:00<?, ?it/s]\u001b[A\n",
      "Validation DataLoader 0:   0%|                                               | 0/2 [00:00<?, ?it/s]\u001b[A\n",
      "Validation DataLoader 0:  50%|███████████████████▌                   | 1/2 [00:00<00:00,  3.12it/s]\u001b[A\n",
      "Epoch 16:  91%|█████████████████████████▍  | 10/11 [00:12<00:01,  1.22s/it, loss=0.187, v_num=7gkr]\u001b[A\n",
      "Validation DataLoader 0: 100%|███████████████████████████████████████| 2/2 [00:01<00:00,  1.84it/s]\u001b[A\n",
      "Epoch 16: 100%|████████████████████████████| 11/11 [00:12<00:00,  1.18s/it, loss=0.187, v_num=7gkr]\u001b[A\n",
      "Epoch 17:  82%|████████████████████████▌     | 9/11 [00:10<00:02,  1.20s/it, loss=0.19, v_num=7gkr]\u001b[A\n",
      "Validation: 0it [00:00, ?it/s]\u001b[A\n",
      "Validation:   0%|                                                            | 0/2 [00:00<?, ?it/s]\u001b[A\n",
      "Validation DataLoader 0:   0%|                                               | 0/2 [00:00<?, ?it/s]\u001b[A\n",
      "Validation DataLoader 0:  50%|███████████████████▌                   | 1/2 [00:00<00:00,  3.06it/s]\u001b[A\n",
      "Epoch 17:  91%|██████████████████████████▎  | 10/11 [00:11<00:01,  1.14s/it, loss=0.19, v_num=7gkr]\u001b[A\n",
      "Validation DataLoader 0: 100%|███████████████████████████████████████| 2/2 [00:00<00:00,  1.90it/s]\u001b[A\n",
      "Epoch 17: 100%|█████████████████████████████| 11/11 [00:12<00:00,  1.10s/it, loss=0.19, v_num=7gkr]\u001b[A\n",
      "Epoch 18:  82%|███████████████████████▋     | 9/11 [00:10<00:02,  1.15s/it, loss=0.185, v_num=7gkr]\u001b[A\n",
      "Validation: 0it [00:00, ?it/s]\u001b[A\n",
      "Validation:   0%|                                                            | 0/2 [00:00<?, ?it/s]\u001b[A\n",
      "Validation DataLoader 0:   0%|                                               | 0/2 [00:00<?, ?it/s]\u001b[A\n",
      "Validation DataLoader 0:  50%|███████████████████▌                   | 1/2 [00:00<00:00,  3.05it/s]\u001b[A\n",
      "Epoch 18:  91%|█████████████████████████▍  | 10/11 [00:11<00:01,  1.10s/it, loss=0.185, v_num=7gkr]\u001b[A\n",
      "Validation DataLoader 0: 100%|███████████████████████████████████████| 2/2 [00:00<00:00,  1.94it/s]\u001b[A\n",
      "Epoch 18: 100%|████████████████████████████| 11/11 [00:11<00:00,  1.06s/it, loss=0.185, v_num=7gkr]\u001b[A\n",
      "Epoch 19:  82%|███████████████████████▋     | 9/11 [00:10<00:02,  1.21s/it, loss=0.178, v_num=7gkr]\u001b[A\n",
      "Validation: 0it [00:00, ?it/s]\u001b[A\n",
      "Validation:   0%|                                                            | 0/2 [00:00<?, ?it/s]\u001b[A\n",
      "Validation DataLoader 0:   0%|                                               | 0/2 [00:00<?, ?it/s]\u001b[A\n",
      "Validation DataLoader 0:  50%|███████████████████▌                   | 1/2 [00:00<00:00,  2.87it/s]\u001b[A\n",
      "Epoch 19:  91%|█████████████████████████▍  | 10/11 [00:11<00:01,  1.15s/it, loss=0.178, v_num=7gkr]\u001b[A\n",
      "Validation DataLoader 0: 100%|███████████████████████████████████████| 2/2 [00:01<00:00,  1.83it/s]\u001b[A\n",
      "Epoch 19: 100%|████████████████████████████| 11/11 [00:12<00:00,  1.11s/it, loss=0.178, v_num=7gkr]\u001b[A\n",
      "Epoch 20:  82%|███████████████████████▋     | 9/11 [00:12<00:02,  1.42s/it, loss=0.173, v_num=7gkr]\u001b[A\n",
      "Validation: 0it [00:00, ?it/s]\u001b[A\n",
      "Validation:   0%|                                                            | 0/2 [00:00<?, ?it/s]\u001b[A\n",
      "Validation DataLoader 0:   0%|                                               | 0/2 [00:00<?, ?it/s]\u001b[A\n",
      "Validation DataLoader 0:  50%|███████████████████▌                   | 1/2 [00:00<00:00,  2.14it/s]\u001b[A\n",
      "Epoch 20:  91%|█████████████████████████▍  | 10/11 [00:13<00:01,  1.36s/it, loss=0.173, v_num=7gkr]\u001b[A\n",
      "Validation DataLoader 0: 100%|███████████████████████████████████████| 2/2 [00:01<00:00,  1.61it/s]\u001b[A\n",
      "Epoch 20: 100%|████████████████████████████| 11/11 [00:14<00:00,  1.31s/it, loss=0.173, v_num=7gkr]\u001b[A\n",
      "Epoch 21:  82%|███████████████████████▋     | 9/11 [00:12<00:02,  1.34s/it, loss=0.164, v_num=7gkr]\u001b[A\n",
      "Validation: 0it [00:00, ?it/s]\u001b[A\n",
      "Validation:   0%|                                                            | 0/2 [00:00<?, ?it/s]\u001b[A\n",
      "Validation DataLoader 0:   0%|                                               | 0/2 [00:00<?, ?it/s]\u001b[A\n",
      "Validation DataLoader 0:  50%|███████████████████▌                   | 1/2 [00:00<00:00,  2.99it/s]\u001b[A\n",
      "Epoch 21:  91%|█████████████████████████▍  | 10/11 [00:12<00:01,  1.28s/it, loss=0.164, v_num=7gkr]\u001b[A\n",
      "Validation DataLoader 0: 100%|███████████████████████████████████████| 2/2 [00:01<00:00,  1.81it/s]\u001b[A\n",
      "Epoch 21: 100%|████████████████████████████| 11/11 [00:13<00:00,  1.22s/it, loss=0.164, v_num=7gkr]\u001b[A\n",
      "Epoch 22:  82%|███████████████████████▋     | 9/11 [00:10<00:02,  1.19s/it, loss=0.156, v_num=7gkr]\u001b[A\n",
      "Validation: 0it [00:00, ?it/s]\u001b[A\n",
      "Validation:   0%|                                                            | 0/2 [00:00<?, ?it/s]\u001b[A\n",
      "Validation DataLoader 0:   0%|                                               | 0/2 [00:00<?, ?it/s]\u001b[A\n",
      "Validation DataLoader 0:  50%|███████████████████▌                   | 1/2 [00:00<00:00,  2.75it/s]\u001b[A\n",
      "Epoch 22:  91%|█████████████████████████▍  | 10/11 [00:11<00:01,  1.14s/it, loss=0.156, v_num=7gkr]\u001b[A\n",
      "Validation DataLoader 0: 100%|███████████████████████████████████████| 2/2 [00:00<00:00,  1.91it/s]\u001b[A\n",
      "Epoch 22: 100%|████████████████████████████| 11/11 [00:12<00:00,  1.10s/it, loss=0.156, v_num=7gkr]\u001b[A\n",
      "Epoch 23:  82%|███████████████████████▋     | 9/11 [00:10<00:02,  1.19s/it, loss=0.157, v_num=7gkr]\u001b[A\n",
      "Validation: 0it [00:00, ?it/s]\u001b[A\n",
      "Validation:   0%|                                                            | 0/2 [00:00<?, ?it/s]\u001b[A\n",
      "Validation DataLoader 0:   0%|                                               | 0/2 [00:00<?, ?it/s]\u001b[A\n",
      "Validation DataLoader 0:  50%|███████████████████▌                   | 1/2 [00:00<00:00,  2.51it/s]\u001b[A\n",
      "Epoch 23:  91%|█████████████████████████▍  | 10/11 [00:11<00:01,  1.15s/it, loss=0.157, v_num=7gkr]\u001b[A\n",
      "Validation DataLoader 0: 100%|███████████████████████████████████████| 2/2 [00:01<00:00,  1.71it/s]\u001b[A\n",
      "Epoch 23: 100%|████████████████████████████| 11/11 [00:12<00:00,  1.11s/it, loss=0.157, v_num=7gkr]\u001b[A\n",
      "Epoch 24:  82%|███████████████████████▋     | 9/11 [00:10<00:02,  1.21s/it, loss=0.168, v_num=7gkr]\u001b[A\n",
      "Validation: 0it [00:00, ?it/s]\u001b[A\n",
      "Validation:   0%|                                                            | 0/2 [00:00<?, ?it/s]\u001b[A\n",
      "Validation DataLoader 0:   0%|                                               | 0/2 [00:00<?, ?it/s]\u001b[A\n",
      "Validation DataLoader 0:  50%|███████████████████▌                   | 1/2 [00:00<00:00,  2.95it/s]\u001b[A\n",
      "Epoch 24:  91%|█████████████████████████▍  | 10/11 [00:11<00:01,  1.16s/it, loss=0.168, v_num=7gkr]\u001b[A\n",
      "Validation DataLoader 0: 100%|███████████████████████████████████████| 2/2 [00:00<00:00,  1.91it/s]\u001b[A\n",
      "Epoch 24: 100%|████████████████████████████| 11/11 [00:12<00:00,  1.11s/it, loss=0.168, v_num=7gkr]\u001b[A\n",
      "Epoch 25:  82%|███████████████████████▋     | 9/11 [00:10<00:02,  1.19s/it, loss=0.165, v_num=7gkr]\u001b[A\n",
      "Validation: 0it [00:00, ?it/s]\u001b[A\n",
      "Validation:   0%|                                                            | 0/2 [00:00<?, ?it/s]\u001b[A\n",
      "Validation DataLoader 0:   0%|                                               | 0/2 [00:00<?, ?it/s]\u001b[A\n",
      "Validation DataLoader 0:  50%|███████████████████▌                   | 1/2 [00:00<00:00,  3.07it/s]\u001b[A\n",
      "Epoch 25:  91%|█████████████████████████▍  | 10/11 [00:11<00:01,  1.14s/it, loss=0.165, v_num=7gkr]\u001b[A\n",
      "Validation DataLoader 0: 100%|███████████████████████████████████████| 2/2 [00:00<00:00,  1.96it/s]\u001b[A\n",
      "Epoch 25: 100%|████████████████████████████| 11/11 [00:12<00:00,  1.10s/it, loss=0.165, v_num=7gkr]\u001b[A\n",
      "Epoch 26:  82%|███████████████████████▋     | 9/11 [00:10<00:02,  1.19s/it, loss=0.161, v_num=7gkr]\u001b[A\n",
      "Validation: 0it [00:00, ?it/s]\u001b[A\n",
      "Validation:   0%|                                                            | 0/2 [00:00<?, ?it/s]\u001b[A\n",
      "Validation DataLoader 0:   0%|                                               | 0/2 [00:00<?, ?it/s]\u001b[A\n",
      "Validation DataLoader 0:  50%|███████████████████▌                   | 1/2 [00:00<00:00,  2.80it/s]\u001b[A\n",
      "Epoch 26:  91%|█████████████████████████▍  | 10/11 [00:11<00:01,  1.14s/it, loss=0.161, v_num=7gkr]\u001b[A\n",
      "Validation DataLoader 0: 100%|███████████████████████████████████████| 2/2 [00:01<00:00,  1.79it/s]\u001b[A\n",
      "Epoch 26: 100%|████████████████████████████| 11/11 [00:12<00:00,  1.10s/it, loss=0.161, v_num=7gkr]\u001b[A\n",
      "Epoch 27:  82%|███████████████████████▋     | 9/11 [00:10<00:02,  1.15s/it, loss=0.165, v_num=7gkr]\u001b[A\n",
      "Validation: 0it [00:00, ?it/s]\u001b[A\n",
      "Validation:   0%|                                                            | 0/2 [00:00<?, ?it/s]\u001b[A\n",
      "Validation DataLoader 0:   0%|                                               | 0/2 [00:00<?, ?it/s]\u001b[A\n",
      "Validation DataLoader 0:  50%|███████████████████▌                   | 1/2 [00:00<00:00,  2.95it/s]\u001b[A\n",
      "Epoch 27:  91%|█████████████████████████▍  | 10/11 [00:10<00:01,  1.10s/it, loss=0.165, v_num=7gkr]\u001b[A\n",
      "Validation DataLoader 0: 100%|███████████████████████████████████████| 2/2 [00:00<00:00,  1.94it/s]\u001b[A\n",
      "Epoch 27: 100%|████████████████████████████| 11/11 [00:11<00:00,  1.06s/it, loss=0.165, v_num=7gkr]\u001b[A\n",
      "Epoch 28:  82%|███████████████████████▋     | 9/11 [00:11<00:02,  1.27s/it, loss=0.166, v_num=7gkr]\u001b[A\n",
      "Validation: 0it [00:00, ?it/s]\u001b[A\n",
      "Validation:   0%|                                                            | 0/2 [00:00<?, ?it/s]\u001b[A\n",
      "Validation DataLoader 0:   0%|                                               | 0/2 [00:00<?, ?it/s]\u001b[A\n",
      "Validation DataLoader 0:  50%|███████████████████▌                   | 1/2 [00:00<00:00,  2.97it/s]\u001b[A\n",
      "Epoch 28:  91%|█████████████████████████▍  | 10/11 [00:12<00:01,  1.21s/it, loss=0.166, v_num=7gkr]\u001b[A\n",
      "Validation DataLoader 0: 100%|███████████████████████████████████████| 2/2 [00:01<00:00,  1.79it/s]\u001b[A\n",
      "Epoch 28: 100%|████████████████████████████| 11/11 [00:12<00:00,  1.16s/it, loss=0.166, v_num=7gkr]\u001b[A\n",
      "Epoch 29:  82%|███████████████████████▋     | 9/11 [00:10<00:02,  1.19s/it, loss=0.166, v_num=7gkr]\u001b[A\n",
      "Validation: 0it [00:00, ?it/s]\u001b[A\n",
      "Validation:   0%|                                                            | 0/2 [00:00<?, ?it/s]\u001b[A\n",
      "Validation DataLoader 0:   0%|                                               | 0/2 [00:00<?, ?it/s]\u001b[A\n",
      "Validation DataLoader 0:  50%|███████████████████▌                   | 1/2 [00:00<00:00,  2.90it/s]\u001b[A\n",
      "Epoch 29:  91%|█████████████████████████▍  | 10/11 [00:11<00:01,  1.14s/it, loss=0.166, v_num=7gkr]\u001b[A\n",
      "Validation DataLoader 0: 100%|███████████████████████████████████████| 2/2 [00:01<00:00,  1.86it/s]\u001b[A\n",
      "Epoch 29: 100%|████████████████████████████| 11/11 [00:12<00:00,  1.09s/it, loss=0.166, v_num=7gkr]\u001b[A\n",
      "Epoch 30:  55%|███████████████▊             | 6/11 [00:07<00:06,  1.24s/it, loss=0.164, v_num=7gkr]\u001b[A"
     ]
    },
    {
     "data": {
      "text/html": [
       "Waiting for W&B process to finish... <strong style=\"color:red\">(failed 1).</strong> Press Control-C to abort syncing."
      ],
      "text/plain": [
       "<IPython.core.display.HTML object>"
      ]
     },
     "metadata": {},
     "output_type": "display_data"
    },
    {
     "data": {
      "text/html": [
       "<style>\n",
       "    table.wandb td:nth-child(1) { padding: 0 10px; text-align: left ; width: auto;} td:nth-child(2) {text-align: left ; width: 100%}\n",
       "    .wandb-row { display: flex; flex-direction: row; flex-wrap: wrap; justify-content: flex-start; width: 100% }\n",
       "    .wandb-col { display: flex; flex-direction: column; flex-basis: 100%; flex: 1; padding: 10px; }\n",
       "    </style>\n",
       "<div class=\"wandb-row\"><div class=\"wandb-col\"><h3>Run history:</h3><br/><table class=\"wandb\"><tr><td>epoch</td><td>▁▁▁▁▂▂▂▂▂▃▃▃▃▃▄▄▄▄▄▅▅▅▅▅▅▅▆▆▆▆▆▆▇▇▇▇▇███</td></tr><tr><td>train_accuracy</td><td>▆▅▁▆▂▄▄▅▃▅▇▄▆▅▇▅▆▆▆▇▇▇▇▇▇▆▇▇█▆</td></tr><tr><td>train_f1</td><td>▁▄▅▆▆▆▇▇▇▇▇▇▇▇▇▇▇▇████████████</td></tr><tr><td>train_jaccard</td><td>▁▄▅▆▆▆▇▇▇▇▇▇▇▇▇▇▇▇████████████</td></tr><tr><td>train_loss</td><td>█▃▂▄▁</td></tr><tr><td>trainer/global_step</td><td>▁▁▁▁▁▂▂▁▁▃▃▁▁▂▄▂▂▂▄▄▂▅▅▅▂▂▆▆▆▂▆▇▂▂▂▇▂▂██</td></tr><tr><td>val_accuracy</td><td>▁▁█▁▆▅▇▇▂▃▃▇▇▂▇▇▆▅▄▇▆▇▃▄▅▇▇▇▆▇</td></tr><tr><td>val_f1</td><td>▁▁▃▂▄▆██▄▄▅██▃▇██▆▆███▅▆▆███▇█</td></tr><tr><td>val_jaccard</td><td>▄▄▁▄▃▆██▅▅▆██▅▇██▇▆███▅▆▇███▇█</td></tr><tr><td>val_loss_epoch</td><td>██▆▇▅▃▁▁▅▅▄▁▁▆▂▁▁▃▃▁▁▁▅▃▃▁▁▁▂▁</td></tr><tr><td>val_loss_step</td><td>███▆█▇▅▄▂▂▁▅▄▆▅▂▂▁▆▂▂▁▁▃▄▄▁▂▂▁▅▂▃▃▁▂▂▁▂▁</td></tr></table><br/></div><div class=\"wandb-col\"><h3>Run summary:</h3><br/><table class=\"wandb\"><tr><td>epoch</td><td>30</td></tr><tr><td>train_accuracy</td><td>0.84907</td></tr><tr><td>train_f1</td><td>0.83265</td></tr><tr><td>train_jaccard</td><td>0.83055</td></tr><tr><td>train_loss</td><td>0.13185</td></tr><tr><td>trainer/global_step</td><td>269</td></tr><tr><td>val_accuracy</td><td>0.82878</td></tr><tr><td>val_f1</td><td>0.80627</td></tr><tr><td>val_jaccard</td><td>0.8077</td></tr><tr><td>val_loss_epoch</td><td>0.19464</td></tr><tr><td>val_loss_step</td><td>0.18089</td></tr></table><br/></div></div>"
      ],
      "text/plain": [
       "<IPython.core.display.HTML object>"
      ]
     },
     "metadata": {},
     "output_type": "display_data"
    },
    {
     "data": {
      "text/html": [
       "Synced <strong style=\"color:#cdcd00\">stellar-sweep-3</strong>: <a href=\"https://wandb.ai/trees/Trees/runs/tp7f7gkr\" target=\"_blank\">https://wandb.ai/trees/Trees/runs/tp7f7gkr</a><br/>Synced 5 W&B file(s), 0 media file(s), 0 artifact file(s) and 0 other file(s)"
      ],
      "text/plain": [
       "<IPython.core.display.HTML object>"
      ]
     },
     "metadata": {},
     "output_type": "display_data"
    },
    {
     "data": {
      "text/html": [
       "Find logs at: <code>./wandb/run-20220620_173835-tp7f7gkr/logs</code>"
      ],
      "text/plain": [
       "<IPython.core.display.HTML object>"
      ]
     },
     "metadata": {},
     "output_type": "display_data"
    },
    {
     "name": "stderr",
     "output_type": "stream",
     "text": [
      "\u001b[34m\u001b[1mwandb\u001b[0m: Agent Starting Run: tjbo9ubu with config:\n",
      "\u001b[34m\u001b[1mwandb\u001b[0m: \tbatch_size: 40\n",
      "\u001b[34m\u001b[1mwandb\u001b[0m: \tencoder_name: resnet34\n",
      "\u001b[34m\u001b[1mwandb\u001b[0m: \tencoder_weights: imagenet\n",
      "\u001b[34m\u001b[1mwandb\u001b[0m: \tepochs: 1\n",
      "\u001b[34m\u001b[1mwandb\u001b[0m: \tin_channels: 1\n",
      "\u001b[34m\u001b[1mwandb\u001b[0m: \tjaccard_average: macro\n",
      "\u001b[34m\u001b[1mwandb\u001b[0m: \tloss: dice\n",
      "\u001b[34m\u001b[1mwandb\u001b[0m: \tlr: 0.0041666781172457505\n",
      "\u001b[34m\u001b[1mwandb\u001b[0m: \tnum_classes: 1\n"
     ]
    },
    {
     "data": {
      "text/html": [
       "wandb version 0.12.18 is available!  To upgrade, please run:\n",
       " $ pip install wandb --upgrade"
      ],
      "text/plain": [
       "<IPython.core.display.HTML object>"
      ]
     },
     "metadata": {},
     "output_type": "display_data"
    },
    {
     "data": {
      "text/html": [
       "Tracking run with wandb version 0.12.17"
      ],
      "text/plain": [
       "<IPython.core.display.HTML object>"
      ]
     },
     "metadata": {},
     "output_type": "display_data"
    },
    {
     "data": {
      "text/html": [
       "Run data is saved locally in <code>/Users/sofija/Ai4er/mres/tree-segmentation/wandb/run-20220620_174523-tjbo9ubu</code>"
      ],
      "text/plain": [
       "<IPython.core.display.HTML object>"
      ]
     },
     "metadata": {},
     "output_type": "display_data"
    },
    {
     "data": {
      "text/html": [
       "Syncing run <strong><a href=\"https://wandb.ai/trees/Trees/runs/tjbo9ubu\" target=\"_blank\">exalted-sweep-4</a></strong> to <a href=\"https://wandb.ai/trees/Trees\" target=\"_blank\">Weights & Biases</a> (<a href=\"https://wandb.me/run\" target=\"_blank\">docs</a>)<br/>Sweep page:  <a href=\"https://wandb.ai/trees/Trees/sweeps/kja7hfs1\" target=\"_blank\">https://wandb.ai/trees/Trees/sweeps/kja7hfs1</a>"
      ],
      "text/plain": [
       "<IPython.core.display.HTML object>"
      ]
     },
     "metadata": {},
     "output_type": "display_data"
    },
    {
     "name": "stderr",
     "output_type": "stream",
     "text": [
      "/Users/sofija/miniforge3/envs/torch_m1/lib/python3.8/site-packages/pytorch_lightning/loggers/wandb.py:347: UserWarning: There is a wandb run already in progress and newly created instances of `WandbLogger` will reuse this run. If this is not desired, call `wandb.finish()` before instantiating `WandbLogger`.\n",
      "  rank_zero_warn(\n",
      "GPU available: False, used: False\n",
      "TPU available: False, using: 0 TPU cores\n",
      "IPU available: False, using: 0 IPUs\n",
      "HPU available: False, using: 0 HPUs\n",
      "\n",
      "   | Name       | Type             | Params\n",
      "-------------------------------------------------\n",
      "0  | net        | Unet             | 24.4 M\n",
      "1  | loss       | DiceLoss         | 0     \n",
      "2  | train_acc  | Accuracy         | 0     \n",
      "3  | val_acc    | Accuracy         | 0     \n",
      "4  | test_acc   | Accuracy         | 0     \n",
      "5  | train_jacc | JaccardIndex     | 0     \n",
      "6  | val_jacc   | JaccardIndex     | 0     \n",
      "7  | test_jacc  | JaccardIndex     | 0     \n",
      "8  | train_f1   | F1Score          | 0     \n",
      "9  | val_f1     | F1Score          | 0     \n",
      "10 | test_f1    | F1Score          | 0     \n",
      "11 | rmse       | MeanSquaredError | 0     \n",
      "-------------------------------------------------\n",
      "24.4 M    Trainable params\n",
      "0         Non-trainable params\n",
      "24.4 M    Total params\n",
      "97.720    Total estimated model params size (MB)\n",
      "\u001b[34m\u001b[1mwandb\u001b[0m: \u001b[33mWARNING\u001b[0m Config item 'in_channels' was locked by 'sweep' (ignored update).\n",
      "\u001b[34m\u001b[1mwandb\u001b[0m: \u001b[33mWARNING\u001b[0m Config item 'encoder_name' was locked by 'sweep' (ignored update).\n",
      "\u001b[34m\u001b[1mwandb\u001b[0m: \u001b[33mWARNING\u001b[0m Config item 'encoder_weights' was locked by 'sweep' (ignored update).\n",
      "\u001b[34m\u001b[1mwandb\u001b[0m: \u001b[33mWARNING\u001b[0m Config item 'num_classes' was locked by 'sweep' (ignored update).\n",
      "\u001b[34m\u001b[1mwandb\u001b[0m: \u001b[33mWARNING\u001b[0m Config item 'loss' was locked by 'sweep' (ignored update).\n",
      "\u001b[34m\u001b[1mwandb\u001b[0m: \u001b[33mWARNING\u001b[0m Config item 'lr' was locked by 'sweep' (ignored update).\n",
      "\u001b[34m\u001b[1mwandb\u001b[0m: \u001b[33mWARNING\u001b[0m Config item 'jaccard_average' was locked by 'sweep' (ignored update).\n"
     ]
    },
    {
     "name": "stdout",
     "output_type": "stream",
     "text": [
      "Sanity Checking: 0it [00:00, ?it/s]"
     ]
    },
    {
     "name": "stderr",
     "output_type": "stream",
     "text": [
      "/Users/sofija/miniforge3/envs/torch_m1/lib/python3.8/site-packages/pytorch_lightning/utilities/data.py:127: UserWarning: Total length of `DataLoader` across ranks is zero. Please make sure this was your intention.\n",
      "  rank_zero_warn(\n",
      "/Users/sofija/miniforge3/envs/torch_m1/lib/python3.8/site-packages/pytorch_lightning/trainer/connectors/data_connector.py:240: PossibleUserWarning: The dataloader, val_dataloader 0, does not have many workers which may be a bottleneck. Consider increasing the value of the `num_workers` argument` (try 8 which is the number of cpus on this machine) in the `DataLoader` init to improve performance.\n",
      "  rank_zero_warn(\n"
     ]
    },
    {
     "data": {
      "text/html": [
       "Waiting for W&B process to finish... <strong style=\"color:red\">(failed 1).</strong> Press Control-C to abort syncing."
      ],
      "text/plain": [
       "<IPython.core.display.HTML object>"
      ]
     },
     "metadata": {},
     "output_type": "display_data"
    },
    {
     "data": {
      "text/html": [
       "Synced <strong style=\"color:#cdcd00\">exalted-sweep-4</strong>: <a href=\"https://wandb.ai/trees/Trees/runs/tjbo9ubu\" target=\"_blank\">https://wandb.ai/trees/Trees/runs/tjbo9ubu</a><br/>Synced 5 W&B file(s), 0 media file(s), 0 artifact file(s) and 0 other file(s)"
      ],
      "text/plain": [
       "<IPython.core.display.HTML object>"
      ]
     },
     "metadata": {},
     "output_type": "display_data"
    },
    {
     "data": {
      "text/html": [
       "Find logs at: <code>./wandb/run-20220620_174523-tjbo9ubu/logs</code>"
      ],
      "text/plain": [
       "<IPython.core.display.HTML object>"
      ]
     },
     "metadata": {},
     "output_type": "display_data"
    },
    {
     "name": "stderr",
     "output_type": "stream",
     "text": [
      "Run tjbo9ubu errored: ZeroDivisionError('float division by zero')\n",
      "\u001b[34m\u001b[1mwandb\u001b[0m: \u001b[32m\u001b[41mERROR\u001b[0m Run tjbo9ubu errored: ZeroDivisionError('float division by zero')\n",
      "\u001b[34m\u001b[1mwandb\u001b[0m: Agent Starting Run: qg4eqlhg with config:\n",
      "\u001b[34m\u001b[1mwandb\u001b[0m: \tbatch_size: 48\n",
      "\u001b[34m\u001b[1mwandb\u001b[0m: \tencoder_name: resnet50\n",
      "\u001b[34m\u001b[1mwandb\u001b[0m: \tencoder_weights: imagenet\n",
      "\u001b[34m\u001b[1mwandb\u001b[0m: \tepochs: 10\n",
      "\u001b[34m\u001b[1mwandb\u001b[0m: \tin_channels: 1\n",
      "\u001b[34m\u001b[1mwandb\u001b[0m: \tjaccard_average: macro\n",
      "\u001b[34m\u001b[1mwandb\u001b[0m: \tloss: dice\n",
      "\u001b[34m\u001b[1mwandb\u001b[0m: \tlr: 0.00951808682450227\n",
      "\u001b[34m\u001b[1mwandb\u001b[0m: \tnum_classes: 1\n"
     ]
    },
    {
     "data": {
      "text/html": [
       "wandb version 0.12.18 is available!  To upgrade, please run:\n",
       " $ pip install wandb --upgrade"
      ],
      "text/plain": [
       "<IPython.core.display.HTML object>"
      ]
     },
     "metadata": {},
     "output_type": "display_data"
    },
    {
     "data": {
      "text/html": [
       "Tracking run with wandb version 0.12.17"
      ],
      "text/plain": [
       "<IPython.core.display.HTML object>"
      ]
     },
     "metadata": {},
     "output_type": "display_data"
    },
    {
     "data": {
      "text/html": [
       "Run data is saved locally in <code>/Users/sofija/Ai4er/mres/tree-segmentation/wandb/run-20220620_174536-qg4eqlhg</code>"
      ],
      "text/plain": [
       "<IPython.core.display.HTML object>"
      ]
     },
     "metadata": {},
     "output_type": "display_data"
    },
    {
     "data": {
      "text/html": [
       "Syncing run <strong><a href=\"https://wandb.ai/trees/Trees/runs/qg4eqlhg\" target=\"_blank\">astral-sweep-5</a></strong> to <a href=\"https://wandb.ai/trees/Trees\" target=\"_blank\">Weights & Biases</a> (<a href=\"https://wandb.me/run\" target=\"_blank\">docs</a>)<br/>Sweep page:  <a href=\"https://wandb.ai/trees/Trees/sweeps/kja7hfs1\" target=\"_blank\">https://wandb.ai/trees/Trees/sweeps/kja7hfs1</a>"
      ],
      "text/plain": [
       "<IPython.core.display.HTML object>"
      ]
     },
     "metadata": {},
     "output_type": "display_data"
    },
    {
     "name": "stderr",
     "output_type": "stream",
     "text": [
      "/Users/sofija/miniforge3/envs/torch_m1/lib/python3.8/site-packages/pytorch_lightning/loggers/wandb.py:347: UserWarning: There is a wandb run already in progress and newly created instances of `WandbLogger` will reuse this run. If this is not desired, call `wandb.finish()` before instantiating `WandbLogger`.\n",
      "  rank_zero_warn(\n",
      "GPU available: False, used: False\n",
      "TPU available: False, using: 0 TPU cores\n",
      "IPU available: False, using: 0 IPUs\n",
      "HPU available: False, using: 0 HPUs\n",
      "\n",
      "   | Name       | Type             | Params\n",
      "-------------------------------------------------\n",
      "0  | net        | Unet             | 32.5 M\n",
      "1  | loss       | DiceLoss         | 0     \n",
      "2  | train_acc  | Accuracy         | 0     \n",
      "3  | val_acc    | Accuracy         | 0     \n",
      "4  | test_acc   | Accuracy         | 0     \n",
      "5  | train_jacc | JaccardIndex     | 0     \n",
      "6  | val_jacc   | JaccardIndex     | 0     \n",
      "7  | test_jacc  | JaccardIndex     | 0     \n",
      "8  | train_f1   | F1Score          | 0     \n",
      "9  | val_f1     | F1Score          | 0     \n",
      "10 | test_f1    | F1Score          | 0     \n",
      "11 | rmse       | MeanSquaredError | 0     \n",
      "-------------------------------------------------\n",
      "32.5 M    Trainable params\n",
      "0         Non-trainable params\n",
      "32.5 M    Total params\n",
      "130.059   Total estimated model params size (MB)\n",
      "\u001b[34m\u001b[1mwandb\u001b[0m: \u001b[33mWARNING\u001b[0m Config item 'in_channels' was locked by 'sweep' (ignored update).\n",
      "\u001b[34m\u001b[1mwandb\u001b[0m: \u001b[33mWARNING\u001b[0m Config item 'encoder_name' was locked by 'sweep' (ignored update).\n",
      "\u001b[34m\u001b[1mwandb\u001b[0m: \u001b[33mWARNING\u001b[0m Config item 'encoder_weights' was locked by 'sweep' (ignored update).\n",
      "\u001b[34m\u001b[1mwandb\u001b[0m: \u001b[33mWARNING\u001b[0m Config item 'num_classes' was locked by 'sweep' (ignored update).\n",
      "\u001b[34m\u001b[1mwandb\u001b[0m: \u001b[33mWARNING\u001b[0m Config item 'loss' was locked by 'sweep' (ignored update).\n",
      "\u001b[34m\u001b[1mwandb\u001b[0m: \u001b[33mWARNING\u001b[0m Config item 'lr' was locked by 'sweep' (ignored update).\n",
      "\u001b[34m\u001b[1mwandb\u001b[0m: \u001b[33mWARNING\u001b[0m Config item 'jaccard_average' was locked by 'sweep' (ignored update).\n"
     ]
    },
    {
     "name": "stdout",
     "output_type": "stream",
     "text": [
      "Sanity Checking: 0it [00:00, ?it/s]"
     ]
    },
    {
     "name": "stderr",
     "output_type": "stream",
     "text": [
      "/Users/sofija/miniforge3/envs/torch_m1/lib/python3.8/site-packages/pytorch_lightning/utilities/data.py:127: UserWarning: Total length of `DataLoader` across ranks is zero. Please make sure this was your intention.\n",
      "  rank_zero_warn(\n",
      "/Users/sofija/miniforge3/envs/torch_m1/lib/python3.8/site-packages/pytorch_lightning/trainer/connectors/data_connector.py:240: PossibleUserWarning: The dataloader, val_dataloader 0, does not have many workers which may be a bottleneck. Consider increasing the value of the `num_workers` argument` (try 8 which is the number of cpus on this machine) in the `DataLoader` init to improve performance.\n",
      "  rank_zero_warn(\n"
     ]
    },
    {
     "data": {
      "text/html": [
       "Waiting for W&B process to finish... <strong style=\"color:red\">(failed 1).</strong> Press Control-C to abort syncing."
      ],
      "text/plain": [
       "<IPython.core.display.HTML object>"
      ]
     },
     "metadata": {},
     "output_type": "display_data"
    },
    {
     "data": {
      "text/html": [
       "Synced <strong style=\"color:#cdcd00\">astral-sweep-5</strong>: <a href=\"https://wandb.ai/trees/Trees/runs/qg4eqlhg\" target=\"_blank\">https://wandb.ai/trees/Trees/runs/qg4eqlhg</a><br/>Synced 5 W&B file(s), 0 media file(s), 0 artifact file(s) and 0 other file(s)"
      ],
      "text/plain": [
       "<IPython.core.display.HTML object>"
      ]
     },
     "metadata": {},
     "output_type": "display_data"
    },
    {
     "data": {
      "text/html": [
       "Find logs at: <code>./wandb/run-20220620_174536-qg4eqlhg/logs</code>"
      ],
      "text/plain": [
       "<IPython.core.display.HTML object>"
      ]
     },
     "metadata": {},
     "output_type": "display_data"
    },
    {
     "name": "stderr",
     "output_type": "stream",
     "text": [
      "Run qg4eqlhg errored: ZeroDivisionError('float division by zero')\n",
      "\u001b[34m\u001b[1mwandb\u001b[0m: \u001b[32m\u001b[41mERROR\u001b[0m Run qg4eqlhg errored: ZeroDivisionError('float division by zero')\n"
     ]
    }
   ],
   "source": [
    "wandb.agent(sweep_id, function=sweep_iteration, count=5)"
   ]
  },
  {
   "cell_type": "code",
   "execution_count": 25,
   "id": "5bc05ed3-521b-491f-b53a-91d0cb3af35e",
   "metadata": {},
   "outputs": [],
   "source": [
    "wandb.finish()"
   ]
  },
  {
   "cell_type": "code",
   "execution_count": null,
   "id": "73b5c839-3182-47e5-8d6c-b6edbd545fc9",
   "metadata": {},
   "outputs": [],
   "source": []
  }
 ],
 "metadata": {
  "kernelspec": {
   "display_name": "torch",
   "language": "python",
   "name": "torch"
  },
  "language_info": {
   "codemirror_mode": {
    "name": "ipython",
    "version": 3
   },
   "file_extension": ".py",
   "mimetype": "text/x-python",
   "name": "python",
   "nbconvert_exporter": "python",
   "pygments_lexer": "ipython3",
   "version": "3.8.13"
  }
 },
 "nbformat": 4,
 "nbformat_minor": 5
}
