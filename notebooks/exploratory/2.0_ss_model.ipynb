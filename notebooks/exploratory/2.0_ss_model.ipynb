{
 "cells": [
  {
   "cell_type": "code",
   "execution_count": 1,
   "id": "41ce4b3f-2dc2-4147-9820-1f6e270c1da5",
   "metadata": {},
   "outputs": [
    {
     "name": "stderr",
     "output_type": "stream",
     "text": [
      "/Users/sofija/miniforge3/envs/torch_m1/lib/python3.8/site-packages/tqdm/auto.py:22: TqdmWarning: IProgress not found. Please update jupyter and ipywidgets. See https://ipywidgets.readthedocs.io/en/stable/user_install.html\n",
      "  from .autonotebook import tqdm as notebook_tqdm\n"
     ]
    }
   ],
   "source": [
    "import os\n",
    "import torch\n",
    "from torch import Tensor\n",
    "import torch.nn as nn\n",
    "import torch.nn.functional as F\n",
    "\n",
    "import torchvision\n",
    "from torchvision import transforms\n",
    "from torchmetrics import Accuracy, MetricCollection, JaccardIndex\n",
    "import segmentation_models_pytorch as smp\n",
    "from pytorch_toolbelt.losses import JaccardLoss, BinaryFocalLoss\n",
    "from torch.utils.data import Dataset, random_split, DataLoader\n",
    "\n",
    "from pytorch_lightning import Trainer\n",
    "from typing import Any, Tuple, Optional, Callable, cast\n",
    "\n",
    "import matplotlib.pyplot as plt\n",
    "import wandb"
   ]
  },
  {
   "cell_type": "code",
   "execution_count": 2,
   "id": "ec180b5b-d3fd-458c-9b91-a8295a911aa3",
   "metadata": {},
   "outputs": [],
   "source": [
    "import pytorch_lightning as pl\n",
    "from pytorch_lightning.callbacks import Callback\n",
    "from pytorch_lightning.loggers import WandbLogger\n",
    "from pytorch_lightning.callbacks import ModelCheckpoint"
   ]
  },
  {
   "cell_type": "code",
   "execution_count": 3,
   "id": "3bcf1cbb-3137-4ac1-b24f-16e0ddc912da",
   "metadata": {},
   "outputs": [
    {
     "name": "stderr",
     "output_type": "stream",
     "text": [
      "\u001b[34m\u001b[1mwandb\u001b[0m: Currently logged in as: \u001b[33msofstef\u001b[0m. Use \u001b[1m`wandb login --relogin`\u001b[0m to force relogin\n"
     ]
    },
    {
     "data": {
      "text/plain": [
       "True"
      ]
     },
     "execution_count": 3,
     "metadata": {},
     "output_type": "execute_result"
    }
   ],
   "source": [
    "wandb.login()"
   ]
  },
  {
   "cell_type": "code",
   "execution_count": 4,
   "id": "3b316bb1-2cbe-4213-a055-6a5c11f0b8d8",
   "metadata": {},
   "outputs": [],
   "source": [
    "%load_ext autoreload\n",
    "%autoreload 2"
   ]
  },
  {
   "cell_type": "code",
   "execution_count": 5,
   "id": "094d5e9f-7922-4bdb-bfa9-d904f70ce36e",
   "metadata": {},
   "outputs": [],
   "source": [
    "%load_ext lab_black"
   ]
  },
  {
   "cell_type": "code",
   "execution_count": 6,
   "id": "0f59cd82-47b8-4566-93fa-882f13589c6e",
   "metadata": {},
   "outputs": [
    {
     "data": {
      "text/plain": [
       "'/Users/sofija/Ai4er/mres/tree-segmentation'"
      ]
     },
     "execution_count": 6,
     "metadata": {},
     "output_type": "execute_result"
    }
   ],
   "source": [
    "os.chdir(\"/Users/sofija/Ai4er/mres/tree-segmentation\")\n",
    "os.getcwd()"
   ]
  },
  {
   "cell_type": "code",
   "execution_count": 7,
   "id": "5f0d1d15-3094-4854-94ae-a4905ee078d9",
   "metadata": {},
   "outputs": [],
   "source": [
    "from src.datasets import TreeSegments\n",
    "from src.evaluation import BinaryIoU\n",
    "from src.datamodules import TreeDataModule\n",
    "from src.models import UNet, SegModel\n",
    "from src.evaluation import LogPredictionSamplesCallback"
   ]
  },
  {
   "cell_type": "code",
   "execution_count": 13,
   "id": "305569c2-dcad-456a-b67e-3e1353b3e334",
   "metadata": {},
   "outputs": [],
   "source": [
    "dm = TreeDataModule(\n",
    "    data_dir=\"data/debug_depth/\",\n",
    "    target_dir=\"data/debug_segment/\",\n",
    "    batch_size=1,\n",
    "    num_workers=0,\n",
    ")"
   ]
  },
  {
   "cell_type": "code",
   "execution_count": 24,
   "id": "25ea0dc2-6454-4d15-871e-ebdc73b587c2",
   "metadata": {},
   "outputs": [],
   "source": [
    "dm.setup(stage=\"fit\")\n",
    "train_dl = dm.train_dataloader()\n",
    "val_dl = dm.val_dataloader()"
   ]
  },
  {
   "cell_type": "code",
   "execution_count": 25,
   "id": "1c3fe48c-ae00-47cb-ae55-8662c28e396b",
   "metadata": {
    "tags": []
   },
   "outputs": [],
   "source": [
    "for sample in train_dl:\n",
    "    image = sample[0]\n",
    "    mask = sample[1]"
   ]
  },
  {
   "cell_type": "code",
   "execution_count": 26,
   "id": "9412741a-aa88-4b17-bd3b-9575064acf00",
   "metadata": {},
   "outputs": [
    {
     "data": {
      "text/plain": [
       "torch.float32"
      ]
     },
     "execution_count": 26,
     "metadata": {},
     "output_type": "execute_result"
    }
   ],
   "source": [
    "image.dtype"
   ]
  },
  {
   "cell_type": "code",
   "execution_count": 27,
   "id": "1d46f6df-1719-45d3-be98-0eb58caa426f",
   "metadata": {},
   "outputs": [
    {
     "data": {
      "text/plain": [
       "torch.Size([1, 1, 120, 160])"
      ]
     },
     "execution_count": 27,
     "metadata": {},
     "output_type": "execute_result"
    }
   ],
   "source": [
    "image.shape"
   ]
  },
  {
   "cell_type": "markdown",
   "id": "8ec4020f-40dc-47e5-8b7a-32763ba2311a",
   "metadata": {},
   "source": [
    "### Metrics"
   ]
  },
  {
   "cell_type": "code",
   "execution_count": 55,
   "id": "03001308-6d4d-4c96-8f8d-0f103ffe348e",
   "metadata": {},
   "outputs": [],
   "source": [
    "from torchmetrics import Accuracy, MetricCollection, JaccardIndex"
   ]
  },
  {
   "cell_type": "code",
   "execution_count": 87,
   "id": "365eb2b5-ed56-448d-b25c-59d57f98b5da",
   "metadata": {},
   "outputs": [],
   "source": [
    "a = (torch.rand(torch.Size([1, 1, 120, 160])) > 0.5).float()\n",
    "b = (torch.rand(torch.Size([1, 120, 160])) > 0.5).int()"
   ]
  },
  {
   "cell_type": "markdown",
   "id": "59474d6b-1685-418c-80ff-def23a4ecd1e",
   "metadata": {},
   "source": [
    "Setting up model training\n"
   ]
  },
  {
   "cell_type": "code",
   "execution_count": 37,
   "id": "b29b6010-e6cb-4d37-8c07-3816034c7f5f",
   "metadata": {},
   "outputs": [],
   "source": [
    "model = SegModel(num_classes=1, lr=0.001)"
   ]
  },
  {
   "cell_type": "code",
   "execution_count": 22,
   "id": "51b15621-4978-4007-9fb8-2dc341b69b05",
   "metadata": {},
   "outputs": [],
   "source": [
    "callbacks = [\n",
    "    ModelCheckpoint(monitor=\"train_accuracy\", mode=\"max\"),\n",
    "    ModelCheckpoint(monitor=\"val_accuracy\", mode=\"max\"),\n",
    "    ModelCheckpoint(monitor=\"train_jaccard\", mode=\"max\"),\n",
    "    ModelCheckpoint(monitor=\"val_jaccard\", mode=\"max\"),\n",
    "    LogPredictionSamplesCallback(),\n",
    "    ModelCheckpoint(monitor=\"val_loss\", mode=\"max\"),\n",
    "]"
   ]
  },
  {
   "cell_type": "code",
   "execution_count": 38,
   "id": "5692594c-7064-4281-95e2-8329e3bd838d",
   "metadata": {},
   "outputs": [
    {
     "name": "stderr",
     "output_type": "stream",
     "text": [
      "/Users/sofija/miniforge3/envs/torch_m1/lib/python3.8/site-packages/pytorch_lightning/loops/utilities.py:91: PossibleUserWarning: `max_epochs` was not set. Setting it to 1000 epochs. To train without an epoch limit, set `max_epochs=-1`.\n",
      "  rank_zero_warn(\n",
      "GPU available: False, used: False\n",
      "TPU available: False, using: 0 TPU cores\n",
      "IPU available: False, using: 0 IPUs\n",
      "HPU available: False, using: 0 HPUs\n",
      "Running in fast_dev_run mode: will run a full train, val, test and prediction loop using 1 batch(es).\n",
      "`Trainer(limit_train_batches=1)` was configured so 1 batch per epoch will be used.\n",
      "`Trainer(limit_val_batches=1)` was configured so 1 batch will be used.\n",
      "`Trainer(limit_test_batches=1)` was configured so 1 batch will be used.\n",
      "`Trainer(limit_predict_batches=1)` was configured so 1 batch will be used.\n",
      "`Trainer(val_check_interval=1.0)` was configured so validation will run at the end of the training epoch..\n"
     ]
    }
   ],
   "source": [
    "# wandb_logger = WandbLogger(\n",
    "#     project=\"Trees\", log_model=\"all\", name=\"one_sample_20ep_lr_0.001\"\n",
    "# )\n",
    "\n",
    "trainer = Trainer(\n",
    "    # logger=wandb_logger,\n",
    "    # callbacks=callbacks,\n",
    "    fast_dev_run=True,\n",
    "    # max_epochs=10,\n",
    ")\n",
    "\n",
    "# wandb_logger.watch(model)"
   ]
  },
  {
   "cell_type": "code",
   "execution_count": 39,
   "id": "fc887820-f049-4bd8-ab54-8ed473f0f797",
   "metadata": {},
   "outputs": [
    {
     "name": "stderr",
     "output_type": "stream",
     "text": [
      "\n",
      "  | Name       | Type              | Params\n",
      "-------------------------------------------------\n",
      "0 | net        | UNet              | 1.9 M \n",
      "1 | loss       | BCEWithLogitsLoss | 0     \n",
      "2 | train_acc  | Accuracy          | 0     \n",
      "3 | val_acc    | Accuracy          | 0     \n",
      "4 | test_acc   | Accuracy          | 0     \n",
      "5 | train_jacc | JaccardIndex      | 0     \n",
      "6 | val_jacc   | JaccardIndex      | 0     \n",
      "7 | test_jacc  | JaccardIndex      | 0     \n",
      "-------------------------------------------------\n",
      "1.9 M     Trainable params\n",
      "0         Non-trainable params\n",
      "1.9 M     Total params\n",
      "7.457     Total estimated model params size (MB)\n"
     ]
    },
    {
     "name": "stdout",
     "output_type": "stream",
     "text": [
      "Epoch 0:  50%|██████████████████████████████████████                                      | 1/2 [00:00<00:00,  2.77it/s, loss=0.636, v_num=]\n",
      "Validation: 0it [00:00, ?it/s]\u001b[A\n",
      "Validation:   0%|                                                                                                     | 0/1 [00:00<?, ?it/s]\u001b[A\n",
      "Validation DataLoader 0:   0%|                                                                                        | 0/1 [00:00<?, ?it/s]\u001b[A\n",
      "Epoch 0: 100%|████████████████████████████████████████████████████████████████████████████| 2/2 [00:00<00:00,  4.41it/s, loss=0.636, v_num=]\u001b[A\n",
      "Epoch 0: 100%|████████████████████████████████████████████████████████████████████████████| 2/2 [00:00<00:00,  4.37it/s, loss=0.636, v_num=]\u001b[A\n"
     ]
    }
   ],
   "source": [
    "trainer.fit(model=model, datamodule=dm)"
   ]
  },
  {
   "cell_type": "code",
   "execution_count": 119,
   "id": "cc62ae0d-a731-4ae4-9629-90293320b86f",
   "metadata": {},
   "outputs": [
    {
     "data": {
      "text/html": [
       "Waiting for W&B process to finish... <strong style=\"color:green\">(success).</strong>"
      ],
      "text/plain": [
       "<IPython.core.display.HTML object>"
      ]
     },
     "metadata": {},
     "output_type": "display_data"
    },
    {
     "data": {
      "text/html": [
       "<style>\n",
       "    table.wandb td:nth-child(1) { padding: 0 10px; text-align: left ; width: auto;} td:nth-child(2) {text-align: left ; width: 100%}\n",
       "    .wandb-row { display: flex; flex-direction: row; flex-wrap: wrap; justify-content: flex-start; width: 100% }\n",
       "    .wandb-col { display: flex; flex-direction: column; flex-basis: 100%; flex: 1; padding: 10px; }\n",
       "    </style>\n",
       "<div class=\"wandb-row\"><div class=\"wandb-col\"><h3>Run history:</h3><br/><table class=\"wandb\"><tr><td>epoch</td><td>▁▂▂▂▂▃▃▄▄▅▅▅▅▆▆▇▇▇▇█</td></tr><tr><td>train_accuracy</td><td>▁▂▆▇▇▇████</td></tr><tr><td>train_jaccard</td><td>█▁███████▆</td></tr><tr><td>train_loss</td><td>▇█▆▃▃▂▂▁▁▁</td></tr><tr><td>trainer/global_step</td><td>▁▁▁▂▂▂▃▃▃▃▃▃▄▄▄▅▅▅▆▆▆▆▆▆▇▇▇██</td></tr><tr><td>val_accuracy</td><td>█▁▁▃█▇▅▆▇█</td></tr><tr><td>val_jaccard</td><td>▁██▆▁▁▁▁▁▁</td></tr><tr><td>val_loss</td><td>▁█▅▁▁▁▁▁▁▁</td></tr></table><br/></div><div class=\"wandb-col\"><h3>Run summary:</h3><br/><table class=\"wandb\"><tr><td>epoch</td><td>10</td></tr><tr><td>train_accuracy</td><td>0.96536</td></tr><tr><td>train_jaccard</td><td>0.74865</td></tr><tr><td>train_loss</td><td>0.16887</td></tr><tr><td>trainer/global_step</td><td>9</td></tr><tr><td>val_accuracy</td><td>0.90141</td></tr><tr><td>val_jaccard</td><td>0.0</td></tr><tr><td>val_loss</td><td>1.79706</td></tr></table><br/></div></div>"
      ],
      "text/plain": [
       "<IPython.core.display.HTML object>"
      ]
     },
     "metadata": {},
     "output_type": "display_data"
    },
    {
     "data": {
      "text/html": [
       "Synced <strong style=\"color:#cdcd00\">updated_one_sample</strong>: <a href=\"https://wandb.ai/sofstef/Trees/runs/3ovl3dck\" target=\"_blank\">https://wandb.ai/sofstef/Trees/runs/3ovl3dck</a><br/>Synced 5 W&B file(s), 33 media file(s), 17 artifact file(s) and 0 other file(s)"
      ],
      "text/plain": [
       "<IPython.core.display.HTML object>"
      ]
     },
     "metadata": {},
     "output_type": "display_data"
    },
    {
     "data": {
      "text/html": [
       "Find logs at: <code>./wandb/run-20220603_181104-3ovl3dck/logs</code>"
      ],
      "text/plain": [
       "<IPython.core.display.HTML object>"
      ]
     },
     "metadata": {},
     "output_type": "display_data"
    }
   ],
   "source": [
    "wandb.finish()"
   ]
  },
  {
   "cell_type": "markdown",
   "id": "6d8edb93-b83c-40e4-9be5-d88911206ce7",
   "metadata": {
    "tags": []
   },
   "source": [
    "### Inspecting prediction"
   ]
  },
  {
   "cell_type": "code",
   "execution_count": 26,
   "id": "33b7262a-a411-42de-8378-cf7dc9073114",
   "metadata": {},
   "outputs": [],
   "source": [
    "dm.setup(stage=\"predict\")"
   ]
  },
  {
   "cell_type": "code",
   "execution_count": 27,
   "id": "dc7c1109-c4fe-47ad-8100-997fae235b69",
   "metadata": {},
   "outputs": [],
   "source": [
    "predict_dl = dm.predict_dataloader()"
   ]
  },
  {
   "cell_type": "code",
   "execution_count": 28,
   "id": "f8500ac1-342c-47ab-979e-e44afe8e012f",
   "metadata": {},
   "outputs": [],
   "source": [
    "# currently in my predict dataloader I have only the inputs\n",
    "# so below where I plot I pick the corresponding mask by hand\n",
    "\n",
    "for sample in predict_dl:\n",
    "    gtruth = sample[0]"
   ]
  },
  {
   "cell_type": "code",
   "execution_count": 29,
   "id": "be7f6090-e690-49c2-b139-affd75a0da5b",
   "metadata": {},
   "outputs": [
    {
     "data": {
      "text/plain": [
       "torch.Size([1, 120, 160])"
      ]
     },
     "execution_count": 29,
     "metadata": {},
     "output_type": "execute_result"
    }
   ],
   "source": [
    "gtruth.shape"
   ]
  },
  {
   "cell_type": "code",
   "execution_count": 30,
   "id": "c8b53ac1-a01c-4e4c-aea1-07fd8de665b9",
   "metadata": {},
   "outputs": [
    {
     "name": "stderr",
     "output_type": "stream",
     "text": [
      "/Users/sofija/miniforge3/envs/torch_m1/lib/python3.8/site-packages/pytorch_lightning/trainer/connectors/data_connector.py:240: PossibleUserWarning: The dataloader, predict_dataloader 0, does not have many workers which may be a bottleneck. Consider increasing the value of the `num_workers` argument` (try 8 which is the number of cpus on this machine) in the `DataLoader` init to improve performance.\n",
      "  rank_zero_warn(\n"
     ]
    },
    {
     "name": "stdout",
     "output_type": "stream",
     "text": [
      "Predicting DataLoader 0: 100%|████████████████████████████████████████████████████████████████████████████████████████| 1/1 [00:00<?, ?it/s]\n"
     ]
    }
   ],
   "source": [
    "test_predict = trainer.predict(model, dm)"
   ]
  },
  {
   "cell_type": "code",
   "execution_count": 31,
   "id": "c5f8b897-3832-4cb6-9b6b-909cc1b82793",
   "metadata": {},
   "outputs": [
    {
     "data": {
      "text/plain": [
       "torch.Size([1, 1, 120, 160])"
      ]
     },
     "execution_count": 31,
     "metadata": {},
     "output_type": "execute_result"
    }
   ],
   "source": [
    "test_predict[0].shape"
   ]
  },
  {
   "cell_type": "code",
   "execution_count": 35,
   "id": "8148ad2f-55b9-4bfa-b965-6cb6c69e1611",
   "metadata": {},
   "outputs": [
    {
     "data": {
      "text/plain": [
       "[tensor([[[[-0.7251, -0.7748, -0.8082,  ..., -1.2953, -1.2342, -1.1199],\n",
       "           [-0.8287, -1.0975, -1.3716,  ..., -1.3963, -1.4058, -1.2190],\n",
       "           [-0.8181, -1.3718, -1.4454,  ..., -1.3279, -1.2823, -1.1269],\n",
       "           ...,\n",
       "           [-1.3390, -1.4605, -1.4094,  ..., -1.3337, -1.3652, -1.2108],\n",
       "           [-1.3875, -1.4885, -1.4509,  ..., -1.4229, -1.3885, -1.1903],\n",
       "           [-1.1978, -1.3100, -1.2915,  ..., -1.2819, -1.2921, -1.1526]]]])]"
      ]
     },
     "execution_count": 35,
     "metadata": {},
     "output_type": "execute_result"
    }
   ],
   "source": [
    "test_predict"
   ]
  },
  {
   "cell_type": "code",
   "execution_count": 32,
   "id": "0b463081-16f0-4ea6-9d0b-a1f8bf694a1d",
   "metadata": {},
   "outputs": [],
   "source": [
    "from PIL import Image"
   ]
  },
  {
   "cell_type": "code",
   "execution_count": 36,
   "id": "5c3eb26e-82fc-4b94-b758-67f41be00cef",
   "metadata": {},
   "outputs": [
    {
     "data": {
      "image/png": "[encoded data removed]",
      "text/plain": [
       "<Figure size 1440x576 with 2 Axes>"
      ]
     },
     "metadata": {
      "needs_background": "light"
     },
     "output_type": "display_data"
    }
   ],
   "source": [
    "ncols = 2\n",
    "\n",
    "sample_n = 0\n",
    "\n",
    "fig, axs = plt.subplots(\n",
    "    nrows=1,\n",
    "    ncols=ncols,\n",
    "    figsize=(20, ncols * 4),\n",
    ")\n",
    "\n",
    "msk = test_predict[0][sample_n, :, :]\n",
    "msk = torch.squeeze(msk)\n",
    "axs[0].imshow(msk)\n",
    "axs[0].axis(\"off\")\n",
    "\n",
    "gtruth = Image.open(\"data/debug_segment/BinaryMask_22_47.tiff\")\n",
    "axs[1].imshow(gtruth)\n",
    "\n",
    "plt.savefig(\"data/plots/one_sample.jpg\")"
   ]
  }
 ],
 "metadata": {
  "kernelspec": {
   "display_name": "torch",
   "language": "python",
   "name": "torch"
  },
  "language_info": {
   "codemirror_mode": {
    "name": "ipython",
    "version": 3
   },
   "file_extension": ".py",
   "mimetype": "text/x-python",
   "name": "python",
   "nbconvert_exporter": "python",
   "pygments_lexer": "ipython3",
   "version": "3.8.13"
  }
 },
 "nbformat": 4,
 "nbformat_minor": 5
}
