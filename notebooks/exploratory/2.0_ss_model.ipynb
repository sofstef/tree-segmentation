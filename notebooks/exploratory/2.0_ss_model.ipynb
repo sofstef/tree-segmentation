{
 "cells": [
  {
   "cell_type": "code",
   "execution_count": 1,
   "id": "41ce4b3f-2dc2-4147-9820-1f6e270c1da5",
   "metadata": {},
   "outputs": [
    {
     "name": "stderr",
     "output_type": "stream",
     "text": [
      "/Users/sofija/miniforge3/envs/torch_m1/lib/python3.8/site-packages/tqdm/auto.py:22: TqdmWarning: IProgress not found. Please update jupyter and ipywidgets. See https://ipywidgets.readthedocs.io/en/stable/user_install.html\n",
      "  from .autonotebook import tqdm as notebook_tqdm\n"
     ]
    }
   ],
   "source": [
    "import os\n",
    "import numpy as np\n",
    "import torch\n",
    "from torch import Tensor\n",
    "import torch.nn as nn\n",
    "import torch.nn.functional as F\n",
    "\n",
    "import torchvision\n",
    "from torchvision import transforms\n",
    "from torchmetrics import Accuracy, MetricCollection, JaccardIndex, F1Score\n",
    "import segmentation_models_pytorch as smp\n",
    "from pytorch_toolbelt.losses import JaccardLoss, BinaryFocalLoss\n",
    "from torch.utils.data import Dataset, random_split, DataLoader\n",
    "\n",
    "from pytorch_lightning import Trainer\n",
    "from typing import Any, Tuple, Optional, Callable, cast\n",
    "\n",
    "import matplotlib.pyplot as plt\n",
    "import wandb\n",
    "import tqdm as notebook_tqdm\n",
    "import random"
   ]
  },
  {
   "cell_type": "code",
   "execution_count": 2,
   "id": "ec180b5b-d3fd-458c-9b91-a8295a911aa3",
   "metadata": {},
   "outputs": [],
   "source": [
    "import pytorch_lightning as pl\n",
    "from pytorch_lightning.callbacks import Callback\n",
    "from pytorch_lightning.loggers import WandbLogger\n",
    "from pytorch_lightning.callbacks import ModelCheckpoint"
   ]
  },
  {
   "cell_type": "code",
   "execution_count": 3,
   "id": "e6831708-22c9-4ce5-a780-0d92a5740af3",
   "metadata": {},
   "outputs": [],
   "source": [
    "import segmentation_models_pytorch as smp"
   ]
  },
  {
   "cell_type": "code",
   "execution_count": 4,
   "id": "851aa6f2-8814-4b2c-8e49-4228636628e3",
   "metadata": {},
   "outputs": [
    {
     "name": "stderr",
     "output_type": "stream",
     "text": [
      "Global seed set to 27\n"
     ]
    },
    {
     "data": {
      "text/plain": [
       "27"
      ]
     },
     "execution_count": 4,
     "metadata": {},
     "output_type": "execute_result"
    }
   ],
   "source": [
    "pl.seed_everything(27)"
   ]
  },
  {
   "cell_type": "code",
   "execution_count": 5,
   "id": "3bcf1cbb-3137-4ac1-b24f-16e0ddc912da",
   "metadata": {},
   "outputs": [
    {
     "name": "stderr",
     "output_type": "stream",
     "text": [
      "\u001b[34m\u001b[1mwandb\u001b[0m: Currently logged in as: \u001b[33msofstef\u001b[0m (\u001b[33mtrees\u001b[0m). Use \u001b[1m`wandb login --relogin`\u001b[0m to force relogin\n"
     ]
    },
    {
     "data": {
      "text/plain": [
       "True"
      ]
     },
     "execution_count": 5,
     "metadata": {},
     "output_type": "execute_result"
    }
   ],
   "source": [
    "wandb.login()"
   ]
  },
  {
   "cell_type": "code",
   "execution_count": 6,
   "id": "3b316bb1-2cbe-4213-a055-6a5c11f0b8d8",
   "metadata": {},
   "outputs": [],
   "source": [
    "%load_ext autoreload\n",
    "%autoreload 2"
   ]
  },
  {
   "cell_type": "code",
   "execution_count": 7,
   "id": "094d5e9f-7922-4bdb-bfa9-d904f70ce36e",
   "metadata": {},
   "outputs": [],
   "source": [
    "%load_ext lab_black"
   ]
  },
  {
   "cell_type": "code",
   "execution_count": 8,
   "id": "0f59cd82-47b8-4566-93fa-882f13589c6e",
   "metadata": {},
   "outputs": [
    {
     "data": {
      "text/plain": [
       "'/Users/sofija/Ai4er/mres/tree-segmentation'"
      ]
     },
     "execution_count": 8,
     "metadata": {},
     "output_type": "execute_result"
    }
   ],
   "source": [
    "os.chdir(\"/Users/sofija/Ai4er/mres/tree-segmentation\")\n",
    "os.getcwd()"
   ]
  },
  {
   "cell_type": "code",
   "execution_count": 9,
   "id": "5f0d1d15-3094-4854-94ae-a4905ee078d9",
   "metadata": {},
   "outputs": [],
   "source": [
    "from src.datasets import TreeSegments\n",
    "from src.evaluation import BinaryIoU\n",
    "from src.datamodules import TreeDataModule\n",
    "from src.models import UNet, SegModel\n",
    "from src.evaluation import LogPredictionSamplesCallback"
   ]
  },
  {
   "cell_type": "code",
   "execution_count": 10,
   "id": "2d6e681b-16b6-4df3-aa0c-af9554b90d03",
   "metadata": {},
   "outputs": [],
   "source": [
    "n_cpu = os.cpu_count()"
   ]
  },
  {
   "cell_type": "code",
   "execution_count": 11,
   "id": "305569c2-dcad-456a-b67e-3e1353b3e334",
   "metadata": {},
   "outputs": [],
   "source": [
    "dm = TreeDataModule(\n",
    "    data_dir=\"data/train/samples/\",\n",
    "    target_dir=\"data/train/segments/\",\n",
    "    test_data_dir=\"data/test/samples\",\n",
    "    test_target_dir=\"data/test/segments/\",\n",
    "    batch_size=8,\n",
    "    num_workers=0,\n",
    "    drop_last_batch=True,\n",
    ")"
   ]
  },
  {
   "cell_type": "code",
   "execution_count": 12,
   "id": "25ea0dc2-6454-4d15-871e-ebdc73b587c2",
   "metadata": {},
   "outputs": [],
   "source": [
    "dm.setup(stage=\"fit\")\n",
    "train_dl = dm.train_dataloader()\n",
    "val_dl = dm.val_dataloader()"
   ]
  },
  {
   "cell_type": "code",
   "execution_count": 30,
   "id": "1c3fe48c-ae00-47cb-ae55-8662c28e396b",
   "metadata": {
    "tags": []
   },
   "outputs": [
    {
     "name": "stdout",
     "output_type": "stream",
     "text": [
      "                                                                                                                                                                                                                                                                                                                                                                            \r"
     ]
    }
   ],
   "source": [
    "for sample in train_dl:\n",
    "    image = sample[0]\n",
    "    mask = sample[1]"
   ]
  },
  {
   "cell_type": "code",
   "execution_count": 34,
   "id": "d8b5790e-5d3b-4ab7-b7bb-55a17996feec",
   "metadata": {},
   "outputs": [
    {
     "data": {
      "text/plain": [
       "tensor(-1.5401)"
      ]
     },
     "execution_count": 34,
     "metadata": {},
     "output_type": "execute_result"
    }
   ],
   "source": [
    "image.min()"
   ]
  },
  {
   "cell_type": "code",
   "execution_count": 35,
   "id": "9412741a-aa88-4b17-bd3b-9575064acf00",
   "metadata": {},
   "outputs": [
    {
     "data": {
      "text/plain": [
       "torch.float32"
      ]
     },
     "execution_count": 35,
     "metadata": {},
     "output_type": "execute_result"
    }
   ],
   "source": [
    "image.dtype"
   ]
  },
  {
   "cell_type": "code",
   "execution_count": 36,
   "id": "1d46f6df-1719-45d3-be98-0eb58caa426f",
   "metadata": {},
   "outputs": [
    {
     "data": {
      "text/plain": [
       "torch.Size([8, 1, 128, 160])"
      ]
     },
     "execution_count": 36,
     "metadata": {},
     "output_type": "execute_result"
    }
   ],
   "source": [
    "image.shape"
   ]
  },
  {
   "cell_type": "code",
   "execution_count": 38,
   "id": "6a66d752-2b75-4fbd-be6b-f7ca395727df",
   "metadata": {},
   "outputs": [
    {
     "data": {
      "text/plain": [
       "<matplotlib.image.AxesImage at 0x29eaf0fd0>"
      ]
     },
     "execution_count": 38,
     "metadata": {},
     "output_type": "execute_result"
    },
    {
     "data": {
      "image/png": "[encoded data removed]",
      "text/plain": [
       "<Figure size 432x288 with 1 Axes>"
      ]
     },
     "metadata": {
      "needs_background": "light"
     },
     "output_type": "display_data"
    }
   ],
   "source": [
    "plt.imshow(torch.squeeze(image[0, :, :, :]))"
   ]
  },
  {
   "cell_type": "markdown",
   "id": "59474d6b-1685-418c-80ff-def23a4ecd1e",
   "metadata": {},
   "source": [
    "## Setting up model training\n"
   ]
  },
  {
   "cell_type": "code",
   "execution_count": 13,
   "id": "b29b6010-e6cb-4d37-8c07-3816034c7f5f",
   "metadata": {},
   "outputs": [],
   "source": [
    "model = SegModel(\n",
    "    in_channels=1,\n",
    "    encoder_name=\"resnet18\",\n",
    "    encoder_weights=\"imagenet\",\n",
    "    num_classes=1,\n",
    "    loss=\"dice\",\n",
    "    ignore_zeros=None,\n",
    "    lr=0.001,\n",
    "    jaccard_average=\"macro\",\n",
    ")"
   ]
  },
  {
   "cell_type": "code",
   "execution_count": 14,
   "id": "51b15621-4978-4007-9fb8-2dc341b69b05",
   "metadata": {},
   "outputs": [],
   "source": [
    "callbacks = [\n",
    "    ModelCheckpoint(monitor=\"train_accuracy\", mode=\"max\"),\n",
    "    ModelCheckpoint(monitor=\"val_accuracy\", mode=\"max\"),\n",
    "    ModelCheckpoint(monitor=\"train_jaccard\", mode=\"max\"),\n",
    "    ModelCheckpoint(monitor=\"val_jaccard\", mode=\"max\"),\n",
    "    LogPredictionSamplesCallback(),\n",
    "    ModelCheckpoint(monitor=\"val_loss\", mode=\"min\", save_top_k=2),\n",
    "    ModelCheckpoint(monitor=\"train_f1\", mode=\"max\"),\n",
    "    ModelCheckpoint(monitor=\"val_f1\", mode=\"max\"),\n",
    "]"
   ]
  },
  {
   "cell_type": "code",
   "execution_count": 15,
   "id": "5692594c-7064-4281-95e2-8329e3bd838d",
   "metadata": {},
   "outputs": [
    {
     "data": {
      "text/html": [
       "Changes to your `wandb` environment variables will be ignored because your `wandb` session has already started. For more information on how to modify your settings with `wandb.init()` arguments, please refer to <a href=\"https://wandb.me/wandb-init\" target=\"_blank\">the W&B docs</a>."
      ],
      "text/plain": [
       "<IPython.core.display.HTML object>"
      ]
     },
     "metadata": {},
     "output_type": "display_data"
    },
    {
     "data": {
      "text/html": [
       "wandb version 0.12.20 is available!  To upgrade, please run:\n",
       " $ pip install wandb --upgrade"
      ],
      "text/plain": [
       "<IPython.core.display.HTML object>"
      ]
     },
     "metadata": {},
     "output_type": "display_data"
    },
    {
     "data": {
      "text/html": [
       "Tracking run with wandb version 0.12.17"
      ],
      "text/plain": [
       "<IPython.core.display.HTML object>"
      ]
     },
     "metadata": {},
     "output_type": "display_data"
    },
    {
     "data": {
      "text/html": [
       "Run data is saved locally in <code>/Users/sofija/Ai4er/mres/tree-segmentation/wandb/run-20220629_164412-3qrod558</code>"
      ],
      "text/plain": [
       "<IPython.core.display.HTML object>"
      ]
     },
     "metadata": {},
     "output_type": "display_data"
    },
    {
     "data": {
      "text/html": [
       "Syncing run <strong><a href=\"https://wandb.ai/trees/Trees/runs/3qrod558\" target=\"_blank\">test_prediction_logging</a></strong> to <a href=\"https://wandb.ai/trees/Trees\" target=\"_blank\">Weights & Biases</a> (<a href=\"https://wandb.me/run\" target=\"_blank\">docs</a>)<br/>"
      ],
      "text/plain": [
       "<IPython.core.display.HTML object>"
      ]
     },
     "metadata": {},
     "output_type": "display_data"
    },
    {
     "name": "stderr",
     "output_type": "stream",
     "text": [
      "GPU available: False, used: False\n",
      "TPU available: False, using: 0 TPU cores\n",
      "IPU available: False, using: 0 IPUs\n",
      "HPU available: False, using: 0 HPUs\n",
      "\u001b[34m\u001b[1mwandb\u001b[0m: logging graph, to disable use `wandb.watch(log_graph=False)`\n"
     ]
    }
   ],
   "source": [
    "wandb_logger = WandbLogger(\n",
    "    project=\"Trees\",\n",
    "    log_model=\"all\",\n",
    "    name=\"test_prediction_logging\",\n",
    "    save_code=False,\n",
    ")\n",
    "\n",
    "trainer = Trainer(\n",
    "    logger=wandb_logger,\n",
    "    callbacks=callbacks,\n",
    "    # fast_dev_run=True,\n",
    "    max_epochs=3,\n",
    ")\n",
    "\n",
    "wandb_logger.watch(model)"
   ]
  },
  {
   "cell_type": "code",
   "execution_count": 16,
   "id": "fc887820-f049-4bd8-ab54-8ed473f0f797",
   "metadata": {},
   "outputs": [
    {
     "name": "stderr",
     "output_type": "stream",
     "text": [
      "\n",
      "   | Name       | Type             | Params\n",
      "-------------------------------------------------\n",
      "0  | net        | Unet             | 14.3 M\n",
      "1  | loss       | DiceLoss         | 0     \n",
      "2  | train_acc  | Accuracy         | 0     \n",
      "3  | val_acc    | Accuracy         | 0     \n",
      "4  | test_acc   | Accuracy         | 0     \n",
      "5  | train_jacc | JaccardIndex     | 0     \n",
      "6  | val_jacc   | JaccardIndex     | 0     \n",
      "7  | test_jacc  | JaccardIndex     | 0     \n",
      "8  | train_f1   | F1Score          | 0     \n",
      "9  | val_f1     | F1Score          | 0     \n",
      "10 | test_f1    | F1Score          | 0     \n",
      "11 | rmse       | MeanSquaredError | 0     \n",
      "-------------------------------------------------\n",
      "14.3 M    Trainable params\n",
      "0         Non-trainable params\n",
      "14.3 M    Total params\n",
      "57.288    Total estimated model params size (MB)\n"
     ]
    },
    {
     "name": "stdout",
     "output_type": "stream",
     "text": [
      "Sanity Checking: 0it [00:00, ?it/s]"
     ]
    },
    {
     "name": "stderr",
     "output_type": "stream",
     "text": [
      "/Users/sofija/miniforge3/envs/torch_m1/lib/python3.8/site-packages/pytorch_lightning/trainer/connectors/data_connector.py:240: PossibleUserWarning: The dataloader, val_dataloader 0, does not have many workers which may be a bottleneck. Consider increasing the value of the `num_workers` argument` (try 8 which is the number of cpus on this machine) in the `DataLoader` init to improve performance.\n",
      "  rank_zero_warn(\n"
     ]
    },
    {
     "name": "stdout",
     "output_type": "stream",
     "text": [
      "                                                                                                                                                                                                                                                                                                                                                                            "
     ]
    },
    {
     "name": "stderr",
     "output_type": "stream",
     "text": [
      "/Users/sofija/miniforge3/envs/torch_m1/lib/python3.8/site-packages/pytorch_lightning/trainer/connectors/data_connector.py:240: PossibleUserWarning: The dataloader, train_dataloader, does not have many workers which may be a bottleneck. Consider increasing the value of the `num_workers` argument` (try 8 which is the number of cpus on this machine) in the `DataLoader` init to improve performance.\n",
      "  rank_zero_warn(\n",
      "/Users/sofija/miniforge3/envs/torch_m1/lib/python3.8/site-packages/pytorch_lightning/trainer/trainer.py:1927: PossibleUserWarning: The number of training batches (11) is smaller than the logging interval Trainer(log_every_n_steps=50). Set a lower value for log_every_n_steps if you want to see logs for the training epoch.\n",
      "  rank_zero_warn(\n"
     ]
    },
    {
     "name": "stdout",
     "output_type": "stream",
     "text": [
      "Epoch 0:  79%|███████████████████████████████████████████████████████████████████████████████████████████████████████████████████████████████████████████████████████████████████████████████████████████████████████████████████████████████████████                                                               | 11/14 [00:12<00:03,  1.15s/it, loss=0.558, v_num=d558]\n",
      "Validation: 0it [00:00, ?it/s]\u001b[A\n",
      "Validation:   0%|                                                                                                                                                                                                                                                                                                                                     | 0/3 [00:00<?, ?it/s]\u001b[A\n",
      "Validation DataLoader 0:   0%|                                                                                                                                                                                                                                                                                                                        | 0/3 [00:00<?, ?it/s]\u001b[A\n",
      "Validation DataLoader 0:  33%|█████████████████████████████████████████████████████████████████████████████████████████████████████▎                                                                                                                                                                                                          | 1/3 [00:00<00:00,  2.90it/s]\u001b[A\n",
      "Epoch 0:  86%|████████████████████████████████████████████████████████████████████████████████████████████████████████████████████████████████████████████████████████████████████████████████████████████████████████████████████████████████████████████████████████████                                          | 12/14 [00:13<00:02,  1.11s/it, loss=0.558, v_num=d558]\u001b[A\n",
      "Validation DataLoader 0:  67%|██████████████████████████████████████████████████████████████████████████████████████████████████████████████████████████████████████████████████████████████████████████████████████████████████████████▋                                                                                                     | 2/3 [00:01<00:00,  1.82it/s]\u001b[A\n",
      "Epoch 0:  93%|█████████████████████████████████████████████████████████████████████████████████████████████████████████████████████████████████████████████████████████████████████████████████████████████████████████████████████████████████████████████████████████████████████████████████                     | 13/14 [00:14<00:01,  1.08s/it, loss=0.558, v_num=d558]\u001b[A\n",
      "Validation DataLoader 0: 100%|████████████████████████████████████████████████████████████████████████████████████████████████████████████████████████████████████████████████████████████████████████████████████████████████████████████████████████████████████████████████████████████████████████████████████████████████████████████████| 3/3 [00:01<00:00,  1.61it/s]\u001b[A\n",
      "Epoch 0: 100%|██████████████████████████████████████████████████████████████████████████████████████████████████████████████████████████████████████████████████████████████████████████████████████████████████████████████████████████████████████████████████████████████████████████████████████████████████████| 14/14 [00:14<00:00,  1.05s/it, loss=0.558, v_num=d558]\u001b[A\n",
      "Epoch 1:  79%|███████████████████████████████████████████████████████████████████████████████████████████████████████████████████████████████████████████████████████████████████████████████████████████████████████████████████████████████████████                                                               | 11/14 [00:10<00:02,  1.06it/s, loss=0.444, v_num=d558]\u001b[A\n",
      "Validation: 0it [00:00, ?it/s]\u001b[A\n",
      "Validation:   0%|                                                                                                                                                                                                                                                                                                                                     | 0/3 [00:00<?, ?it/s]\u001b[A\n",
      "Validation DataLoader 0:   0%|                                                                                                                                                                                                                                                                                                                        | 0/3 [00:00<?, ?it/s]\u001b[A\n",
      "Validation DataLoader 0:  33%|█████████████████████████████████████████████████████████████████████████████████████████████████████▎                                                                                                                                                                                                          | 1/3 [00:00<00:00,  3.05it/s]\u001b[A\n",
      "Epoch 1:  86%|████████████████████████████████████████████████████████████████████████████████████████████████████████████████████████████████████████████████████████████████████████████████████████████████████████████████████████████████████████████████████████████                                          | 12/14 [00:10<00:01,  1.09it/s, loss=0.444, v_num=d558]\u001b[A\n",
      "Validation DataLoader 0:  67%|██████████████████████████████████████████████████████████████████████████████████████████████████████████████████████████████████████████████████████████████████████████████████████████████████████████▋                                                                                                     | 2/3 [00:00<00:00,  2.09it/s]\u001b[A\n",
      "Epoch 1:  93%|█████████████████████████████████████████████████████████████████████████████████████████████████████████████████████████████████████████████████████████████████████████████████████████████████████████████████████████████████████████████████████████████████████████████████                     | 13/14 [00:11<00:00,  1.12it/s, loss=0.444, v_num=d558]\u001b[A\n",
      "Validation DataLoader 0: 100%|████████████████████████████████████████████████████████████████████████████████████████████████████████████████████████████████████████████████████████████████████████████████████████████████████████████████████████████████████████████████████████████████████████████████████████████████████████████████| 3/3 [00:01<00:00,  2.01it/s]\u001b[A\n",
      "Epoch 1: 100%|██████████████████████████████████████████████████████████████████████████████████████████████████████████████████████████████████████████████████████████████████████████████████████████████████████████████████████████████████████████████████████████████████████████████████████████████████████| 14/14 [00:12<00:00,  1.16it/s, loss=0.444, v_num=d558]\u001b[A\n",
      "Epoch 2:  79%|███████████████████████████████████████████████████████████████████████████████████████████████████████████████████████████████████████████████████████████████████████████████████████████████████████████████████████████████████████                                                               | 11/14 [00:12<00:03,  1.13s/it, loss=0.325, v_num=d558]\u001b[A\n",
      "Validation: 0it [00:00, ?it/s]\u001b[A\n",
      "Validation:   0%|                                                                                                                                                                                                                                                                                                                                     | 0/3 [00:00<?, ?it/s]\u001b[A\n",
      "Validation DataLoader 0:   0%|                                                                                                                                                                                                                                                                                                                        | 0/3 [00:00<?, ?it/s]\u001b[A\n",
      "Validation DataLoader 0:  33%|█████████████████████████████████████████████████████████████████████████████████████████████████████▎                                                                                                                                                                                                          | 1/3 [00:00<00:00,  2.81it/s]\u001b[A\n",
      "Epoch 2:  86%|████████████████████████████████████████████████████████████████████████████████████████████████████████████████████████████████████████████████████████████████████████████████████████████████████████████████████████████████████████████████████████████                                          | 12/14 [00:13<00:02,  1.09s/it, loss=0.325, v_num=d558]\u001b[A\n",
      "Validation DataLoader 0:  67%|██████████████████████████████████████████████████████████████████████████████████████████████████████████████████████████████████████████████████████████████████████████████████████████████████████████▋                                                                                                     | 2/3 [00:00<00:00,  2.15it/s]\u001b[A\n",
      "Epoch 2:  93%|█████████████████████████████████████████████████████████████████████████████████████████████████████████████████████████████████████████████████████████████████████████████████████████████████████████████████████████████████████████████████████████████████████████████████                     | 13/14 [00:13<00:01,  1.05s/it, loss=0.325, v_num=d558]\u001b[A\n",
      "Validation DataLoader 0: 100%|████████████████████████████████████████████████████████████████████████████████████████████████████████████████████████████████████████████████████████████████████████████████████████████████████████████████████████████████████████████████████████████████████████████████████████████████████████████████| 3/3 [00:01<00:00,  1.93it/s]\u001b[A\n",
      "Epoch 2: 100%|██████████████████████████████████████████████████████████████████████████████████████████████████████████████████████████████████████████████████████████████████████████████████████████████████████████████████████████████████████████████████████████████████████████████████████████████████████| 14/14 [00:14<00:00,  1.02s/it, loss=0.325, v_num=d558]\u001b[A\n",
      "Epoch 2: 100%|██████████████████████████████████████████████████████████████████████████████████████████████████████████████████████████████████████████████████████████████████████████████████████████████████████████████████████████████████████████████████████████████████████████████████████████████████████| 14/14 [00:17<00:00,  1.26s/it, loss=0.325, v_num=d558]\u001b[A\n"
     ]
    }
   ],
   "source": [
    "trainer.fit(model=model, datamodule=dm)"
   ]
  },
  {
   "cell_type": "code",
   "execution_count": 47,
   "id": "458f881b-b499-4ea0-a279-a05ae6d34fe2",
   "metadata": {},
   "outputs": [],
   "source": [
    "d = {\"one\": 1}"
   ]
  },
  {
   "cell_type": "code",
   "execution_count": 49,
   "id": "c7461b0e-a67a-4de5-b723-036c941e5217",
   "metadata": {},
   "outputs": [
    {
     "data": {
      "text/plain": [
       "dict_keys(['one'])"
      ]
     },
     "execution_count": 49,
     "metadata": {},
     "output_type": "execute_result"
    }
   ],
   "source": [
    "d.keys()"
   ]
  },
  {
   "cell_type": "code",
   "execution_count": 25,
   "id": "26f11822-b890-47c7-9b84-c1888818e03c",
   "metadata": {},
   "outputs": [],
   "source": [
    "dm.setup(stage=\"test\")\n",
    "test_dl = dm.test_dataloader()"
   ]
  },
  {
   "cell_type": "code",
   "execution_count": 24,
   "id": "d31fc33d-0412-4931-8201-b943891c6fd4",
   "metadata": {},
   "outputs": [
    {
     "name": "stderr",
     "output_type": "stream",
     "text": [
      "/Users/sofija/miniforge3/envs/torch_m1/lib/python3.8/site-packages/pytorch_lightning/trainer/trainer.py:1444: UserWarning: `.test(ckpt_path=None)` was called without a model. The best model of the previous `fit` call will be used. You can pass `test(ckpt_path='best')` to use and best model checkpoint and avoid this warning or `ckpt_path=trainer.checkpoint_callback.last_model_path` to use the last model.\n",
      "  rank_zero_warn(\n",
      "Restoring states from the checkpoint path at /Users/sofija/Ai4er/mres/tree-segmentation/lightning_logs/version_50/checkpoints/epoch=4-step=5.ckpt\n",
      "Loaded model weights from checkpoint at /Users/sofija/Ai4er/mres/tree-segmentation/lightning_logs/version_50/checkpoints/epoch=4-step=5.ckpt\n",
      "/Users/sofija/miniforge3/envs/torch_m1/lib/python3.8/site-packages/pytorch_lightning/trainer/connectors/data_connector.py:240: PossibleUserWarning: The dataloader, test_dataloader 0, does not have many workers which may be a bottleneck. Consider increasing the value of the `num_workers` argument` (try 8 which is the number of cpus on this machine) in the `DataLoader` init to improve performance.\n",
      "  rank_zero_warn(\n"
     ]
    },
    {
     "name": "stdout",
     "output_type": "stream",
     "text": [
      "Testing DataLoader 0:   0%|                                                                                        | 0/1 [00:00<?, ?it/s]the shape of gtruth is torch.Size([1, 128, 160])\n",
      "max of gtruth is 1\n",
      "Testing DataLoader 0: 100%|████████████████████████████████████████████████████████████████████████████████| 1/1 [00:00<00:00, 24.19it/s]\n",
      "────────────────────────────────────────────────────────────────────────────────────────────────────────────────────────\n",
      "       Test metric             DataLoader 0\n",
      "────────────────────────────────────────────────────────────────────────────────────────────────────────────────────────\n",
      "      test_accuracy                 1.0\n",
      "         test_f1            0.21215376257896423\n",
      "      test_jaccard          0.20650112628936768\n",
      "        test_loss           0.7835779786109924\n",
      "────────────────────────────────────────────────────────────────────────────────────────────────────────────────────────\n"
     ]
    },
    {
     "data": {
      "text/plain": [
       "[{'test_loss': 0.7835779786109924,\n",
       "  'test_accuracy': 1.0,\n",
       "  'test_jaccard': 0.20650112628936768,\n",
       "  'test_f1': 0.21215376257896423}]"
      ]
     },
     "execution_count": 24,
     "metadata": {},
     "output_type": "execute_result"
    }
   ],
   "source": [
    "trainer.test(dataloaders=test_dl)"
   ]
  },
  {
   "cell_type": "markdown",
   "id": "6d8edb93-b83c-40e4-9be5-d88911206ce7",
   "metadata": {
    "tags": []
   },
   "source": [
    "### Inspecting prediction"
   ]
  },
  {
   "cell_type": "markdown",
   "id": "5427227a-4990-426c-87be-f883558df7ea",
   "metadata": {},
   "source": [
    "Automatically auto-loads the best weights from the previous run\n",
    "\n",
    "```\n",
    "predictions = trainer.predict(dataloaders=predict_dataloader)\n",
    "```\n",
    "Or call with pretrained model\n",
    "```\n",
    "model = MyLightningModule.load_from_checkpoint(PATH)\n",
    "trainer = Trainer()\n",
    "predictions = trainer.predict(model, dataloaders=test_dataloader)\n",
    "```"
   ]
  },
  {
   "cell_type": "code",
   "execution_count": 210,
   "id": "33b7262a-a411-42de-8378-cf7dc9073114",
   "metadata": {},
   "outputs": [],
   "source": [
    "dm.setup(stage=\"predict\")"
   ]
  },
  {
   "cell_type": "code",
   "execution_count": 211,
   "id": "dc7c1109-c4fe-47ad-8100-997fae235b69",
   "metadata": {},
   "outputs": [],
   "source": [
    "predict_dl = dm.predict_dataloader()"
   ]
  },
  {
   "cell_type": "code",
   "execution_count": 212,
   "id": "f8500ac1-342c-47ab-979e-e44afe8e012f",
   "metadata": {},
   "outputs": [],
   "source": [
    "# currently in my predict dataloader I have only the inputs\n",
    "# so below where I plot I pick the corresponding mask by hand\n",
    "\n",
    "for sample in predict_dl:\n",
    "    gtruth = sample[0]"
   ]
  },
  {
   "cell_type": "code",
   "execution_count": 213,
   "id": "be7f6090-e690-49c2-b139-affd75a0da5b",
   "metadata": {},
   "outputs": [
    {
     "data": {
      "text/plain": [
       "torch.Size([1, 128, 160])"
      ]
     },
     "execution_count": 213,
     "metadata": {},
     "output_type": "execute_result"
    }
   ],
   "source": [
    "gtruth.shape"
   ]
  },
  {
   "cell_type": "code",
   "execution_count": 214,
   "id": "79c5d914",
   "metadata": {},
   "outputs": [
    {
     "name": "stdout",
     "output_type": "stream",
     "text": [
      "Predicting DataLoader 0: 100%|██████████████████████████████████████████████████████████████████████████████████████| 1/1 [00:00<?, ?it/s]\n"
     ]
    }
   ],
   "source": [
    "test_predict = trainer.predict(model, predict_dl)"
   ]
  },
  {
   "cell_type": "code",
   "execution_count": 215,
   "id": "c5f8b897-3832-4cb6-9b6b-909cc1b82793",
   "metadata": {},
   "outputs": [
    {
     "data": {
      "text/plain": [
       "torch.Size([1, 128, 160])"
      ]
     },
     "execution_count": 215,
     "metadata": {},
     "output_type": "execute_result"
    }
   ],
   "source": [
    "test_predict[0].shape"
   ]
  },
  {
   "cell_type": "code",
   "execution_count": 218,
   "id": "8148ad2f-55b9-4bfa-b965-6cb6c69e1611",
   "metadata": {},
   "outputs": [],
   "source": [
    "pred = torch.squeeze(test_predict[0])"
   ]
  },
  {
   "cell_type": "markdown",
   "id": "51317c5f-65e0-4faf-a887-fd17cb610c55",
   "metadata": {},
   "source": [
    "## Compute jaccard score for prediction and ground truth"
   ]
  },
  {
   "cell_type": "code",
   "execution_count": 54,
   "id": "0b463081-16f0-4ea6-9d0b-a1f8bf694a1d",
   "metadata": {},
   "outputs": [],
   "source": [
    "from PIL import Image"
   ]
  },
  {
   "cell_type": "code",
   "execution_count": 55,
   "id": "a8fe98a1-a946-4c7b-91b1-5a8db53c0faf",
   "metadata": {},
   "outputs": [],
   "source": [
    "from src.evaluation import BinaryIoU"
   ]
  },
  {
   "cell_type": "code",
   "execution_count": 226,
   "id": "1c173852-43ba-4a28-9280-318ec233ea2d",
   "metadata": {},
   "outputs": [
    {
     "data": {
      "text/plain": [
       "torch.Size([128, 160])"
      ]
     },
     "execution_count": 226,
     "metadata": {},
     "output_type": "execute_result"
    }
   ],
   "source": [
    "pred.shape"
   ]
  },
  {
   "cell_type": "code",
   "execution_count": 227,
   "id": "a45fbd8e-860c-4615-a321-d0fa41536496",
   "metadata": {},
   "outputs": [],
   "source": [
    "gtruth = torch.squeeze(mask).int()"
   ]
  },
  {
   "cell_type": "code",
   "execution_count": 225,
   "id": "98c7ec91-3c77-4926-ac75-c8b788e9840c",
   "metadata": {},
   "outputs": [
    {
     "data": {
      "text/plain": [
       "torch.Size([1, 128, 160])"
      ]
     },
     "execution_count": 225,
     "metadata": {},
     "output_type": "execute_result"
    }
   ],
   "source": [
    "gtruth.shape"
   ]
  },
  {
   "cell_type": "code",
   "execution_count": 57,
   "id": "a2ae11f6-3b3f-4d75-8d74-fea850f3b00d",
   "metadata": {},
   "outputs": [],
   "source": [
    "from torchmetrics import Accuracy, MetricCollection, JaccardIndex, PrecisionRecallCurve"
   ]
  },
  {
   "cell_type": "code",
   "execution_count": 235,
   "id": "b0f29aea-f8f1-44f1-b28b-fe10ec110aae",
   "metadata": {},
   "outputs": [],
   "source": [
    "acc = Accuracy(num_classes=2)"
   ]
  },
  {
   "cell_type": "code",
   "execution_count": 236,
   "id": "8ad522ea-24d5-4f4f-8850-22d0de74ed22",
   "metadata": {},
   "outputs": [
    {
     "data": {
      "text/plain": [
       "tensor(0.8411)"
      ]
     },
     "execution_count": 236,
     "metadata": {},
     "output_type": "execute_result"
    }
   ],
   "source": [
    "acc(pred, gtruth)"
   ]
  },
  {
   "cell_type": "code",
   "execution_count": 221,
   "id": "5c3eb26e-82fc-4b94-b758-67f41be00cef",
   "metadata": {},
   "outputs": [
    {
     "data": {
      "text/plain": [
       "(-0.5, 159.5, 127.5, -0.5)"
      ]
     },
     "execution_count": 221,
     "metadata": {},
     "output_type": "execute_result"
    },
    {
     "data": {
      "image/png": "[encoded data removed]",
      "text/plain": [
       "<Figure size 1440x576 with 2 Axes>"
      ]
     },
     "metadata": {
      "needs_background": "light"
     },
     "output_type": "display_data"
    }
   ],
   "source": [
    "ncols = 2\n",
    "\n",
    "sample_n = 0\n",
    "\n",
    "fig, axs = plt.subplots(\n",
    "    nrows=1,\n",
    "    ncols=ncols,\n",
    "    figsize=(20, ncols * 4),\n",
    ")\n",
    "\n",
    "# msk = test_predict[0][sample_n, :, :]\n",
    "# msk = torch.squeeze(msk)\n",
    "axs[0].imshow(pred)\n",
    "axs[0].axis(\"off\")\n",
    "\n",
    "true_mask = torch.squeeze(mask)\n",
    "axs[1].imshow(true_mask)\n",
    "axs[1].axis(\"off\")\n",
    "\n",
    "\n",
    "# gtruth = Image.open(\"data/debug_segment/BinaryMask_22_47.tiff\")\n",
    "# axs[1].imshow(gtruth)\n",
    "\n",
    "# plt.savefig(\"data/plots/one_sample.jpg\")"
   ]
  },
  {
   "cell_type": "code",
   "execution_count": 17,
   "id": "cc62ae0d-a731-4ae4-9629-90293320b86f",
   "metadata": {},
   "outputs": [
    {
     "data": {
      "text/html": [
       "Waiting for W&B process to finish... <strong style=\"color:green\">(success).</strong>"
      ],
      "text/plain": [
       "<IPython.core.display.HTML object>"
      ]
     },
     "metadata": {},
     "output_type": "display_data"
    },
    {
     "data": {
      "text/html": [
       "<style>\n",
       "    table.wandb td:nth-child(1) { padding: 0 10px; text-align: left ; width: auto;} td:nth-child(2) {text-align: left ; width: 100%}\n",
       "    .wandb-row { display: flex; flex-direction: row; flex-wrap: wrap; justify-content: flex-start; width: 100% }\n",
       "    .wandb-col { display: flex; flex-direction: column; flex-basis: 100%; flex: 1; padding: 10px; }\n",
       "    </style>\n",
       "<div class=\"wandb-row\"><div class=\"wandb-col\"><h3>Run history:</h3><br/><table class=\"wandb\"><tr><td>epoch</td><td>▁▃▃▆▆█</td></tr><tr><td>train_accuracy</td><td>▁█▆</td></tr><tr><td>train_f1</td><td>▁▇█</td></tr><tr><td>train_jaccard</td><td>▁▇█</td></tr><tr><td>trainer/global_step</td><td>▁▁▁▃▃▃▃▃▃▃▃▃▃▂▂▂▆▆▆▆▆▆▆▆▆▆▂▃▃██</td></tr><tr><td>val_accuracy</td><td>█▁▁</td></tr><tr><td>val_f1</td><td>▁██</td></tr><tr><td>val_jaccard</td><td>▁██</td></tr><tr><td>val_loss_epoch</td><td>█▄▁</td></tr><tr><td>val_loss_step</td><td>▆▃█▃▂▇▁▁▆</td></tr></table><br/></div><div class=\"wandb-col\"><h3>Run summary:</h3><br/><table class=\"wandb\"><tr><td>epoch</td><td>3</td></tr><tr><td>train_accuracy</td><td>0.93263</td></tr><tr><td>train_f1</td><td>0.81525</td></tr><tr><td>train_jaccard</td><td>0.80211</td></tr><tr><td>trainer/global_step</td><td>32</td></tr><tr><td>val_accuracy</td><td>0.92033</td></tr><tr><td>val_f1</td><td>0.74278</td></tr><tr><td>val_jaccard</td><td>0.73895</td></tr><tr><td>val_loss_epoch</td><td>0.36473</td></tr><tr><td>val_loss_step</td><td>0.51645</td></tr></table><br/></div></div>"
      ],
      "text/plain": [
       "<IPython.core.display.HTML object>"
      ]
     },
     "metadata": {},
     "output_type": "display_data"
    },
    {
     "data": {
      "text/html": [
       "Synced <strong style=\"color:#cdcd00\">test_prediction_logging</strong>: <a href=\"https://wandb.ai/trees/Trees/runs/3qrod558\" target=\"_blank\">https://wandb.ai/trees/Trees/runs/3qrod558</a><br/>Synced 5 W&B file(s), 96 media file(s), 16 artifact file(s) and 0 other file(s)"
      ],
      "text/plain": [
       "<IPython.core.display.HTML object>"
      ]
     },
     "metadata": {},
     "output_type": "display_data"
    },
    {
     "data": {
      "text/html": [
       "Find logs at: <code>./wandb/run-20220629_164412-3qrod558/logs</code>"
      ],
      "text/plain": [
       "<IPython.core.display.HTML object>"
      ]
     },
     "metadata": {},
     "output_type": "display_data"
    }
   ],
   "source": [
    "wandb.finish()"
   ]
  },
  {
   "cell_type": "code",
   "execution_count": null,
   "id": "571879a2-24b6-47d2-8992-60d407e4e570",
   "metadata": {},
   "outputs": [],
   "source": []
  }
 ],
 "metadata": {
  "kernelspec": {
   "display_name": "torch",
   "language": "python",
   "name": "torch"
  },
  "language_info": {
   "codemirror_mode": {
    "name": "ipython",
    "version": 3
   },
   "file_extension": ".py",
   "mimetype": "text/x-python",
   "name": "python",
   "nbconvert_exporter": "python",
   "pygments_lexer": "ipython3",
   "version": "3.8.13"
  }
 },
 "nbformat": 4,
 "nbformat_minor": 5
}
